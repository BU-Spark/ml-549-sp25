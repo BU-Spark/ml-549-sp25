{
  "cells": [
    {
      "cell_type": "markdown",
      "metadata": {},
      "source": [
        "---\n",
        "jupyter: python3\n",
        "---\n",
        "\n",
        "## Introduction\n",
        "\n",
        "[![](https://colab.research.google.com/assets/colab-badge.svg)](https://colab.research.google.com/github/trgardos/ml-549-fa24/blob/main/15-pytorch-05-training.ipynb)\n",
        "\n",
        "Based on PyTorch [Optimizing Model Parameters](https://pytorch.org/tutorials/beginner/basics/optimization_tutorial.html)\n",
        "\n",
        "\n",
        "## Optimizing Model Parameters\n",
        "\n",
        "Now that we have a model and data it's time to train, validate and test\n",
        "our model by optimizing its parameters on our data. \n",
        "\n",
        "Training a model is an iterative process -- in each iteration:\n",
        "\n",
        "* the model makes a guess about the output, \n",
        "* calculates the error in its guess (*loss*), \n",
        "* collects the derivatives of the error with respect to its parameters (as we saw in\n",
        "the [previous section](14-pytorch-04-autograd.qmd)), and \n",
        "* **optimizes** these parameters using gradient descent. \n",
        "\n",
        "For a more detailed walkthrough of this process, check out this video on\n",
        "[backpropagation from 3Blue1Brown](https://www.youtube.com/watch?v=tIeHLnjs5U8).\n",
        "\n",
        "### Load Data and Define Model\n",
        "\n",
        "We load the code from the previous sections on [Datasets &\n",
        "DataLoaders](12-pytorch-02-dataloaders.qmd) and [Model Definition](13-pytorch-03-model-def.qmd).\n",
        "\n",
        "We'll use the CIFAR10 dataset again, which consists of 60000 32x32 color images\n",
        "in 10 classes, with 6000 images per class."
      ]
    },
    {
      "cell_type": "code",
      "metadata": {},
      "source": [
        "import torch\n",
        "from torch import nn\n",
        "from torch.utils.data import DataLoader\n",
        "from torchvision import datasets\n",
        "from torchvision.transforms import ToTensor\n",
        "\n",
        "training_data = datasets.CIFAR10(\n",
        "    root=\"data\",\n",
        "    train=True,\n",
        "    download=True,\n",
        "    transform=ToTensor()\n",
        ")\n",
        "\n",
        "test_data = datasets.CIFAR10(\n",
        "    root=\"data\",\n",
        "    train=False,\n",
        "    download=True,\n",
        "    transform=ToTensor()\n",
        ")\n",
        "\n",
        "train_dataloader = DataLoader(training_data, batch_size=64)\n",
        "test_dataloader = DataLoader(test_data, batch_size=64)"
      ],
      "execution_count": null,
      "outputs": []
    },
    {
      "cell_type": "markdown",
      "metadata": {},
      "source": [
        "Define the model."
      ]
    },
    {
      "cell_type": "code",
      "metadata": {},
      "source": [
        "class NeuralNetwork(nn.Module):\n",
        "    def __init__(self):\n",
        "        super().__init__()\n",
        "        self.flatten = nn.Flatten()\n",
        "        self.linear_relu_stack = nn.Sequential(\n",
        "            nn.Linear(3*32*32, 512),\n",
        "            nn.ReLU(),\n",
        "            nn.Linear(512, 512),\n",
        "            nn.ReLU(),\n",
        "            nn.Linear(512, 10),\n",
        "        )\n",
        "\n",
        "    def forward(self, x):\n",
        "        x = self.flatten(x)\n",
        "        logits = self.linear_relu_stack(x)\n",
        "        return logits"
      ],
      "execution_count": null,
      "outputs": []
    },
    {
      "cell_type": "markdown",
      "metadata": {},
      "source": [
        "Instantiate the model."
      ]
    },
    {
      "cell_type": "code",
      "metadata": {},
      "source": [
        "model = NeuralNetwork()"
      ],
      "execution_count": null,
      "outputs": []
    },
    {
      "cell_type": "markdown",
      "metadata": {},
      "source": [
        "## Hyperparameters\n",
        "\n",
        "## Hyperparameters\n",
        "\n",
        "Hyperparameters are adjustable parameters that let you control the model\n",
        "optimization process. \n",
        "\n",
        "Different hyperparameter values can impact model training and convergence rates.\n",
        "\n",
        "Read more about hyperparameter tuning with Raytune [here](https://pytorch.org/tutorials/beginner/hyperparameter_tuning_tutorial.html).\n",
        "\n",
        "We define the following hyperparameters for training:\n",
        "\n",
        "- **Number of Epochs** - the number times to iterate over the dataset\n",
        "- **Batch Size** - the number of data samples propagated through the network\n",
        "  before the parameters are updated\n",
        "- **Learning Rate** - how much to update models parameters at each batch/epoch.\n",
        "  - Smaller values yield slow learning speed but may get stuck in local minima, \n",
        "  - while large values may result in unpredictable behavior during training by\n",
        "    jumping around the solution space.\n",
        "\n",
        "We'll choose the following values:"
      ]
    },
    {
      "cell_type": "code",
      "metadata": {},
      "source": [
        "learning_rate = 1e-3\n",
        "batch_size = 64\n",
        "epochs = 5"
      ],
      "execution_count": null,
      "outputs": []
    },
    {
      "cell_type": "markdown",
      "metadata": {},
      "source": [
        "## Optimization Loop\n",
        "\n",
        "Once we set our hyperparameters, we can then train and optimize our\n",
        "model with an optimization loop. \n",
        "\n",
        "Each iteration of the optimization loop is called an **epoch**.\n",
        "\n",
        "Each epoch consists of two main parts:\n",
        "\n",
        "-   **The Train Loop** - iterate over the training dataset and try\n",
        "    to converge to optimal parameters.\n",
        "-   **The Validation/Test Loop** - iterate over the test dataset to\n",
        "    check if model performance is improving.\n",
        "\n",
        "Let's briefly familiarize ourselves with some of the concepts used in\n",
        "the training loop. \n",
        "\n",
        "### Loss Function\n",
        "\n",
        "When presented with some training data, our untrained network will not give the\n",
        "correct answer. \n",
        "\n",
        "**Loss functions** measure the degree of dissimilarity of obtained result to the\n",
        "target value, and it is the loss function that we want to minimize during training.\n",
        "\n",
        "To calculate the loss we make a prediction using the inputs of our given data\n",
        "sample and compare it against the true data label value.\n",
        "\n",
        "Common loss functions include\n",
        "\n",
        "- [nn.MSELoss](https://pytorch.org/docs/stable/generated/torch.nn.MSELoss.html#torch.nn.MSELoss) (Mean Square Error) for regression tasks, and\n",
        "- [nn.NLLLoss](https://pytorch.org/docs/stable/generated/torch.nn.NLLLoss.html#torch.nn.NLLLoss) (Negative Log Likelihood) for classification.\n",
        "- [nn.CrossEntropyLoss](https://pytorch.org/docs/stable/generated/torch.nn.CrossEntropyLoss.html#torch.nn.CrossEntropyLoss) combines `nn.LogSoftmax` and `nn.NLLLoss`.\n",
        "\n",
        "We pass our model's output logits to `nn.CrossEntropyLoss`, which will\n",
        "normalize the logits and compute the prediction error."
      ]
    },
    {
      "cell_type": "code",
      "metadata": {
        "collapsed": false
      },
      "source": [
        "# Initialize the loss function\n",
        "loss_fn = nn.CrossEntropyLoss()"
      ],
      "execution_count": null,
      "outputs": []
    },
    {
      "cell_type": "markdown",
      "metadata": {},
      "source": [
        "## Optimizer\n",
        "\n",
        "Optimization is the process of adjusting model parameters to reduce\n",
        "model error in each training step. \n",
        "\n",
        "**Optimization algorithms** define how this process is performed (in this\n",
        "example we use Stochastic Gradient Descent). \n",
        "\n",
        "All optimization logic is encapsulated in the `optimizer` object. \n",
        "\n",
        "Here, we use the SGD optimizer.\n",
        "\n",
        "There are many [different optimizers](https://pytorch.org/docs/stable/optim.html)\n",
        "available in PyTorch such as **ADAM** and **RMSProp**, that work better for\n",
        "different kinds of models and data.\n",
        "\n",
        "We initialize the optimizer by registering the model's parameters that\n",
        "need to be trained, and passing in the learning rate hyperparameter."
      ]
    },
    {
      "cell_type": "code",
      "metadata": {},
      "source": [
        "optimizer = torch.optim.SGD(model.parameters(), lr=learning_rate)"
      ],
      "execution_count": null,
      "outputs": []
    },
    {
      "cell_type": "markdown",
      "metadata": {},
      "source": [
        "Inside the training loop, optimization happens in three steps:\n",
        "\n",
        "-   Call `optimizer.zero_grad()` to reset the gradients of model\n",
        "    parameters. Gradients by default add up; to prevent\n",
        "    double-counting, we explicitly zero them at each iteration.\n",
        "-   Backpropagate the prediction loss with a call to\n",
        "    `loss.backward()`. PyTorch deposits the gradients of the loss\n",
        "    w.r.t. each parameter.\n",
        "-   Once we have our gradients, we call `optimizer.step()` to adjust\n",
        "    the parameters by the gradients collected in the backward pass.\n",
        "\n",
        "## Full Implementation\n",
        "\n",
        "We define:\n",
        "\n",
        "* `train_loop` that loops over all the data in batches and performs the\n",
        "  optimization code, and\n",
        "* `test_loop` that evaluates the model's performance against our test data."
      ]
    },
    {
      "cell_type": "code",
      "metadata": {},
      "source": [
        "def train_loop(dataloader, model, loss_fn, optimizer, device):\n",
        "    size = len(dataloader.dataset)\n",
        "    # Set the model to training mode - important for batch normalization and\n",
        "    # dropout layers. Unnecessary in this situation but added for best practices\n",
        "    model.train()\n",
        "    for batch, (X, y) in enumerate(dataloader):\n",
        "        # Compute prediction and loss\n",
        "        pred = model(X.to(device))\n",
        "        loss = loss_fn(pred, y.to(device))\n",
        "\n",
        "        # Backpropagation\n",
        "        loss.backward()\n",
        "        optimizer.step()\n",
        "\n",
        "        # BEWARE: We need to zero out the gradients after each iteration because\n",
        "        # PyTorch accumulates them by default.\n",
        "        optimizer.zero_grad()\n",
        "\n",
        "        if batch % 100 == 0:\n",
        "            loss, current = loss.item(), batch * batch_size + len(X)\n",
        "            print(f\"loss: {loss:>7f}  [{current:>5d}/{size:>5d}]\")\n",
        "\n",
        "    return loss.cpu().detach().numpy()\n",
        "\n",
        "\n",
        "def test_loop(dataloader, model, loss_fn, device):\n",
        "    # Set the model to evaluation mode - important for batch normalization and\n",
        "    # dropout layers. Unnecessary in this situation but added for best practices\n",
        "    model.eval()\n",
        "    size = len(dataloader.dataset)\n",
        "    num_batches = len(dataloader)\n",
        "    test_loss, correct = 0, 0\n",
        "\n",
        "    # Evaluating the model with torch.no_grad() ensures that no gradients are\n",
        "    # computed during test mode. Also serves to reduce unnecessary gradient\n",
        "    # computations and memory usage for tensors with requires_grad=True\n",
        "    with torch.no_grad():\n",
        "        for X, y in dataloader:\n",
        "            pred = model(X.to(device))\n",
        "            test_loss += loss_fn(pred, y.to(device)).item()\n",
        "            correct += (pred.argmax(1) == y.to(device)).type(torch.float).sum().item()\n",
        "\n",
        "    test_loss /= num_batches\n",
        "    correct /= size\n",
        "    print(f\"Test Error: \\n Accuracy: {(100*correct):>0.1f}%, Avg loss: {test_loss:>8f} \\n\")\n",
        "\n",
        "    return test_loss, correct"
      ],
      "execution_count": null,
      "outputs": []
    },
    {
      "cell_type": "markdown",
      "metadata": {},
      "source": [
        "Feel free to increase the number of epochs to track the model's improving\n",
        "performance."
      ]
    },
    {
      "cell_type": "code",
      "metadata": {},
      "source": [
        "learning_rate = 1e-3\n",
        "batch_size = 64\n",
        "epochs = 10"
      ],
      "execution_count": null,
      "outputs": []
    },
    {
      "cell_type": "markdown",
      "metadata": {},
      "source": [
        "We'll also check if there's a GPU available and set the device accordingly."
      ]
    },
    {
      "cell_type": "code",
      "metadata": {},
      "source": [
        "device = (\n",
        "    \"cuda\"\n",
        "    if torch.cuda.is_available()\n",
        "    else \"mps\"\n",
        "    if torch.backends.mps.is_available()\n",
        "    else \"cpu\"\n",
        ")\n",
        "print(f\"Using {device} device\")"
      ],
      "execution_count": null,
      "outputs": []
    },
    {
      "cell_type": "markdown",
      "metadata": {},
      "source": [
        "We initialize the loss function and optimizer, and pass it to\n",
        "`train_loop` and `test_loop` and accumulate train and test losses and test\n",
        "accuracy."
      ]
    },
    {
      "cell_type": "code",
      "metadata": {},
      "source": [
        "import time\n",
        "\n",
        "# We'll set the random seed for reproducibility of weight initialization\n",
        "torch.manual_seed(42)\n",
        "\n",
        "model = NeuralNetwork().to(device)\n",
        "loss_fn = nn.CrossEntropyLoss()\n",
        "optimizer = torch.optim.SGD(model.parameters(), lr=learning_rate)\n",
        "\n",
        "train_losses = []\n",
        "test_losses = []\n",
        "test_accuracies = []\n",
        "\n",
        "start_time = time.time()\n",
        "\n",
        "for t in range(epochs):\n",
        "    print(f\"Epoch {t+1}\\n-------------------------------\")\n",
        "    train_loss = train_loop(train_dataloader, model, loss_fn, optimizer, device)\n",
        "    test_loss, test_accuracy = test_loop(test_dataloader, model, loss_fn, device)\n",
        "    \n",
        "    train_losses.append(train_loss)\n",
        "    test_losses.append(test_loss)\n",
        "    test_accuracies.append(test_accuracy)\n",
        "\n",
        "print(f\"Done! Time taken: {time.time() - start_time:.2f} seconds\")"
      ],
      "execution_count": null,
      "outputs": []
    },
    {
      "cell_type": "markdown",
      "metadata": {},
      "source": [
        "Finally, we plot the train and test losses and test accuracy."
      ]
    },
    {
      "cell_type": "code",
      "metadata": {},
      "source": [
        "import matplotlib.pyplot as plt\n",
        "\n",
        "# Plotting the results\n",
        "epochs_range = range(1, epochs + 1)\n",
        "plt.figure(figsize=(12, 4))\n",
        "\n",
        "plt.subplot(1, 2, 1)\n",
        "plt.plot(epochs_range, train_losses, label='Train Loss')\n",
        "plt.plot(epochs_range, test_losses, label='Test Loss')\n",
        "plt.xlabel('Epochs')\n",
        "plt.ylabel('Loss')\n",
        "plt.title('Train and Test Loss')\n",
        "plt.legend()\n",
        "\n",
        "plt.subplot(1, 2, 2)\n",
        "plt.plot(epochs_range, test_accuracies, label='Test Accuracy')\n",
        "plt.xlabel('Epochs')\n",
        "plt.ylabel('Accuracy')\n",
        "plt.title('Test Accuracy')\n",
        "plt.legend()\n",
        "\n",
        "plt.tight_layout()\n",
        "plt.show()"
      ],
      "execution_count": null,
      "outputs": []
    },
    {
      "cell_type": "markdown",
      "metadata": {},
      "source": [
        "It's curious that the test loss is lower than the train loss and that the train\n",
        "loss stops decreasing around epoch 6.\n",
        "\n",
        "**Challenge:** Play around with the hyperparameters and see if you can get\n",
        "training loss lower than the test loss and continue to decrease.\n",
        "\n",
        "## Further Reading\n",
        "\n",
        "- [Loss Functions](https://pytorch.org/docs/stable/nn.html#loss-functions)\n",
        "- [torch.optim](https://pytorch.org/docs/stable/optim.html)\n",
        "- [Warmstart Training a Model](https://pytorch.org/tutorials/recipes/recipes/warmstarting_model_using_parameters_from_a_different_model.html)\n"
      ]
    }
  ],
  "metadata": {
    "kernelspec": {
      "name": "python3",
      "language": "python",
      "display_name": "Python 3 (ipykernel)",
      "path": "/Users/tomg/Source/courses/ds549/ml-549-fa24/.venv/share/jupyter/kernels/python3"
    }
  },
  "nbformat": 4,
  "nbformat_minor": 4
}