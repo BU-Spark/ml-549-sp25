{
  "cells": [
    {
      "cell_type": "markdown",
      "metadata": {},
      "source": [
        "---\n",
        "title: PyTorch 03 - Model Definition\n",
        "jupyter: python3\n",
        "---\n",
        "\n",
        "## Introduction\n",
        "\n",
        "[![](https://colab.research.google.com/assets/colab-badge.svg)](https://colab.research.google.com/github/trgardos/ml-549-fa24/blob/main/13-pytorch-03-model-def.ipynb)\n",
        "\n",
        "Based on PyTorch [Build Model Tutorial](https://pytorch.org/tutorials/beginner/basics/buildmodel_tutorial.html).\n",
        "\n",
        "\n",
        "## Build the Neural Network\n",
        "\n",
        "Neural networks comprise of layers/modules that perform operations on\n",
        "data. \n",
        "\n",
        "The [torch.nn](https://pytorch.org/docs/stable/nn.html) namespace\n",
        "provides all the building blocks you need to build your own neural\n",
        "network. \n",
        "\n",
        "Every module in PyTorch subclasses the\n",
        "[nn.Module](https://pytorch.org/docs/stable/generated/torch.nn.Module.html).\n",
        "\n",
        "A neural network is a module itself that consists of other modules\n",
        "(layers). This nested structure allows for building and managing complex\n",
        "architectures easily.\n",
        "\n",
        "In the following sections, we'll build a neural network to classify\n",
        "images in the **CIFAR-10** dataset."
      ]
    },
    {
      "cell_type": "code",
      "metadata": {},
      "source": [
        "#| code-fold: true\n",
        "import os\n",
        "import torch\n",
        "from torch import nn\n",
        "from torch.utils.data import DataLoader\n",
        "from torchvision import datasets, transforms"
      ],
      "execution_count": null,
      "outputs": []
    },
    {
      "cell_type": "markdown",
      "metadata": {},
      "source": [
        "## Get Device for Training\n",
        "\n",
        "We want to be able to train our model on a hardware accelerator like the\n",
        "GPU or MPS, if available. \n",
        "\n",
        "Let's check to see if\n",
        "\n",
        "* [torch.cuda](https://pytorch.org/docs/stable/notes/cuda.html) or\n",
        "* [torch.backends.mps](https://pytorch.org/docs/stable/notes/mps.html) \n",
        "\n",
        "are available, otherwise we use the CPU."
      ]
    },
    {
      "cell_type": "code",
      "metadata": {},
      "source": [
        "#| code-fold: false\n",
        "device = (\n",
        "    \"cuda\"\n",
        "    if torch.cuda.is_available()\n",
        "    else \"mps\"\n",
        "    if torch.backends.mps.is_available()\n",
        "    else \"cpu\"\n",
        ")\n",
        "print(f\"Using {device} device\")"
      ],
      "execution_count": null,
      "outputs": []
    },
    {
      "cell_type": "markdown",
      "metadata": {},
      "source": [
        "## Define the Class\n",
        "\n",
        "We define our neural network by subclassing `nn.Module`, and initialize the\n",
        "neural network layers in `__init__`. \n",
        "\n",
        "Every `nn.Module` subclass implements the operations on input data in the `forward` method."
      ]
    },
    {
      "cell_type": "code",
      "metadata": {},
      "source": [
        "#| code-fold: false\n",
        "class NeuralNetwork(nn.Module):\n",
        "    def __init__(self):\n",
        "        super().__init__()\n",
        "        self.flatten = nn.Flatten()\n",
        "        self.linear_relu_stack = nn.Sequential(\n",
        "            nn.Linear(3*32*32, 512),\n",
        "            nn.ReLU(),\n",
        "            nn.Linear(512, 512),\n",
        "            nn.ReLU(),\n",
        "            nn.Linear(512, 10),\n",
        "        )\n",
        "\n",
        "    def forward(self, x):\n",
        "        x = self.flatten(x)\n",
        "        logits = self.linear_relu_stack(x)\n",
        "        return logits"
      ],
      "execution_count": null,
      "outputs": []
    },
    {
      "cell_type": "markdown",
      "metadata": {},
      "source": [
        "We create an instance of `NeuralNetwork`, and move it to the `device`,\n",
        "and print its structure."
      ]
    },
    {
      "cell_type": "code",
      "metadata": {},
      "source": [
        "#| code-fold: false\n",
        "model = NeuralNetwork().to(device)\n",
        "print(model)"
      ],
      "execution_count": null,
      "outputs": []
    },
    {
      "cell_type": "markdown",
      "metadata": {},
      "source": [
        "Keras has a nicer way to print the model architecture. To do something similar ::: {.incremental}\n",
        "PyTorch, you can use `torchinfo` package."
      ]
    },
    {
      "cell_type": "code",
      "metadata": {},
      "source": [
        "#| code-fold: false\n",
        "from torchinfo import summary\n",
        "summary(model, input_size=(1, 3, 32, 32))"
      ],
      "execution_count": null,
      "outputs": []
    },
    {
      "cell_type": "code",
      "metadata": {},
      "source": [
        "# the torchinfo package seems to move the model to the CPU so reinitializing\n",
        "model = NeuralNetwork().to(device)"
      ],
      "execution_count": null,
      "outputs": []
    },
    {
      "cell_type": "markdown",
      "metadata": {},
      "source": [
        "To use the model, we pass it the input data. \n",
        "\n",
        "This executes the model's `forward`.\n",
        "\n",
        "::: {.callout-caution}\n",
        "Do not call `model.forward()` directly!\n",
        ":::\n",
        "\n",
        "Calling the model on the input returns a $1\\times10$ tensor\n",
        "corresponding to each output of 10 raw predicted values for each class\n",
        "\n",
        "We get the prediction probabilities by passing it through an instance of the\n",
        "`nn.Softmax` module."
      ]
    },
    {
      "cell_type": "code",
      "metadata": {},
      "source": [
        "#| code-fold: false\n",
        "from utils import tensor_to_latex\n",
        "from IPython.display import display, Math\n",
        "\n",
        "X = torch.rand(1, 3, 32, 32, device=device)\n",
        "logits = model(X)\n",
        "# print(f\"Logits: {logits.T}\")\n",
        "\n",
        "pred_probab = nn.Softmax(dim=1)(logits)\n",
        "# print(f\"\\nPredicted probabilities: {pred_probab.T}\")\n",
        "\n",
        "y_pred = pred_probab.argmax(1)\n",
        "print(f\"\\nPredicted class: {y_pred}\")"
      ],
      "execution_count": null,
      "outputs": []
    },
    {
      "cell_type": "code",
      "metadata": {},
      "source": [
        "#| echo: false\n",
        "from utils import tensor_to_latex\n",
        "from IPython.display import display, Math\n",
        "\n",
        "latex_logits = tensor_to_latex(logits.T)\n",
        "latex_pred_probab = tensor_to_latex(pred_probab.T)\n",
        "\n",
        "display(Math(f\"\\\\mathrm{{logits}} = {latex_logits}, \\\\quad \\\\mathrm{{pred\\\\_probab}} = {latex_pred_probab}\"))"
      ],
      "execution_count": null,
      "outputs": []
    },
    {
      "cell_type": "markdown",
      "metadata": {},
      "source": [
        "Note that we had to set the batch size to 1 on the input, e.g. a $1\\times3\\times32\\times32$ tensor.\n",
        "\n",
        "That's because nn.Flatten is batch aware, i.e. it flattens each image in the batch individually.\n",
        "\n",
        "## Model Layers\n",
        "\n",
        "Let's break down the layers in the CIFAR-10 model. To illustrate\n",
        "it, we will take a sample minibatch of 5 images of size 32x32 and see\n",
        "what happens to it as we pass it through the network."
      ]
    },
    {
      "cell_type": "code",
      "metadata": {},
      "source": [
        "#| code-fold: false\n",
        "input_image = torch.rand(5,3,32,32)\n",
        "print(input_image.size())"
      ],
      "execution_count": null,
      "outputs": []
    },
    {
      "cell_type": "markdown",
      "metadata": {},
      "source": [
        "### nn.Flatten\n",
        "\n",
        "We initialize the\n",
        "[nn.Flatten](https://pytorch.org/docs/stable/generated/torch.nn.Flatten.html)\n",
        "layer to convert each 2D 3x32x32 image into a contiguous array of 3072\n",
        "pixel values ( the minibatch dimension (at dim=0) is maintained)."
      ]
    },
    {
      "cell_type": "code",
      "metadata": {},
      "source": [
        "#| code-fold: false\n",
        "flatten = nn.Flatten()\n",
        "flat_image = flatten(input_image)\n",
        "print(flat_image.size())"
      ],
      "execution_count": null,
      "outputs": []
    },
    {
      "cell_type": "markdown",
      "metadata": {},
      "source": [
        "### nn.Linear\n",
        "\n",
        "The [linear\n",
        "layer](https://pytorch.org/docs/stable/generated/torch.nn.Linear.html)\n",
        "is a module that applies a linear transformation on the input using its\n",
        "stored weights and biases."
      ]
    },
    {
      "cell_type": "code",
      "metadata": {
        "collapsed": false
      },
      "source": [
        "layer1 = nn.Linear(in_features=3*32*32, out_features=20)\n",
        "hidden1 = layer1(flat_image)\n",
        "print(hidden1.size())"
      ],
      "execution_count": null,
      "outputs": []
    },
    {
      "cell_type": "markdown",
      "metadata": {},
      "source": [
        "### nn.ReLU\n",
        "\n",
        "Non-linear activations are what create the complex mappings between the\n",
        "model's inputs and outputs. \n",
        "\n",
        "They are applied after linear transformations to introduce *nonlinearity*,\n",
        "helping neural networks learn a wide variety of phenomena.\n",
        "\n",
        "Without non-linear activations, the model would just be a linear\n",
        "function.\n",
        "\n",
        "Later we'll see that adding non-linearities make neural networks **\"Universal Approximators\"**.\n",
        "\n",
        "In this model, we use\n",
        "[nn.ReLU](https://pytorch.org/docs/stable/generated/torch.nn.ReLU.html)\n",
        "between our linear layers, but there are other activations to introduce\n",
        "non-linearity in your model.\n",
        "\n",
        "The ReLU activation function is defined as $ReLU(x) = \\max(0, x)$."
      ]
    },
    {
      "cell_type": "code",
      "metadata": {},
      "source": [
        "#| code-fold: true\n",
        "import matplotlib.pyplot as plt\n",
        "import numpy as np\n",
        "\n",
        "# Generate values between -5 and 5\n",
        "x = np.linspace(-5, 5, 100)\n",
        "\n",
        "# Apply ReLU function\n",
        "tensor_x = torch.tensor(x)\n",
        "tensor_y = nn.ReLU()(tensor_x)\n",
        "y = tensor_y.numpy()\n",
        "\n",
        "# or equivalently\n",
        "# y = nn.ReLU()(torch.tensor(x)).numpy()\n",
        "\n",
        "# Plot the ReLU function\n",
        "plt.figure(figsize=(8, 6))\n",
        "plt.plot(x, y, label=\"ReLU(x)\")\n",
        "plt.title(\"ReLU Activation Function\")\n",
        "plt.xlabel(\"Input\")\n",
        "plt.ylabel(\"Output\")\n",
        "plt.legend()\n",
        "plt.grid(True)\n",
        "plt.show()"
      ],
      "execution_count": null,
      "outputs": []
    },
    {
      "cell_type": "code",
      "metadata": {},
      "source": [
        "#| code-fold: false\n",
        "print(f\"Before ReLU: {hidden1}\\n\\n\")\n",
        "hidden1 = nn.ReLU()(hidden1)\n",
        "print(f\"After ReLU: {hidden1}\")"
      ],
      "execution_count": null,
      "outputs": []
    },
    {
      "cell_type": "markdown",
      "metadata": {},
      "source": [
        "### nn.Sequential\n",
        "\n",
        "[nn.Sequential](https://pytorch.org/docs/stable/generated/torch.nn.Sequential.html)\n",
        "is an ordered container of modules. \n",
        "\n",
        "The data is passed through all the modules in the same order as defined.\n",
        "You can use sequential containers to put together a quick network like\n",
        "`seq_modules`."
      ]
    },
    {
      "cell_type": "code",
      "metadata": {},
      "source": [
        "#| code-fold: false\n",
        "seq_modules = nn.Sequential(\n",
        "    flatten,\n",
        "    layer1,\n",
        "    nn.ReLU(),\n",
        "    nn.Linear(20, 10)\n",
        ")\n",
        "input_image = torch.rand(5,3,32,32)\n",
        "logits = seq_modules(input_image)"
      ],
      "execution_count": null,
      "outputs": []
    },
    {
      "cell_type": "markdown",
      "metadata": {},
      "source": [
        "### nn.Softmax\n",
        "\n",
        "The last linear layer of the neural network returns _logits_\n",
        "- raw values in $-\\infty, \\infty$ - which are passed to the\n",
        "[nn.Softmax](https://pytorch.org/docs/stable/generated/torch.nn.Softmax.html)\n",
        "module. \n",
        "\n",
        "The logits are scaled to values $[0, 1]$ representing the\n",
        "model's predicted probabilities for each class. `dim` parameter\n",
        "indicates the dimension along which the values must sum to 1."
      ]
    },
    {
      "cell_type": "code",
      "metadata": {},
      "source": [
        "#| code-fold: false\n",
        "softmax = nn.Softmax(dim=1)\n",
        "pred_probab = softmax(logits)"
      ],
      "execution_count": null,
      "outputs": []
    },
    {
      "cell_type": "markdown",
      "metadata": {},
      "source": [
        "## Model Parameters\n",
        "\n",
        "Many layers inside a neural network are *parameterized*, i.e. have\n",
        "associated weights and biases that are optimized during training.\n",
        "\n",
        "Subclassing `nn.Module` automatically tracks all fields defined inside\n",
        "your model object, and makes all parameters accessible using your\n",
        "model's `parameters()` or `named_parameters()` methods.\n",
        "\n",
        "In this example, we iterate over each parameter, and print its size and\n",
        "a preview of its values."
      ]
    },
    {
      "cell_type": "code",
      "metadata": {},
      "source": [
        "#| code-fold: false\n",
        "print(f\"Model structure: {model}\\n\\n\")\n",
        "\n",
        "for name, param in model.named_parameters():\n",
        "    print(f\"Layer: {name} | Size: {param.size()}\") # | Values : {param[:2]} \\n\")"
      ],
      "execution_count": null,
      "outputs": []
    },
    {
      "cell_type": "markdown",
      "metadata": {},
      "source": [
        "We can count the sizes of the matrices and vectors to verify that the\n",
        "number of parameters in the model agrees with the summary printed earlier."
      ]
    },
    {
      "cell_type": "code",
      "metadata": {},
      "source": [
        "print(f\"{512*3072 + 512 + 512*512 + 512 + 512*10 + 10:,}\")"
      ],
      "execution_count": null,
      "outputs": []
    },
    {
      "cell_type": "markdown",
      "metadata": {},
      "source": [
        "## Further Reading\n",
        "\n",
        "-   [torch.nn API](https://pytorch.org/docs/stable/nn.html)\n"
      ]
    }
  ],
  "metadata": {
    "kernelspec": {
      "name": "python3",
      "language": "python",
      "display_name": "Python 3 (ipykernel)",
      "path": "/Users/tomg/Source/courses/ds549/ml-549-fa24/.venv/share/jupyter/kernels/python3"
    }
  },
  "nbformat": 4,
  "nbformat_minor": 4
}