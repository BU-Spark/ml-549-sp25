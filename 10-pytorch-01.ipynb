{
  "cells": [
    {
      "cell_type": "markdown",
      "metadata": {},
      "source": [
        "---\n",
        "title: Introduction to PyTorch, Part 1\n",
        "jupyter: python3\n",
        "---\n",
        "\n",
        "## ![](assets/images/pytorch/pytorch.svg){height=\"48px\"} PyTorch Introduction\n",
        "\n",
        "[![](https://colab.research.google.com/assets/colab-badge.svg)](https://colab.research.google.com/github/trgardos/ml-549-fa24/blob/main/_notebooks/10-pytorch-01.ipynb)\n",
        "\n",
        "[PyTorch](https://pytorch.org/) is an open-source machine learning library developed by Facebook's AI Research lab. \n",
        "\n",
        "It is widely used for deep learning tasks, particularly in the field of natural language processing (NLP) and computer vision. \n",
        "\n",
        "Started at Facebook AI Research (FAIR), now _Fundamntal AI Research_, to build a consolidated tool for deep learning tasks.\n",
        "\n",
        "* 2015 there was Theano (Montreal) Caffe (Berkeley) and Lua Torch (FAIR).\n",
        "* 2015 December, Google released TensorFlow\n",
        "* ~2016 Released Caffe2 for targeting mobile and edge devices (Facebook Production)\n",
        "* 2015-2016 FAIR refactored Torch to separate computation backend from frontend and create a new frontend in Pythyon\n",
        "    * the core library is still called `torch`\n",
        "* Sep 2016 PyTorch v0.1.1 released (`torch.nn` and `torch.autograd` modules)\n",
        "* Dec 2018 PyTorch v1.0 released (Replace Caffe2 for FB production)\n",
        "* Mar 15 2023 PyTorch v2.0 released (dynamic shapes, distributed training, Transformers support, etc.)\n",
        "* (Latest Release)Aug 2024 PyTorch 2.4.1 \n",
        "\n",
        "## Key Features of PyTorch\n",
        "\n",
        "1. **Dynamic Computation Graph**: PyTorch's dynamic computation graph allows for more intuitive and flexible model \n",
        "   building. This means that the graph is constructed at runtime, allowing for more dynamic and interactive model \n",
        "   development.\n",
        "\n",
        "2. **GPU and TPU Acceleration**: PyTorch can leverage GPUs and TPUs for accelerated training, making it faster than many \n",
        "   other deep learning frameworks.\n",
        "\n",
        "3. **Autograd**: PyTorch's autograd module provides automatic differentiation, which allows for easy computation of \n",
        "   gradients and updates to model parameters during training.\n",
        "\n",
        "4. **High-Level API**: PyTorch has a high-level API that allows for easy model building and training. It also has a low-level \n",
        "   API that provides more control over the model building process.\n",
        "\n",
        "## PyTorch vs TensorFlow\n",
        "\n",
        "\n",
        "::: {layout-ncol=\"2\"}\n",
        "\n",
        "![](assets/images/pytorch/num_hf_models_2023.png)\n",
        "\n",
        "![](assets/images/pytorch/Fraction-of-Papers-Using-PyTorch-vs.-TensorFlow.png)\n",
        "\n",
        "![](assets/images/pytorch/percentage_repo_2023.png)\n",
        "\n",
        ":::\n",
        "\n",
        "From [https://www.assemblyai.com/blog/pytorch-vs-tensorflow-in-2023/](https://www.assemblyai.com/blog/pytorch-vs-tensorflow-in-2023/).\n",
        "\n",
        "## Key Differences\n",
        "\n",
        ":::: {.columns}\n",
        "::: {.column width=\"50%\"}\n",
        "\n",
        "### PyTorch\n",
        "\n",
        "* Dynamic Computation Graph\n",
        "* Autograd\n",
        "* High-Level API\n",
        "* Arguably more \"pythonic\"\n",
        "\n",
        ":::\n",
        "::: {.column width=\"50%\"}\n",
        "\n",
        "### TensorFlow\n",
        "\n",
        "* Static Computation Graph\n",
        "* Eager Execution\n",
        "* Low-Level API (high-level API is Keras)\n",
        "\n",
        ":::\n",
        "::::\n",
        "\n",
        "## Tutorial\n",
        "\n",
        "We'll borrow heavily from [https://pytorch.org/tutorials/](https://pytorch.org/tutorials/)\n",
        "and other sources that we'll cite.\n",
        "\n",
        "## Tensors\n",
        "\n",
        "Fundamentally, PyTorch [tensor](https://pytorch.org/docs/stable/generated/torch.tensor.html) is a data structure for\n",
        "storing matrices and multi-dimensional arrays.\n",
        "\n",
        "Similar to NumPy's ndarrays.\n",
        "\n",
        "But it does much more.\n",
        "\n",
        "* Manages translation to accelerator data formats and hardware memory\n",
        "* Stores information needed for _automatic gradient_ (autograd) calculation for parameter updates\n",
        "* etc..."
      ]
    },
    {
      "cell_type": "code",
      "metadata": {},
      "source": [
        "import torch\n",
        "import numpy as np"
      ],
      "execution_count": null,
      "outputs": []
    },
    {
      "cell_type": "markdown",
      "metadata": {},
      "source": [
        "### Tensor Creation\n",
        "\n",
        "We have to get data into PyTorch tensors before we can operate on them.\n",
        "\n",
        "There are multiple ways to do that.\n",
        "\n",
        "**Create directly from a Python list such as this one:**"
      ]
    },
    {
      "cell_type": "code",
      "metadata": {},
      "source": [
        "data = [[1, 2], [2, 3]]\n",
        "print(f\"data: {data}\")\n",
        "print(f\"type(data): {type(data)}\")"
      ],
      "execution_count": null,
      "outputs": []
    },
    {
      "cell_type": "markdown",
      "metadata": {},
      "source": [
        "**Create the tensor and explore some of its attributes.**"
      ]
    },
    {
      "cell_type": "code",
      "metadata": {},
      "source": [
        "x_data = torch.tensor(data)\n",
        "print(f\"x_data: {x_data}\")\n",
        "print(f\"type(x_data): {type(x_data)}\")\n",
        "print(f\"x_data.dtype: {x_data.dtype}\")\n",
        "print(f\"x_data.shape: {x_data.shape}\")\n",
        "print(f\"x_data.device: {x_data.device}\")\n",
        "print(f\"x_data.requires_grad: {x_data.requires_grad}\")\n",
        "print(f\"x_data.is_leaf: {x_data.is_leaf}\")"
      ],
      "execution_count": null,
      "outputs": []
    },
    {
      "cell_type": "markdown",
      "metadata": {},
      "source": [
        "As mentioned, some of the interesting attributes are:\n",
        "\n",
        "* `x_data.device`: The device where the tensor is stored.\n",
        "* `x_data.requires_grad`: Whether the tensor requires gradient computation.\n",
        "* `x_data.is_leaf`: Whether the tensor is a leaf node in the computation graph.\n",
        "\n",
        "We'll get more into these later.\n",
        "\n",
        "If we use decimal numbers, then a floating point number type is chosen."
      ]
    },
    {
      "cell_type": "code",
      "metadata": {},
      "source": [
        "y_data = torch.tensor([[0.1, 1.2], [2.2, 3.1]])\n",
        "print(f\"y_data: {y_data}\")\n",
        "print(f\"y_data.dtype: {y_data.dtype}\")\n",
        "print(f\"y_data.device: {y_data.device}\")"
      ],
      "execution_count": null,
      "outputs": []
    },
    {
      "cell_type": "markdown",
      "metadata": {},
      "source": [
        "**From a NumPy array**"
      ]
    },
    {
      "cell_type": "code",
      "metadata": {},
      "source": [
        "np_array = np.array(data)\n",
        "x_np = torch.from_numpy(np_array)"
      ],
      "execution_count": null,
      "outputs": []
    },
    {
      "cell_type": "markdown",
      "metadata": {},
      "source": [
        "**As the same shape of another tensor**"
      ]
    },
    {
      "cell_type": "code",
      "metadata": {},
      "source": [
        "x_ones = torch.ones_like(x_data) # retains the properties of x_data\n",
        "print(f\"Ones Tensor: \\n {x_ones} \\n\")\n",
        "\n",
        "x_rand = torch.rand_like(x_data, dtype=torch.float) # overrides the datatype of x_data\n",
        "print(f\"Random Tensor: \\n {x_rand} \\n\")"
      ],
      "execution_count": null,
      "outputs": []
    },
    {
      "cell_type": "markdown",
      "metadata": {},
      "source": [
        "**With random or constant values**"
      ]
    },
    {
      "cell_type": "code",
      "metadata": {},
      "source": [
        "shape = (2,3)\n",
        "rand_tensor = torch.rand(shape)\n",
        "ones_tensor = torch.ones(shape)\n",
        "zeros_tensor = torch.zeros(shape)\n",
        "\n",
        "print(f\"Random Tensor: \\n {rand_tensor} \\n\")\n",
        "print(f\"Ones Tensor: \\n {ones_tensor} \\n\")\n",
        "print(f\"Zeros Tensor: \\n {zeros_tensor}\")"
      ],
      "execution_count": null,
      "outputs": []
    },
    {
      "cell_type": "markdown",
      "metadata": {},
      "source": [
        "::: {.callout-tip}\n",
        "There are many more creation functions listed in [Creation Ops](https://pytorch.org/docs/stable/torch.html#creation-ops)\n",
        "for things like sparse tensors, other random number generators, etc.\n",
        ":::\n",
        "\n",
        "### Operations on Tensors\n",
        "\n",
        "Let's look at some interesting operations we can perform on tensors.\n",
        "\n",
        "#### Standard numpy-like indexing and slicing\n",
        "\n",
        "Python itself has some flexible indexing and slicing support. See this\n",
        "[tutorial](https://railsware.com/blog/indexing-and-slicing-for-lists-tuples-strings-sequential-types/)\n",
        "for a nice overview.\n",
        "\n",
        "PyTorch follows the NumPy [indexing and slicing](https://numpy.org/doc/stable/user/basics.indexing.html)\n",
        "conventions."
      ]
    },
    {
      "cell_type": "code",
      "metadata": {},
      "source": [
        "# Define a 4x4 tensor\n",
        "tensor = torch.tensor([[1, 2, 3, 4], [5, 6, 7, 8], [9, 10, 11, 12], [13, 14, 15, 16]], dtype=torch.float32)\n",
        "#tensor = torch.ones(4, 4)\n",
        "print(f\"tensor.dtype: {tensor.dtype}\")\n",
        "\n",
        "# Matrices are stored in row-major order, and like NumPy, it is a list of lists.\n",
        "print(f\"First row: {tensor[0]}\")\n",
        "print(f\"Second row: {tensor[1]}\")\n",
        "\n",
        "# Like python we use `:` to index and slice\n",
        "print(f\"First column: {tensor[:, 0]}\")\n",
        "print(f\"Second column: {tensor[:, 1]}\")\n",
        "\n",
        "# Slicing with `...` is a shortcut for \"all remaining dimensions\"\n",
        "print(f\"Last column: {tensor[..., -1]}\")\n",
        "print(f\"Last column: {tensor[:, -1]}\")\n",
        "\n",
        "# There is also broadcasting support\n",
        "tensor[:,1] = 0\n",
        "print(tensor)"
      ],
      "execution_count": null,
      "outputs": []
    },
    {
      "cell_type": "markdown",
      "metadata": {},
      "source": [
        "#### Joining tensors\n",
        "\n",
        "You can use `torch.cat` to concatenate a sequence of\n",
        "tensors along a given dimension. See also\n",
        "[torch.stack](https://pytorch.org/docs/stable/generated/torch.stack.html),\n",
        "another tensor joining operator that is subtly different from\n",
        "`torch.cat`."
      ]
    },
    {
      "cell_type": "code",
      "metadata": {
        "collapsed": false
      },
      "source": [
        "t1 = torch.cat([tensor, tensor, tensor], dim=1)\n",
        "print(t1)"
      ],
      "execution_count": null,
      "outputs": []
    },
    {
      "cell_type": "code",
      "metadata": {},
      "source": [
        "t2 = torch.cat([tensor, tensor, tensor], dim=0)\n",
        "print(t2)"
      ],
      "execution_count": null,
      "outputs": []
    },
    {
      "cell_type": "markdown",
      "metadata": {},
      "source": [
        "### Matrix Multiplication\n",
        "\n",
        "Matrix multiplication is a fundamental operation in deep learning and PyTorch provides a number of ways to perform it.\n",
        "\n",
        "#### Equivalent matrix multiplication operations\n",
        "\n",
        "There are three different ways shown below."
      ]
    },
    {
      "cell_type": "code",
      "metadata": {
        "collapsed": false
      },
      "source": [
        "# This computes the matrix multiplication between two tensors. y1, y2, y3 will have the same value\n",
        "\n",
        "# ``tensor.T`` returns the transpose of a tensor\n",
        "\n",
        "# Method 1: Use the '@' matrix multiplication operator\n",
        "y1 = tensor @ tensor.T\n",
        "print(f\"y1: {y1}\")\n",
        "\n",
        "# Method 2: call `.matmul` method on the tensor\n",
        "y2 = tensor.matmul(tensor.T)\n",
        "print(f\"y2: {y2}\")"
      ],
      "execution_count": null,
      "outputs": []
    },
    {
      "cell_type": "code",
      "metadata": {},
      "source": [
        "# This creates a new tensor with the same shape and type as y1, filled with random numbers from a uniform distribution over [0, 1)\n",
        "y3 = torch.rand_like(y1)\n",
        "print(f\"y3: {y3}\")\n",
        "\n",
        "# Method 3: Call the `torch.matmul` function with the two input operands and the output tensor.\n",
        "torch.matmul(tensor, tensor.T, out=y3)\n",
        "print(f\"y3: {y3}\")"
      ],
      "execution_count": null,
      "outputs": []
    },
    {
      "cell_type": "markdown",
      "metadata": {},
      "source": [
        "There is additional behavior depending on the dimensionality of the tensors.\n",
        "\n",
        "#### Vector Dot Product\n",
        "\n",
        "If both tensors are 1-D, then the **vector dot product** is performed."
      ]
    },
    {
      "cell_type": "code",
      "metadata": {},
      "source": [
        "# vector x vector\n",
        "tensor1 = torch.randn(3)\n",
        "tensor2 = torch.randn(3)\n",
        "print(f\"tensor1: {tensor1} and tensor2: {tensor2}\")\n",
        "\n",
        "tensor3 = torch.matmul(tensor1, tensor2)\n",
        "print(f\"tensor3: {tensor3}\")\n",
        "print(f\"tensor3.size(): {tensor3.size()}\")"
      ],
      "execution_count": null,
      "outputs": []
    },
    {
      "cell_type": "markdown",
      "metadata": {},
      "source": [
        "So with 1-D tensors, `torch.matmul` and `torch.dot` are equivalent."
      ]
    },
    {
      "cell_type": "code",
      "metadata": {},
      "source": [
        "tensor3 = torch.dot(tensor1, tensor2)\n",
        "print(f\"tensor3: {tensor3}\")\n",
        "print(f\"tensor3.size(): {tensor3.size()}\")"
      ],
      "execution_count": null,
      "outputs": []
    },
    {
      "cell_type": "markdown",
      "metadata": {},
      "source": [
        "#### Matrix-Vector Multiplication\n",
        "\n",
        "Now let's look at the case where one operand is 1D and the other is 2D.\n",
        "\n",
        "If the first argument is 2-dimensional and the second argument is 1-dimensional,\n",
        "the matrix-vector product is returned.\n"
      ]
    },
    {
      "cell_type": "code",
      "metadata": {},
      "source": [
        "tensor1 = torch.tensor([[1, 2], [3, 4]])\n",
        "print(f\"Operand 1 --tensor1.size(): {tensor1.size()}\")\n",
        "print(f\"Operand 1 -- tensor1: {tensor1}\")\n",
        "\n",
        "tensor2 = torch.tensor([1, 2])\n",
        "print(f\"Operand 2 --tensor2.size(): {tensor2.size()}\")\n",
        "print(f\"Operand 2 --tensor2: {tensor2}\")\n",
        "\n",
        "tensor3 = torch.matmul(tensor1, tensor2)\n",
        "print(f\"Output -- tensor3: {tensor3}\")\n",
        "print(f\"Output -- tensor3.size(): {tensor3.size()}\")"
      ],
      "execution_count": null,
      "outputs": []
    },
    {
      "cell_type": "markdown",
      "metadata": {},
      "source": [
        "So this would be the similar to"
      ]
    },
    {
      "cell_type": "code",
      "metadata": {},
      "source": [
        "# Change tensor2 to be shape (2,1)\n",
        "tensor2 = torch.tensor([[1], [2]])\n",
        "print(f\"Operand 2 -- tensor2.size(): {tensor2.size()}\")\n",
        "print(f\"Operand 2 -- tensor2: {tensor2}\")\n",
        "\n",
        "tensor3 = torch.matmul(tensor1, tensor2)\n",
        "print(f\"Output -- tensor3: {tensor3}\")\n",
        "print(f\"Output -- tensor3.size(): {tensor3.size()}\")"
      ],
      "execution_count": null,
      "outputs": []
    },
    {
      "cell_type": "markdown",
      "metadata": {},
      "source": [
        "If the first argument is 1-dimensional and the second argument is 2-dimensional,\n",
        "a 1 is prepended to its dimension for the purpose of the matrix multiply.\n",
        "After the matrix multiply, the prepended dimension is removed."
      ]
    },
    {
      "cell_type": "code",
      "metadata": {},
      "source": [
        "tensor2 = torch.tensor([1, 2])\n",
        "print(f\"Operand 1 -- tensor2.size(): {tensor2.size()}\")\n",
        "print(f\"Operand 1 -- tensor2: {tensor2}\")\n",
        "\n",
        "tensor3 = torch.matmul(tensor2, tensor1)\n",
        "print(f\"Output -- tensor3: {tensor3}\")\n",
        "print(f\"Output -- tensor3.size(): {tensor3.size()}\")"
      ],
      "execution_count": null,
      "outputs": []
    },
    {
      "cell_type": "markdown",
      "metadata": {},
      "source": [
        "which is similar to"
      ]
    },
    {
      "cell_type": "code",
      "metadata": {},
      "source": [
        "tensor2 = torch.tensor([[1, 2]])\n",
        "print(f\"Operand 1 -- tensor2.size(): {tensor2.size()}\")\n",
        "print(f\"Operand 1 -- tensor2: {tensor2}\")\n",
        "\n",
        "tensor3 = torch.matmul(tensor2, tensor1)\n",
        "print(f\"Output -- tensor3: {tensor3}\")\n",
        "print(f\"Output -- tensor3.size(): {tensor3.size()}\")"
      ],
      "execution_count": null,
      "outputs": []
    },
    {
      "cell_type": "markdown",
      "metadata": {},
      "source": [
        "(perhaps delete the next part)"
      ]
    },
    {
      "cell_type": "code",
      "metadata": {},
      "source": [
        "# matrix x vector\n",
        "tensor1 = torch.randn(3, 4)\n",
        "print(f\"tensor1.size(): {tensor1.size()}\")\n",
        "print(f\"tensor1: {tensor1}\")\n",
        "\n",
        "tensor2 = torch.randn(4)\n",
        "print(f\"tensor2.size(): {tensor2.size()}\")\n",
        "print(f\"tensor2: {tensor2}\")\n",
        "\n",
        "tensor3 = torch.matmul(tensor1, tensor2)\n",
        "print(f\"tensor3: {tensor3}\")\n",
        "print(f\"tensor3.size(): {tensor3.size()}\")\n",
        "# torch.Size([3])"
      ],
      "execution_count": null,
      "outputs": []
    },
    {
      "cell_type": "markdown",
      "metadata": {},
      "source": [
        "#### Batched Matrix Multiplication"
      ]
    },
    {
      "cell_type": "code",
      "metadata": {},
      "source": [
        "# batched matrix x broadcasted vector\n",
        "tensor1 = torch.randn(10, 3, 4)\n",
        "tensor2 = torch.randn(4)\n",
        "tensor3 = torch.matmul(tensor1, tensor2)\n",
        "print(f\"tensor3: {tensor3}\")\n",
        "print(f\"tensor3.size(): {tensor3.size()}\")\n",
        "# torch.Size([10, 3])"
      ],
      "execution_count": null,
      "outputs": []
    },
    {
      "cell_type": "code",
      "metadata": {},
      "source": [
        "# batched matrix x batched matrix\n",
        "tensor1 = torch.randn(10, 3, 4)\n",
        "tensor2 = torch.randn(10, 4, 5)\n",
        "tensor3 = torch.matmul(tensor1, tensor2)\n",
        "print(f\"tensor3: {tensor3}\")\n",
        "print(f\"tensor3.size(): {tensor3.size()}\")\n",
        "# torch.Size([10, 3, 5])"
      ],
      "execution_count": null,
      "outputs": []
    },
    {
      "cell_type": "code",
      "metadata": {},
      "source": [
        "# batched matrix x broadcasted matrix\n",
        "tensor1 = torch.randn(10, 3, 4)\n",
        "tensor2 = torch.randn(4, 5)\n",
        "tensor3 = torch.matmul(tensor1, tensor2)\n",
        "print(f\"tensor3: {tensor3}\")\n",
        "print(f\"tensor3.size(): {tensor3.size()}\")\n",
        "# torch.Size([10, 3, 5])"
      ],
      "execution_count": null,
      "outputs": []
    },
    {
      "cell_type": "markdown",
      "metadata": {},
      "source": [
        "#### Experiment to format tensor as LaTeX bmatrix."
      ]
    },
    {
      "cell_type": "code",
      "metadata": {},
      "source": [
        "# Experiment to format tensor as LaTeX bmatrix\n",
        "\n",
        "import torch\n",
        "from IPython.display import display, Math\n",
        "\n",
        "# Sample tensor\n",
        "tensor = torch.tensor([[1.0, 2.0], [3.0, 4.0]])\n",
        "\n",
        "# Function to format tensor as LaTeX bmatrix\n",
        "def tensor_to_latex(tensor):\n",
        "    latex_str = \"\\\\begin{bmatrix}\\n\"\n",
        "    for row in tensor:\n",
        "        latex_str += \" & \".join([f\"{val.item():.2f}\" for val in row]) + \" \\\\\\\\\\n\"\n",
        "    latex_str += \"\\\\end{bmatrix}\"\n",
        "    return latex_str\n",
        "\n",
        "# Convert tensor to LaTeX-formatted string\n",
        "latex_tensor = tensor_to_latex(tensor)\n",
        "\n",
        "# Render the LaTeX in the Jupyter Notebook\n",
        "display(Math(latex_tensor))"
      ],
      "execution_count": null,
      "outputs": []
    },
    {
      "cell_type": "markdown",
      "metadata": {},
      "source": [
        "### Element-wise Multiplication"
      ]
    },
    {
      "cell_type": "code",
      "metadata": {},
      "source": [
        "# This computes the element-wise product. z1, z2, z3 will have the same value\n",
        "z1 = tensor * tensor\n",
        "z2 = tensor.mul(tensor)\n",
        "\n",
        "z3 = torch.rand_like(tensor)\n",
        "torch.mul(tensor, tensor, out=z3)"
      ],
      "execution_count": null,
      "outputs": []
    },
    {
      "cell_type": "markdown",
      "metadata": {},
      "source": [
        "**Single-element tensors** If you have a one-element tensor, for example\n",
        "by aggregating all values of a tensor into one value, you can convert it\n",
        "to a Python numerical value using `item()`:"
      ]
    },
    {
      "cell_type": "code",
      "metadata": {
        "collapsed": false
      },
      "source": [
        "agg = tensor.sum()\n",
        "agg_item = agg.item()\n",
        "print(agg_item, type(agg_item))"
      ],
      "execution_count": null,
      "outputs": []
    },
    {
      "cell_type": "markdown",
      "metadata": {},
      "source": [
        "**In-place operations** Operations that store the result into the\n",
        "operand are called in-place. They are denoted by a `_` suffix. For\n",
        "example: `x.copy_(y)`, `x.t_()`, will change `x`."
      ]
    },
    {
      "cell_type": "code",
      "metadata": {
        "collapsed": false
      },
      "source": [
        "print(f\"{tensor} \\n\")\n",
        "tensor.add_(5)\n",
        "print(tensor)"
      ],
      "execution_count": null,
      "outputs": []
    },
    {
      "cell_type": "markdown",
      "metadata": {},
      "source": [
        "::: {.callout-note}\n",
        "In-place operations save some memory, but can be problematic when computing derivatives because of an immediate lossof history. Hence, their use is discouraged.\n",
        ":::\n",
        "\n",
        "## Fully Connected Layer as Matrix Multiplication\n",
        "\n",
        "As a reminder, here's a fully connected network (also known as  dense network)\n",
        "with 3 inputs, 4 hidden nodes and 2 outputs.\n",
        "\n",
        "![Deep Fully Connected Network](assets/images/pytorch/shallow_net.png)\n",
        "\n",
        "We can express this network as a matrix multiplication.\n",
        "\n",
        "$$\n",
        "\\begin{bmatrix}\n",
        "w_{00} & w_{01} & w_{02} \\\\\n",
        "w_{10} & w_{11} & w_{12} \\\\\n",
        "w_{20} & w_{21} & w_{22} \\\\\n",
        "w_{30} & w_{31} & w_{32} \\\\\n",
        "\\end{bmatrix}\n",
        "\\begin{bmatrix}\n",
        "x_{0} \\\\\n",
        "x_{1} \\\\\n",
        "x_{2} \\\\\n",
        "\\end{bmatrix} +\n",
        "\\begin{bmatrix}\n",
        "b_{0} \\\\\n",
        "b_{1} \\\\\n",
        "b_{2} \\\\\n",
        "b_{3} \\\\\n",
        "\\end{bmatrix}\n",
        "=\n",
        "\\begin{bmatrix}\n",
        "h_{0} \\\\\n",
        "h_{1} \\\\\n",
        "h_{2} \\\\\n",
        "h_{3} \\\\\n",
        "\\end{bmatrix}\n",
        "$$\n",
        "\n",
        "Which we can compute directly on tensors."
      ]
    },
    {
      "cell_type": "code",
      "metadata": {},
      "source": [
        "import torch\n",
        "\n",
        "# Define the input tensor (batch size of 1 for simplicity)\n",
        "input_tensor = torch.tensor([[1.0, 2.0, 3.0]])\n",
        "\n",
        "# Initialize weights and biases for the hidden layer\n",
        "weights_hidden = torch.randn(3, 4)  # 3 inputs to 4 hidden nodes\n",
        "bias_hidden = torch.randn(4)        # 4 hidden nodes\n",
        "\n",
        "# Initialize weights and biases for the output layer\n",
        "weights_output = torch.randn(4, 2)  # 4 hidden nodes to 2 outputs\n",
        "bias_output = torch.randn(2)        # 2 outputs\n",
        "\n",
        "# Perform matrix multiplication and add biases for the hidden layer\n",
        "hidden_layer = torch.matmul(input_tensor, weights_hidden) + bias_hidden\n",
        "\n",
        "# Apply ReLU activation function\n",
        "hidden_layer_activated = torch.relu(hidden_layer)\n",
        "\n",
        "# Perform matrix multiplication and add biases for the output layer\n",
        "output_layer = torch.matmul(hidden_layer_activated, weights_output) + bias_output\n",
        "\n",
        "print(\"Output:\", output_layer)"
      ],
      "execution_count": null,
      "outputs": []
    },
    {
      "cell_type": "markdown",
      "metadata": {},
      "source": [
        "## Datasets and DataLoaders\n",
        "\n",
        "Adapted from [PyTorch Dataloader Tutorial](https://pytorch.org/tutorials/beginner/basics/data_tutorial.html)\n",
        "to use CIFAR10 instead of Fashion MNIST."
      ]
    },
    {
      "cell_type": "code",
      "metadata": {
        "collapsed": false
      },
      "source": [
        "%matplotlib inline"
      ],
      "execution_count": null,
      "outputs": []
    },
    {
      "cell_type": "markdown",
      "metadata": {},
      "source": [
        "### Datasets & DataLoaders\n",
        "\n",
        "Code for processing data samples can get messy and hard to maintain; we\n",
        "ideally want our dataset code to be decoupled from our model training\n",
        "code for better readability and modularity. \n",
        "\n",
        "PyTorch provides two data\n",
        "primitives: \n",
        "\n",
        "1. `torch.utils.data.DataLoader` and \n",
        "2. `torch.utils.data.Dataset`\n",
        "\n",
        "that allow you to use pre-loaded datasets as well as your own data.\n",
        "\n",
        "* `Dataset` stores the samples and their corresponding labels, and\n",
        "* `DataLoader` wraps an iterable around the `Dataset` to enable easy\n",
        "   access to the samples.\n",
        "\n",
        "::: {.callout-note}\n",
        "An **iterable** is a Python object capable of returning its members one at a time.\n",
        "It must implement the `__iter__` method or the `__getitem__` method. See\n",
        "[Iterators](https://docs.python.org/3/tutorial/classes.html#iterators)\n",
        "for more details.\n",
        ":::\n",
        "\n",
        "PyTorch domain libraries provide a number of pre-loaded datasets (such\n",
        "as FashionMNIST or CIFAR10) that subclass `torch.utils.data.Dataset` and implement\n",
        "functions specific to the particular data. They can be used to prototype\n",
        "and benchmark your model. You can find them here:\n",
        "\n",
        "* [Image Datasets](https://pytorch.org/vision/stable/datasets.html)\n",
        "* [Text Datasets](https://pytorch.org/text/stable/datasets.html)\n",
        "* [Audio Datasets](https://pytorch.org/audio/stable/datasets.html)\n",
        "\n",
        "\n",
        "### Loading a Dataset\n",
        "\n",
        "Here is an example of how to load the\n",
        "[CIFAR10](https://pytorch.org/vision/stable/generated/torchvision.datasets.CIFAR10.html#torchvision.datasets.CIFAR10)\n",
        "dataset from TorchVision.\n",
        "\n",
        "We load the\n",
        "[CIFAR10](https://pytorch.org/vision/stable/generated/torchvision.datasets.CIFAR10.html#torchvision.datasets.CIFAR10) \n",
        "with the following parameters:\n",
        "\n",
        "- `root` is the path where the train/test data is stored,\n",
        "- `train` specifies training or test dataset,\n",
        "- `download=True` downloads the data from the internet if it's\n",
        "   not available at `root`.\n",
        "- `transform` and `target_transform` specify the feature and label\n",
        "   transformations. More on that later."
      ]
    },
    {
      "cell_type": "code",
      "metadata": {
        "collapsed": false
      },
      "source": [
        "import torch\n",
        "from torch.utils.data import Dataset\n",
        "from torchvision import datasets\n",
        "from torchvision.transforms import ToTensor\n",
        "import matplotlib.pyplot as plt\n",
        "\n",
        "training_data = datasets.CIFAR10(\n",
        "    root=\"data\",\n",
        "    train=True,\n",
        "    download=True,\n",
        "    transform=ToTensor()\n",
        ")\n",
        "\n",
        "test_data = datasets.CIFAR10(\n",
        "    root=\"data\",\n",
        "    train=False,\n",
        "    download=True,\n",
        "    transform=ToTensor()\n",
        ")"
      ],
      "execution_count": null,
      "outputs": []
    },
    {
      "cell_type": "markdown",
      "metadata": {},
      "source": [
        "In this case we use simply the [ToTensor](https://pytorch.org/vision/main/generated/torchvision.transforms.ToTensor.html)\n",
        "transform which converts the image from\n",
        "a (H x W x C) shape to a (C x H x W) shape and converts the pixel values from\n",
        "[0,255] to a torch.FloatTensor in the range [0.0, 1.0]."
      ]
    },
    {
      "cell_type": "code",
      "metadata": {
        "collapsed": false
      },
      "source": [
        "img, label = training_data[0]\n",
        "print(f\"img.shape: {img.shape}\")\n",
        "print(f\"img.dtype: {img.dtype}\")"
      ],
      "execution_count": null,
      "outputs": []
    },
    {
      "cell_type": "markdown",
      "metadata": {},
      "source": [
        "### Iterating and Visualizing the Dataset\n",
        "\n",
        "It's very important to understand the data you're working with. Visually inspecting\n",
        "the dataset is a good way to get started.\n",
        "\n",
        "We can index `Datasets` manually like a list: `training_data[index]`. In this\n",
        "case we randomly sample images from the dataset.\n",
        "\n",
        "We use `matplotlib` to visualize some samples in our training data."
      ]
    },
    {
      "cell_type": "code",
      "metadata": {
        "collapsed": false
      },
      "source": [
        "labels_map = {\n",
        "    0: \"plane\",\n",
        "    1: \"car\",\n",
        "    2: \"bird\",\n",
        "    3: \"cat\",\n",
        "    4: \"deer\",\n",
        "    5: \"dog\",\n",
        "    6: \"frog\",\n",
        "    7: \"horse\",\n",
        "    8: \"ship\",\n",
        "    9: \"truck\",\n",
        "}\n",
        "\n",
        "figure = plt.figure(figsize=(6, 6))\n",
        "cols, rows = 4, 4\n",
        "\n",
        "for i in range(1, cols * rows + 1):\n",
        "    # Randomly choose indices\n",
        "    sample_idx = torch.randint(len(training_data), size=(1,)).item()\n",
        "\n",
        "    img, label = training_data[sample_idx]\n",
        "    #print(f\"img.shape: {img.shape}\")\n",
        "    #print(f\"label: {label}\")\n",
        "    \n",
        "    figure.add_subplot(rows, cols, i)\n",
        "    plt.title(labels_map[label])\n",
        "    plt.axis(\"off\")\n",
        "    plt.imshow(img.permute(1, 2, 0))\n",
        "plt.show()"
      ],
      "execution_count": null,
      "outputs": []
    },
    {
      "cell_type": "markdown",
      "metadata": {},
      "source": [
        "::: {.callout-tip}\n",
        "Try re-running the above cell a few times to see different samples from the dataset.\n",
        ":::\n",
        "\n",
        "\n",
        "### Collecting Sample Data to Illustrate Custom Dataset\n",
        "\n",
        "To illustrate creating a custom dataset, we will collect images from the CIFAR10\n",
        "dataset and save them to a local directory. We will also save the labels to a CSV\n",
        "file."
      ]
    },
    {
      "cell_type": "code",
      "metadata": {},
      "source": [
        "import os\n",
        "import pandas as pd\n",
        "from torchvision import datasets\n",
        "from torchvision.transforms import ToTensor\n",
        "from PIL import Image\n",
        "\n",
        "# Create directories to store images and annotations\n",
        "os.makedirs('cifar10_images', exist_ok=True)\n",
        "annotations_file = 'cifar10_annotations.csv'\n",
        "\n",
        "# Load CIFAR10 dataset\n",
        "cifar10 = datasets.CIFAR10(root='data', train=True, download=True, transform=ToTensor())\n",
        "\n",
        "# Number of images to download\n",
        "n_images = 10\n",
        "\n",
        "# Store images and their labels\n",
        "data = []\n",
        "for i in range(n_images):\n",
        "    img, label = cifar10[i]\n",
        "    img = img.permute(1, 2, 0)  # Convert from (C, H, W) to (H, W, C)\n",
        "    img = (img * 255).byte().numpy()  # Convert to numpy array and scale to [0, 255]\n",
        "    img = Image.fromarray(img)  # Convert to PIL Image\n",
        "\n",
        "    img_filename = f'cifar10_images/img_{i}.png'\n",
        "    img.save(img_filename)  # Save image\n",
        "\n",
        "    data.append([img_filename, label])  # Append image path and label to data list\n",
        "\n",
        "# Write annotations to CSV file\n",
        "df = pd.DataFrame(data, columns=['image_path', 'label'])\n",
        "df.to_csv(annotations_file, index=False)\n",
        "\n",
        "print(f\"Saved {n_images} images and their labels to {annotations_file}\")"
      ],
      "execution_count": null,
      "outputs": []
    },
    {
      "cell_type": "code",
      "metadata": {},
      "source": [
        "# List the directory `cifar_images\n",
        "import os\n",
        "os.listdir('cifar10_images')"
      ],
      "execution_count": null,
      "outputs": []
    },
    {
      "cell_type": "code",
      "metadata": {},
      "source": [
        "import pandas as pd\n",
        "\n",
        "# Read the annotations file\n",
        "annotations = pd.read_csv('cifar10_annotations.csv')\n",
        "\n",
        "# Display the first 10 lines of the annotations file\n",
        "print(annotations.head(10))"
      ],
      "execution_count": null,
      "outputs": []
    },
    {
      "cell_type": "markdown",
      "metadata": {},
      "source": [
        "### Creating a Custom Dataset for your files\n",
        "\n",
        "A custom Dataset class must implement three functions:\n",
        "\n",
        "1. `__init__`, \n",
        "2. `__len__`, and \n",
        "3. `__getitem__`. \n",
        "\n",
        "We'll look at an example implementation.\n",
        "\n",
        "The CIFAR10 images are stored in a directory and their labels are stored\n",
        "separately in a CSV file.\n",
        "\n",
        "In the next sections, we'll break down what's happening in each of\n",
        "these functions."
      ]
    },
    {
      "cell_type": "code",
      "metadata": {
        "collapsed": false
      },
      "source": [
        "import os\n",
        "import pandas as pd\n",
        "import torch\n",
        "from torch.utils.data import Dataset\n",
        "from torchvision.io import read_image\n",
        "\n",
        "class CustomImageDataset(Dataset):\n",
        "    def __init__(self, annotations_file, img_dir, transform=None, target_transform=None):\n",
        "        self.img_labels = pd.read_csv(annotations_file)\n",
        "        self.img_dir = img_dir\n",
        "        self.transform = transform\n",
        "        self.target_transform = target_transform\n",
        "\n",
        "    def __len__(self):\n",
        "        return len(self.img_labels)\n",
        "\n",
        "    def __getitem__(self, idx):\n",
        "        # img_path = os.path.join(self.img_dir, self.img_labels.iloc[idx, 0])\n",
        "        img_path = self.img_labels.iloc[idx, 0]\n",
        "        print(f\"img_path: {img_path}\")\n",
        "\n",
        "        image = read_image(img_path)\n",
        "        print(f\"image.shape: {image.shape}\")\n",
        "        print(f\"image.dtype: {image.dtype}\")\n",
        "\n",
        "        label = self.img_labels.iloc[idx, 1]\n",
        "        print(f\"label: {label}\")\n",
        "\n",
        "        if self.transform:\n",
        "            print(self.transform)\n",
        "\n",
        "            image = self.transform(image)\n",
        "        if self.target_transform:\n",
        "            label = self.target_transform(label)\n",
        "        return image, label"
      ],
      "execution_count": null,
      "outputs": []
    },
    {
      "cell_type": "markdown",
      "metadata": {},
      "source": [
        "Let's try to use it."
      ]
    },
    {
      "cell_type": "code",
      "metadata": {},
      "source": [
        "from torchvision.transforms import ToTensor\n",
        "\n",
        "mydataset = CustomImageDataset(annotations_file='cifar10_annotations.csv', img_dir='cifar10_images') # , transform=ToTensor())\n",
        "\n",
        "img, label = mydataset[0]\n",
        "print(f\"img.shape: {img.shape}\")\n",
        "print(f\"label: {label}\")"
      ],
      "execution_count": null,
      "outputs": []
    },
    {
      "cell_type": "code",
      "metadata": {},
      "source": [
        "import matplotlib.pyplot as plt\n",
        "\n",
        "figure = plt.figure(figsize=(6, 6))\n",
        "cols, rows = 2, 2\n",
        "\n",
        "for i in range(1, cols * rows + 1):\n",
        "    # Randomly choose indices\n",
        "    sample_idx = torch.randint(len(mydataset), size=(1,)).item()\n",
        "\n",
        "    img, label = mydataset[sample_idx]\n",
        "    #print(f\"img.shape: {img.shape}\")\n",
        "    #print(f\"label: {label}\")\n",
        "    \n",
        "    figure.add_subplot(rows, cols, i)\n",
        "    plt.title(labels_map[label])\n",
        "    plt.axis(\"off\")\n",
        "    plt.imshow(img.permute(1, 2, 0))\n",
        "plt.show()"
      ],
      "execution_count": null,
      "outputs": []
    },
    {
      "cell_type": "markdown",
      "metadata": {},
      "source": [
        "### `__init__`\n",
        "\n",
        "The `__init__` function is run once when instantiating the Dataset\n",
        "object. We initialize the directory containing the images, the\n",
        "annotations file, and both transforms (covered in more detail in the\n",
        "next section).\n",
        "\n",
        "The labels.csv file looks like: :\n",
        "\n",
        "    tshirt1.jpg, 0\n",
        "    tshirt2.jpg, 0\n",
        "    ......\n",
        "    ankleboot999.jpg, 9"
      ]
    },
    {
      "cell_type": "code",
      "metadata": {
        "collapsed": false
      },
      "source": [
        "def __init__(self, annotations_file, img_dir, transform=None, target_transform=None):\n",
        "    self.img_labels = pd.read_csv(annotations_file)\n",
        "    self.img_dir = img_dir\n",
        "    self.transform = transform\n",
        "    self.target_transform = target_transform"
      ],
      "execution_count": null,
      "outputs": []
    },
    {
      "cell_type": "markdown",
      "metadata": {},
      "source": [
        "### `__len__`\n",
        "\n",
        "The [\\_\\_len\\_\\_]() function returns the number of samples in our dataset.\n",
        "\n",
        "Example:"
      ]
    },
    {
      "cell_type": "code",
      "metadata": {
        "collapsed": false
      },
      "source": [
        "def __len__(self):\n",
        "    return len(self.img_labels)"
      ],
      "execution_count": null,
      "outputs": []
    },
    {
      "cell_type": "markdown",
      "metadata": {},
      "source": [
        "### `__getitem__`\n",
        "\n",
        "The [\\_\\_getitem\\_\\_]() function loads and returns a sample from the dataset\n",
        "at the given index `idx`. Based on the index, it identifies the image\\'s\n",
        "location on disk, converts that to a tensor using `read_image`,\n",
        "retrieves the corresponding label from the csv data in\n",
        "`self.img_labels`, calls the transform functions on them (if\n",
        "applicable), and returns the tensor image and corresponding label in a\n",
        "tuple."
      ]
    },
    {
      "cell_type": "code",
      "metadata": {
        "collapsed": false
      },
      "source": [
        "def __getitem__(self, idx):\n",
        "    img_path = os.path.join(self.img_dir, self.img_labels.iloc[idx, 0])\n",
        "    image = read_image(img_path)\n",
        "    label = self.img_labels.iloc[idx, 1]\n",
        "    if self.transform:\n",
        "        image = self.transform(image)\n",
        "    if self.target_transform:\n",
        "        label = self.target_transform(label)\n",
        "    return image, label"
      ],
      "execution_count": null,
      "outputs": []
    },
    {
      "cell_type": "markdown",
      "metadata": {},
      "source": [
        "------------------------------------------------------------------------\n",
        "\n",
        "### Preparing your data for training with DataLoaders\n",
        "\n",
        "The `Dataset` retrieves our dataset's features and labels one sample at\n",
        "a time. While training a model, we typically want to pass samples in\n",
        "\"minibatches\", reshuffle the data at every epoch to reduce model\n",
        "overfitting, and use Python's `multiprocessing` to speed up data\n",
        "retrieval.\n",
        "\n",
        "`DataLoader` is an iterable that abstracts this complexity for us in an\n",
        "easy API."
      ]
    },
    {
      "cell_type": "code",
      "metadata": {
        "collapsed": false
      },
      "source": [
        "from torch.utils.data import DataLoader\n",
        "\n",
        "train_dataloader = DataLoader(training_data, batch_size=64, shuffle=True)\n",
        "test_dataloader = DataLoader(test_data, batch_size=64, shuffle=True)"
      ],
      "execution_count": null,
      "outputs": []
    },
    {
      "cell_type": "markdown",
      "metadata": {},
      "source": [
        "### Iterate through the DataLoader\n",
        "\n",
        "We have loaded that dataset into the `DataLoader` and can iterate\n",
        "through the dataset as needed. Each iteration below returns a batch of\n",
        "`train_features` and `train_labels` (containing `batch_size=64` features\n",
        "and labels respectively). Because we specified `shuffle=True`, after we\n",
        "iterate over all batches the data is shuffled (for finer-grained control\n",
        "over the data loading order, take a look at\n",
        "[Samplers](https://pytorch.org/docs/stable/data.html#data-loading-order-and-sampler))."
      ]
    },
    {
      "cell_type": "code",
      "metadata": {
        "collapsed": false
      },
      "source": [
        "# Display image and label.\n",
        "train_features, train_labels = next(iter(train_dataloader))\n",
        "print(f\"Feature batch shape: {train_features.size()}\")\n",
        "print(f\"Labels batch shape: {train_labels.size()}\")\n",
        "img = train_features[0].squeeze()\n",
        "label = train_labels[0]\n",
        "plt.imshow(img.permute(1, 2, 0))\n",
        "plt.show()\n",
        "print(f\"Label: {label}\")"
      ],
      "execution_count": null,
      "outputs": []
    },
    {
      "cell_type": "markdown",
      "metadata": {},
      "source": [
        "------------------------------------------------------------------------\n",
        "\n",
        "### Further Reading\n",
        "\n",
        "-   [torch.utils.data API](https://pytorch.org/docs/stable/data.html)\n",
        "\n",
        "\n",
        "## References\n",
        "\n",
        "- [PyTorch](https://pytorch.org/)\n",
        "- [PyTorch Tutorials](https://pytorch.org/tutorials/)\n",
        "- [PyTorch Documentation](https://pytorch.org/docs/)\n",
        "- [PyTorch GitHub](https://github.com/pytorch/pytorch)\n",
        "- [PyTorch Brand Guidelines](https://pytorch.org/assets/brand-guidelines/PyTorch-Brand-Guidelines.pdf)"
      ]
    }
  ],
  "metadata": {
    "kernelspec": {
      "name": "python3",
      "language": "python",
      "display_name": "Python 3 (ipykernel)",
      "path": "/Users/tomg/Source/courses/ds549/ml-549-fa24/.venv/share/jupyter/kernels/python3"
    }
  },
  "nbformat": 4,
  "nbformat_minor": 4
}