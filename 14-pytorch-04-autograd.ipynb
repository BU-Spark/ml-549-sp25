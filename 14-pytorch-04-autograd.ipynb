{
  "cells": [
    {
      "cell_type": "markdown",
      "metadata": {},
      "source": [
        "---\n",
        "title: \"PyTorch 04: Autograd\"\n",
        "jupyter: python3\n",
        "---\n",
        "\n",
        "## Introduction\n",
        "\n",
        "[![](https://colab.research.google.com/assets/colab-badge.svg)](https://colab.research.google.com/github/trgardos/ml-549-fa24/blob/main/14-pytorch-04-autograd.ipynb)\n",
        "\n",
        "Based on PyTorch [Autograd Tutorial](https://pytorch.org/tutorials/beginner/basics/autogradqs_tutorial.html).\n",
        "\n",
        "\n",
        "## Gradient Descent and Back Propagation\n",
        "\n",
        "When training neural networks, the most frequently used algorithm to minimize\n",
        "the training loss is **stochastic gradient descent** (SGD).\n",
        "\n",
        "The derivative of the loss function with respect to the parameters gives us the\n",
        "direction of steepest **increase** evaluated at a set of parameter values.\n",
        "\n",
        "So to decrease the loss, we need to move in the opposite direction of the\n",
        "gradient, which is the direction of steepest **decrease**.\n",
        "\n",
        "During training, we update the parameters, $\\theta$, by the negative of the gradient, scaled\n",
        "by some learning rate $\\eta$:\n",
        "\n",
        "$$\n",
        "\\theta \\leftarrow \\theta - \\eta \\nabla_\\theta J(\\theta)\n",
        "$$\n",
        "\n",
        "The gradient can be officially calcluated using the chain rule of calculus,\n",
        "where the gradient of a function composed of multiple functions is the product\n",
        "of the gradients of each function.\n",
        "\n",
        "Say we have a function $f(x)$ that is a composition of two functions\n",
        "$f(x) = f(g(x))$, then the gradient of $f$ with respect to $x$ is given by the\n",
        "chain rule:\n",
        "\n",
        "$$\n",
        "\\frac{\\partial f}{\\partial x} = \\frac{\\partial f}{\\partial g} \\cdot \\frac{\\partial g}{\\partial x}\n",
        "$$\n",
        "\n",
        "A neural network is a composition of many functions, e.g. linear layer, activation function,\n",
        "linear layer, etc.\n",
        "\n",
        "We can compute every step of the gradient with **back propagation**.\n",
        "\n",
        "## Automatic Differentiation with `torch.autograd`\n",
        "\n",
        "To compute those gradients, PyTorch has a built-in differentiation engine called\n",
        "`torch.autograd`. \n",
        "\n",
        "It supports automatic computation of gradient for any **computational graph**.\n",
        "\n",
        "Consider the simplest one-layer neural network, with input `x`,\n",
        "parameters `w` and `b`, and some loss function. It can be defined in\n",
        "PyTorch in the following manner:"
      ]
    },
    {
      "cell_type": "code",
      "metadata": {
        "collapsed": false
      },
      "source": [
        "import torch\n",
        "\n",
        "x = torch.ones(5)  # input tensor\n",
        "y = torch.zeros(3)  # expected output\n",
        "w = torch.randn(5, 3, requires_grad=True)\n",
        "b = torch.randn(3, requires_grad=True)\n",
        "z = torch.matmul(x, w)+b\n",
        "loss = torch.nn.functional.binary_cross_entropy_with_logits(z, y)"
      ],
      "execution_count": null,
      "outputs": []
    },
    {
      "cell_type": "markdown",
      "metadata": {},
      "source": [
        "Here's the calculation of $z$ in matrix form:"
      ]
    },
    {
      "cell_type": "code",
      "metadata": {},
      "source": [
        "#| echo: false\n",
        "from utils import tensor_to_latex\n",
        "from IPython.display import display, Math\n",
        "\n",
        "latex_x = tensor_to_latex(x)\n",
        "latex_w = tensor_to_latex(w.T)\n",
        "latex_b = tensor_to_latex(b)\n",
        "latex_z = tensor_to_latex(z)\n",
        "\n",
        "display(Math(f\"\\\\mathrm{{z}} = \\\\mathrm{{w}}\\\\mathrm{{x}}+\\\\mathrm{{b}} = {latex_w} {latex_x} + {latex_b}\"))"
      ],
      "execution_count": null,
      "outputs": []
    },
    {
      "cell_type": "markdown",
      "metadata": {},
      "source": [
        "## Tensors, Functions and Computational graph\n",
        "\n",
        "The above code defines the following **computational graph**:\n",
        "\n",
        "```{dot}\n",
        "//| label: fig-comp-graph\n",
        "//| fig-cap: Computational graph for the simple neural network\n",
        "digraph G {\n",
        "    rankdir=LR;\n",
        "    x [label=\"x\", shape=box];\n",
        "    matmul1 [label=\"*\"];\n",
        "    add1 [label=\"+\"];\n",
        "    y [label=\"y\", shape=box];\n",
        "    w [label=\"w\", shape=box, style=rounded];\n",
        "    b [label=\"b\", shape=box, style=rounded];\n",
        "    z [label=\"z\", shape=box];\n",
        "    loss [label=\"loss\"];\n",
        "\n",
        "    x -> matmul1;\n",
        "    { rank=same; w -> matmul1;}\n",
        "    { rank=same; b -> add1;}\n",
        "    matmul1 -> add1;\n",
        "    add1 -> z;\n",
        "    z -> CE;\n",
        "    { rank=same; y -> CE;}\n",
        "    CE -> loss;\n",
        "\n",
        "    // This is supposed to draw a box around the parameters\n",
        "    subgraph cluster_0 {\n",
        "        label = \"Parameters\";\n",
        "        style = \"dashed\";\n",
        "        w;\n",
        "        b;\n",
        "    }\n",
        "}\n",
        "```\n",
        "\n",
        "\n",
        "In this network, `w` and `b` are **parameters**, which we need to\n",
        "optimize. \n",
        "\n",
        "Thus, we need to be able to compute the gradients of loss\n",
        "function with respect to those variables. \n",
        "\n",
        "### Tensors with `requires_grad`\n",
        "\n",
        "In order to do that, we set the `requires_grad` property of those tensors.\n",
        "\n",
        "\n",
        "::: {.callout-note}\n",
        "You can set the value of `requires_grad` when creating a tensor, or \n",
        "later by using `x.requires_grad_(True)` method.\n",
        ":::\n",
        "\n",
        "By default, new tensors are created with `requires_grad=False`."
      ]
    },
    {
      "cell_type": "code",
      "metadata": {},
      "source": [
        "print(f\"x: {x.requires_grad}, y: {y.requires_grad}, w: {w.requires_grad}, b: {b.requires_grad}\")"
      ],
      "execution_count": null,
      "outputs": []
    },
    {
      "cell_type": "markdown",
      "metadata": {},
      "source": [
        "### Functions Support Back Propagation\n",
        "\n",
        "Any function that operates on tensors inherits from class `Function`. \n",
        "\n",
        "The `Function` object knows \n",
        "\n",
        "* how to compute the function in the *forward* direction, and in fact implements a `forward` method, and\n",
        "* how to compute its derivative during the *backward propagation* step, and in fact implements a `backward` method. \n",
        "\n",
        "A reference to the backward propagation function is stored in `grad_fn` property\n",
        "of a tensor. \n",
        "\n",
        "You can find more information of `Function` in the\n",
        "[documentation](https://pytorch.org/docs/stable/autograd.html#function)."
      ]
    },
    {
      "cell_type": "code",
      "metadata": {},
      "source": [
        "print(f\"Gradient function for loss = {loss.grad_fn}\")\n",
        "print(f\"Gradient function for z = {z.grad_fn}\")"
      ],
      "execution_count": null,
      "outputs": []
    },
    {
      "cell_type": "markdown",
      "metadata": {},
      "source": [
        "## Computing Gradients\n",
        "\n",
        "To optimize weights of parameters in the neural network, we need to\n",
        "compute the derivatives of our loss function with respect to parameters.\n",
        "\n",
        "We need $\\frac{\\partial loss}{\\partial w}$ and\n",
        "$\\frac{\\partial loss}{\\partial b}$ under some fixed values of `x` and\n",
        "`y`. \n",
        "\n",
        "To compute those derivatives, we call `loss.backward()`, which steps back through\n",
        "the computational graph, computing the gradients of the leaf nodes, which in\n",
        "this case are the parameters `w` and `b`.\n",
        "\n",
        "We can retrieve the values from `w.grad` and `b.grad`:"
      ]
    },
    {
      "cell_type": "code",
      "metadata": {},
      "source": [
        "loss.backward()\n",
        "print(w.grad)\n",
        "print(b.grad)"
      ],
      "execution_count": null,
      "outputs": []
    },
    {
      "cell_type": "markdown",
      "metadata": {},
      "source": [
        "There's a handy package called [`torchviz`](https://github.com/szagoruyko/pytorchviz)\n",
        "that also can render the computational graph."
      ]
    },
    {
      "cell_type": "code",
      "metadata": {},
      "source": [
        "from torchviz import make_dot\n",
        "from graphviz import Source\n",
        "from IPython.display import display\n",
        "\n",
        "# Visualize the computational graph\n",
        "dot = make_dot(loss, params={\"w\": w, \"b\": b})\n",
        "\n",
        "# Render and display the graph inline\n",
        "graph = Source(dot.source)\n",
        "display(graph)"
      ],
      "execution_count": null,
      "outputs": []
    },
    {
      "cell_type": "markdown",
      "metadata": {},
      "source": [
        "Of course the graph will quickly become too complex for any meaningful network.\n",
        "\n",
        "::: {.callout-warning}\n",
        "We can only obtain the `grad` properties for the leafnodes of the computational\n",
        "graph, which have `requires_grad` propertyset to `True`. For all other nodes in\n",
        "our graph, gradients will not be available. We can only perform gradient\n",
        "calculations using `backward` once on a given graph, for performance reasons. If\n",
        "we needto do several `backward` calls on the same graph, we need to pass\n",
        "`retain_graph=True` to the `backward` call.\n",
        ":::\n",
        "\n",
        "\n",
        "## Disabling Gradient Tracking\n",
        "\n",
        "By default, all tensors with `requires_grad=True` are tracking their\n",
        "computational history and support gradient computation. \n",
        "\n",
        "However, there are some cases when we do not need to do that, for example, when\n",
        "we have trained the model and just want to apply it to some input data, i.e. we\n",
        "only want to do *forward* computations through the network. \n",
        "\n",
        "We can stop tracking computations by surrounding our computation code with a\n",
        "`torch.no_grad()` block:"
      ]
    },
    {
      "cell_type": "code",
      "metadata": {},
      "source": [
        "z = torch.matmul(x, w)+b\n",
        "print(z.requires_grad)\n",
        "\n",
        "with torch.no_grad():\n",
        "    z = torch.matmul(x, w)+b\n",
        "print(z.requires_grad)"
      ],
      "execution_count": null,
      "outputs": []
    },
    {
      "cell_type": "markdown",
      "metadata": {},
      "source": [
        "Another way to achieve the same result is to use the `detach()` method\n",
        "on the tensor:"
      ]
    },
    {
      "cell_type": "code",
      "metadata": {},
      "source": [
        "z = torch.matmul(x, w)+b\n",
        "z_det = z.detach()\n",
        "print(z_det.requires_grad)"
      ],
      "execution_count": null,
      "outputs": []
    },
    {
      "cell_type": "markdown",
      "metadata": {},
      "source": [
        "There are reasons you might want to disable gradient tracking:\n",
        "\n",
        "- To mark some parameters in your neural network as **frozen parameters**.\n",
        "- To **speed up computations** when you are only doing forward pass, because\n",
        "  computations on tensors that do not track gradients would be more efficient.\n",
        "\n",
        "## Recap: Back Propagation and Computational Graphs\n",
        "\n",
        "Conceptually, autograd keeps a record of data (tensors) and all executed\n",
        "operations (along with the resulting new tensors) in a _directed acyclic\n",
        "graph_ (DAG) consisting of\n",
        "[`Function`](https://pytorch.org/docs/stable/autograd.html#torch.autograd.Function)\n",
        "objects. \n",
        "\n",
        "In this DAG, leaves are the input tensors, roots are the output tensors. By\n",
        "tracing this graph from roots to leaves, you can automatically compute the\n",
        "gradients using the chain rule.\n",
        "\n",
        "In a forward pass, `autograd` does two things simultaneously:\n",
        "\n",
        "- run the requested operation to compute a resulting tensor\n",
        "- maintain the operation's *gradient function* in the DAG.\n",
        "\n",
        "The backward pass kicks off when `.backward()` is called on the DAG\n",
        "root. \n",
        "\n",
        "`autograd` then:\n",
        "\n",
        "-   computes the gradients from each `.grad_fn`,\n",
        "-   accumulates them in the respective tensor's `.grad` attribute\n",
        "-   using the chain rule, propagates all the way to the leaf tensors.\n",
        "\n",
        "::: {.callout-important}\n",
        "An important thing to note is that the graph is _recreated from scratch_ by\n",
        "walking backward through the graph.\n",
        "\n",
        "* after each `.backward()` call, `autograd` starts populating a new graph. This\n",
        "  is exactly what allows you to use control flow statements in your model\n",
        "* you can change the shape, size and operations at every iteration if needed.\n",
        ":::\n",
        "\n",
        "## Further Reading\n",
        "\n",
        "-   [Autograd Mechanics](https://pytorch.org/docs/stable/notes/autograd.html)\n"
      ]
    }
  ],
  "metadata": {
    "kernelspec": {
      "name": "python3",
      "language": "python",
      "display_name": "Python 3 (ipykernel)",
      "path": "/Users/tomg/Source/courses/ds549/ml-549-fa24/.venv/share/jupyter/kernels/python3"
    }
  },
  "nbformat": 4,
  "nbformat_minor": 4
}