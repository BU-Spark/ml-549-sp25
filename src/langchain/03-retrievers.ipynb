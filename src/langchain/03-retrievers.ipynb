{
  "cells": [
    {
      "cell_type": "markdown",
      "metadata": {},
      "source": [
        "---\n",
        "title: LangChain 03 -- Embeddings, vector stores and retrievers\n",
        "jupyter: python3\n",
        "---\n",
        "\n",
        "## Introduction\n",
        "\n",
        "This tutorial is based on LangChain's \"Vector stores and retrievers\"\n",
        "[tutorial](https://python.langchain.com/docs/tutorials/retrievers/) and \n",
        "[notebook](https://github.com/langchain-ai/langchain/blob/master/docs/docs/tutorials/retrievers.ipynb).\n",
        "\n",
        "* We'll look at LangChain's vector store and retriever abstractions. \n",
        "* They enable retrieval of data from (vector) databases and other sources for integration with LLM workflows.\n",
        "* They are important for applications that fetch data to be reasoned over as part\n",
        "  of model inference, as in the case of retrieval-augmented generation, or RAG.\n",
        "\n",
        "We'll put it all together in a RAG pipeline later.\n",
        "\n",
        "\n",
        "## Concepts\n",
        "\n",
        "We'll cover retrieval of text data. \n",
        "\n",
        "We will cover the following concepts:\n",
        "\n",
        "- Documents\n",
        "- Vector stores\n",
        "- Retrievers\n",
        "\n",
        "## Setup\n",
        "\n",
        "You can run this as a notebook in Colab: \n",
        "[![](https://colab.research.google.com/assets/colab-badge.svg)](https://colab.research.google.com/github/trgardos/ml-549-fa24/blob/main/src/langchain/03-retrievers.ipynb)\n",
        "\n",
        "Or you can run it locally by downloading it from our\n",
        "[repo](https://github.com/trgardos/ml-549-fa24/src/langchain/03-retrievers.ipynb).\n",
        "\n",
        "\n",
        "## Installation\n",
        "\n",
        "This tutorial requires the `langchain`, `langchain-chroma`, and `langchain-openai`\n",
        "packages:\n",
        "\n",
        "::: {.panel-tabset}\n",
        "\n",
        "## Pip\n",
        "\n",
        "```{.bash}\n",
        "pip install langchain langchain-chroma langchain-openai\n",
        "```\n",
        "\n",
        "## Conda\n",
        "\n",
        "```{.bash}\n",
        "conda install langchain langchain-chroma langchain-openai -c conda-forge\n",
        "```\n",
        "\n",
        ":::"
      ]
    },
    {
      "cell_type": "code",
      "metadata": {},
      "source": [
        "#| echo: false\n",
        "# If you are running on Colab, this cell will install the packages for you.\n",
        "import sys\n",
        "if 'google.colab' in sys.modules:\n",
        "    !pip install langchain langchain-chroma langchain-openai"
      ],
      "execution_count": null,
      "outputs": []
    },
    {
      "cell_type": "markdown",
      "metadata": {},
      "source": [
        "For more details, see our \n",
        "[Installation guide](https://python.langchain.com/docs/how_to/installation).\n",
        "\n",
        "## Environment Variables and API Keys\n",
        "\n",
        "The following cell will enable LangSmith for logging and load API keys for\n",
        "LangChain and OpenAI.\n",
        "\n",
        "If you are running locally, you can set your environment variables for your\n",
        "command shell and if you are on Colab, you can set Colab secrets.\n",
        "\n",
        "In the code below, if the variables are not set, it will prompt you."
      ]
    },
    {
      "cell_type": "code",
      "metadata": {},
      "source": [
        "# Optional: You don't have to run this cell if you set the environment variables above\n",
        "\n",
        "import getpass\n",
        "import os\n",
        "\n",
        "os.environ[\"LANGCHAIN_TRACING_V2\"] = \"true\"\n",
        "os.environ[\"LANGCHAIN_ENDPOINT\"] = \"https://api.smith.langchain.com\"\n",
        "\n",
        "import sys\n",
        "if 'google.colab' in sys.modules:\n",
        "    from google.colab import userdata\n",
        "    os.environ[\"LANGCHAIN_API_KEY\"] = userdata.get('LANGCHAIN_API_KEY') if userdata.get('LANGCHAIN_API_KEY') else getpass.getpass(\"Enter your LangSmith API key:\")\n",
        "    os.environ[\"OPENAI_API_KEY\"] = userdata.get('OPENAI_API_KEY') if userdata.get('OPENAI_API_KEY') else getpass.getpass(\"Enter your OpenAI API key:\")\n",
        "else:\n",
        "    from dotenv import load_dotenv\n",
        "    load_dotenv('./.env')    \n",
        "    if not os.environ.get('LANGCHAIN_API_KEY'):\n",
        "        os.environ[\"LANGCHAIN_API_KEY\"] = getpass.getpass(\"Enter your LangSmith API key:\")\n",
        "    if not os.environ.get('OPENAI_API_KEY'):\n",
        "        os.environ[\"OPENAI_API_KEY\"] = getpass.getpass(\"Enter your OpenAI API key:\")\n",
        "\n",
        "os.environ[\"LANGCHAIN_PROJECT\"] = \"ds549-langchain-retriever\" # or whatever you want your project name to be"
      ],
      "execution_count": null,
      "outputs": []
    },
    {
      "cell_type": "markdown",
      "metadata": {},
      "source": [
        "## Documents\n",
        "\n",
        "LangChain implements a \n",
        "[Document](https://python.langchain.com/api_reference/core/documents/langchain_core.documents.base.Document.html)\n",
        "abstraction, which is intended to represent a unit of text and associated\n",
        "metadata. It has two attributes:\n",
        "\n",
        "- `page_content`: a string representing the content;\n",
        "- `metadata`: a dict containing arbitrary metadata.\n",
        "\n",
        "The `metadata` attribute can capture information about the source of the document,\n",
        "its relationship to other documents, and other information. \n",
        "\n",
        "> Note that an individual `Document` object often represents a chunk of a larger document.\n",
        "\n",
        "Let's generate some sample documents:\n"
      ]
    },
    {
      "cell_type": "code",
      "metadata": {},
      "source": [
        "from langchain_core.documents import Document\n",
        "\n",
        "documents = [\n",
        "    Document(\n",
        "        page_content=\"Dogs are great companions, known for their loyalty and friendliness.\",\n",
        "        metadata={\"source\": \"mammal-pets-doc\"},\n",
        "    ),\n",
        "    Document(\n",
        "        page_content=\"Cats are independent pets that often enjoy their own space.\",\n",
        "        metadata={\"source\": \"mammal-pets-doc\"},\n",
        "    ),\n",
        "    Document(\n",
        "        page_content=\"Goldfish are popular pets for beginners, requiring relatively simple care.\",\n",
        "        metadata={\"source\": \"fish-pets-doc\"},\n",
        "    ),\n",
        "    Document(\n",
        "        page_content=\"Parrots are intelligent birds capable of mimicking human speech.\",\n",
        "        metadata={\"source\": \"bird-pets-doc\"},\n",
        "    ),\n",
        "    Document(\n",
        "        page_content=\"Rabbits are social animals that need plenty of space to hop around.\",\n",
        "        metadata={\"source\": \"mammal-pets-doc\"},\n",
        "    ),\n",
        "]"
      ],
      "execution_count": null,
      "outputs": []
    },
    {
      "cell_type": "markdown",
      "metadata": {},
      "source": [
        "Here we've generated five documents, containing metadata indicating three\n",
        "distinct \"sources\".\n",
        "\n",
        "## Vector Embeddings\n",
        "\n",
        "Vector search is a common way to store and search over unstructured data (such as\n",
        "unstructured text). \n",
        "\n",
        "The idea is as follows:\n",
        "\n",
        "1. Generate and store numeric \"embedding\" vectors that are associated with each text chunk\n",
        "2. Given a query, calculate its embedding vector of the same dimension\n",
        "3. Use vector similarity metrics to identify text chunks related to the query\n",
        "\n",
        "Figure @fig-embed illustrates this process.\n",
        "\n",
        "<!-- cite https://python.langchain.com/docs/concepts/embedding_models/  -->\n",
        "![Vector Embeddings -- from langchain.com. Click to expand.](https://python.langchain.com/assets/images/embeddings_concept-975a9aaba52de05b457a1aeff9a7393a.png){.lightbox width=\"75%\" #fig-embed}\n",
        "\n",
        "## Vector Embeddings -- Deeper Look\n",
        "\n",
        "Before we continue let's explain a bit more how we get the vector embeddings.\n",
        "\n",
        "Starting from text, we **tokenize** the text string (@fig-tokenizer).\n",
        "\n",
        "![Tokenizing text](https://substackcdn.com/image/fetch/w_1456,c_limit,f_webp,q_auto:good,fl_progressive:steep/https%3A%2F%2Fsubstack-post-media.s3.amazonaws.com%2Fpublic%2Fimages%2F56dd3364-44d1-4587-a0b8-3909f1f02f31_1132x282.png){.lightbox width=\"60%\" #fig-tokenizer}\n",
        "\n",
        "Tokenizers are trained to find the most common subwords and character groupings\n",
        "from a large corpus of representative text.\n",
        "\n",
        "> See Karpathy's [\"Let's build the GPT Tokenizer\"](https://youtu.be/zduSFxRajkE?si=steqsrY3BOrsDBVx)\n",
        "> YouTube viceo for an excellent tutorial building one from scratch.\n",
        "\n",
        "Our query string is then tokenized and represented by the _index_ of the token.\n",
        "\n",
        "The token IDs are given to a multi-layer neural network, often a transformer\n",
        "architecture, which goes through a set of transforms (@fig-transform).\n",
        "\n",
        "![](https://substackcdn.com/image/fetch/w_1456,c_limit,f_webp,q_auto:good,fl_progressive:steep/https%3A%2F%2Fsubstack-post-media.s3.amazonaws.com%2Fpublic%2Fimages%2Fd0ea6648-d36e-4f42-b745-c7c4dbc06adb_1362x674.png){.lightbox width=\"60%\" #fig-transform}\n",
        "\n",
        "The model is trained to associate similar text strings (@fig-siamese).\n",
        "\n",
        "![](https://substackcdn.com/image/fetch/w_1456,c_limit,f_webp,q_auto:good,fl_progressive:steep/https%3A%2F%2Fsubstack-post-media.s3.amazonaws.com%2Fpublic%2Fimages%2Fbd6cea76-089e-45c7-99cb-2f037d9264e1_838x430.png){.lightbox width=\"45%\" #fig-siamese}\n",
        "\n",
        "But we need one embedding vector for any arbitrary length text, and so to do that\n",
        "we combine the output token in for example (@fig-pooling)\n",
        "\n",
        "* Approach #1: Use the final output `[CLS]` token representation.\n",
        "* Approach #2: Take an average over the output token vectors.\n",
        "* Approach #3: Take an average (or max) of token vectors across layers.\n",
        "\n",
        "![](https://substackcdn.com/image/fetch/w_1456,c_limit,f_webp,q_auto:good,fl_progressive:steep/https%3A%2F%2Fsubstack-post-media.s3.amazonaws.com%2Fpublic%2Fimages%2F24494e01-a211-46d4-a3fb-70cc2e0e4dc3_1486x822.png){.lightbox width=\"60%\" #fig-pooling}\n",
        "\n",
        "See this [blog](https://cameronrwolfe.substack.com?utm_source=navbar&utm_medium=web) for a nice\n",
        "overview of vector search.\n",
        "\n",
        "## Vector Stores\n",
        "\n",
        "The embedding vectors and associated document chunks are collected in a\n",
        "***vector store***.\n",
        "\n",
        "LangChain \n",
        "[VectorStore](https://python.langchain.com/api_reference/core/vectorstores/langchain_core.vectorstores.base.VectorStore.html)\n",
        "objects contain:\n",
        "\n",
        "* methods for adding text and `Document` objects to the store, and\n",
        "* querying them using various similarity metrics. \n",
        "\n",
        "They are often initialized with\n",
        "[embedding](https://python.langchain.com/docs/how_to/embed_text) models, which\n",
        "determine how text data is translated to numeric vectors.\n",
        "\n",
        "## LangChain Vector Store Integrations\n",
        "\n",
        "LangChain includes a suite of \n",
        "[integrations](https://python.langchain.com/docs/integrations/vectorstores) \n",
        "that wrap different vector store types:\n",
        "\n",
        "* **hosted vector stores** that require specific credentials to use;\n",
        "* some (such as [Postgres](https://python.langchain.com/docs/integrations/vectorstores/pgvector))\n",
        "  run in **separate infrastructure** that can be run locally or via a third-party;\n",
        "* others can run **in-memory** for lightweight workloads. \n",
        "\n",
        "We will use LangChain VectorStore integration of \n",
        "[Chroma](https://python.langchain.com/docs/integrations/vectorstores/chroma), \n",
        "which includes an in-memory implementation.\n",
        "\n",
        "## Instantiate a Vector Store\n",
        "\n",
        "To instantiate a vector store, we usually need to provide an \n",
        "[embedding](https://python.langchain.com/docs/how_to/embed_text) model to specify\n",
        "how text should be converted into a numeric vector. \n",
        "\n",
        "Here we will use [LanhChain's wrapper](https://python.langchain.com/docs/integrations/text_embedding/openai/)\n",
        "to [OpenAI's embedding models](https://platform.openai.com/docs/guides/embeddings/embedding-models)."
      ]
    },
    {
      "cell_type": "code",
      "metadata": {},
      "source": [
        "from langchain_chroma import Chroma\n",
        "from langchain_openai import OpenAIEmbeddings\n",
        "\n",
        "embeddings = OpenAIEmbeddings(\n",
        "  model=\"text-embedding-3-small\"\n",
        "  # dimensions=1024  # you can optionally specify dimension\n",
        ")\n",
        "print(embeddings)\n",
        "\n",
        "vectorstore = Chroma.from_documents(\n",
        "    documents,\n",
        "    embedding=embeddings,\n",
        ")\n",
        "print(vectorstore)"
      ],
      "execution_count": null,
      "outputs": []
    },
    {
      "cell_type": "markdown",
      "metadata": {},
      "source": [
        "Calling `.from_documents` here will add the documents to the vector store.\n",
        "\n",
        "[VectorStore](https://python.langchain.com/api_reference/core/vectorstores/langchain_core.vectorstores.base.VectorStore.html)\n",
        "implements methods (e.g. `add_texts()` and `add_documents()` for adding documents\n",
        "after the object is instantiated. \n",
        "\n",
        "Most implementations will allow you to connect to an existing\n",
        "vector store e.g., by providing a client, index name, or other information.\n",
        "\n",
        "See the documentation for a specific \n",
        "[integration](https://python.langchain.com/docs/integrations/vectorstores) for\n",
        "more detail.\n",
        "\n",
        "## Querying a Vector Store\n",
        "\n",
        "Once we've instantiated a `VectorStore` that contains documents, we can query it.\n",
        "[VectorStore](https://python.langchain.com/api_reference/core/vectorstores/langchain_core.vectorstores.base.VectorStore.html)\n",
        "includes methods for querying:\n",
        "\n",
        "- Synchronously and asynchronously;\n",
        "- By string query and by vector;\n",
        "- With and without returning similarity scores;\n",
        "- By similarity and [maximum marginal relevance](https://python.langchain.com/api_reference/core/vectorstores/langchain_core.vectorstores.base.VectorStore.html#langchain_core.vectorstores.base.VectorStore.max_marginal_relevance_search) (to balance similarity with query to diversity in retrieved results).\n",
        "\n",
        "The methods will generally include a list of \n",
        "[Document](https://python.langchain.com/api_reference/core/documents/langchain_core.documents.base.Document.html#langchain_core.documents.base.Document)\n",
        "objects in their outputs.\n",
        "\n",
        "## Examples\n",
        "\n",
        "Return documents based on similarity to a string query:"
      ]
    },
    {
      "cell_type": "code",
      "metadata": {},
      "source": [
        "vectorstore.similarity_search(\"cats\")"
      ],
      "execution_count": null,
      "outputs": []
    },
    {
      "cell_type": "markdown",
      "metadata": {},
      "source": [
        "To make it more interesting, here's a search string that doesn't use the word\n",
        "\"cats\"."
      ]
    },
    {
      "cell_type": "code",
      "metadata": {},
      "source": [
        "vectorstore.similarity_search(\"Tell me about felines.\")"
      ],
      "execution_count": null,
      "outputs": []
    },
    {
      "cell_type": "markdown",
      "metadata": {},
      "source": [
        "Async query:"
      ]
    },
    {
      "cell_type": "code",
      "metadata": {},
      "source": [
        "await vectorstore.asimilarity_search(\"cat\")"
      ],
      "execution_count": null,
      "outputs": []
    },
    {
      "cell_type": "markdown",
      "metadata": {},
      "source": [
        "Return distance scores:"
      ]
    },
    {
      "cell_type": "code",
      "metadata": {},
      "source": [
        "# Note that providers implement different scores; Chroma here\n",
        "# returns a distance metric that should vary inversely with\n",
        "# similarity.\n",
        "\n",
        "vectorstore.similarity_search_with_score(\"cat\")"
      ],
      "execution_count": null,
      "outputs": []
    },
    {
      "cell_type": "markdown",
      "metadata": {},
      "source": [
        "Again, let's be a bit more obtuse in our query string."
      ]
    },
    {
      "cell_type": "code",
      "metadata": {},
      "source": [
        "vectorstore.similarity_search_with_score(\"I want to know about tabby and persians.\")"
      ],
      "execution_count": null,
      "outputs": []
    },
    {
      "cell_type": "markdown",
      "metadata": {},
      "source": [
        "We can calculate the embedding ourselves and then search documents:"
      ]
    },
    {
      "cell_type": "code",
      "metadata": {},
      "source": [
        "embedding = OpenAIEmbeddings().embed_query(\"cat\")\n",
        "\n",
        "vectorstore.similarity_search_by_vector(embedding)"
      ],
      "execution_count": null,
      "outputs": []
    },
    {
      "cell_type": "markdown",
      "metadata": {},
      "source": [
        "To dig deeper:\n",
        "\n",
        "- [API reference](https://python.langchain.com/api_reference/core/vectorstores/langchain_core.vectorstores.base.VectorStore.html)\n",
        "- [How-to guide](https://python.langchain.com/docs/how_to/vectorstores)\n",
        "- [Integration-specific docs](https://python.langchain.com/docs/integrations/vectorstores)\n",
        "\n",
        "## Retrievers\n",
        "\n",
        "LangChain's `VectorStore` objects cannot be directly incorporated into LangChain\n",
        "Expression language [chains](https://python.langchain.com/docs/concepts/lcel)\n",
        "because they do not subclass \n",
        "[Runnable](https://python.langchain.com/api_reference/core/index.html#langchain-core-runnables).\n",
        "\n",
        "LangChain provides\n",
        "[Retrievers](https://python.langchain.com/api_reference/core/index.html#langchain-core-retrievers)\n",
        "which are Runnables and can be incorporated in LCEL chains.\n",
        "\n",
        "They implemement synchronous and\n",
        "asynchronous `invoke` and `batch` operations.\n",
        "\n",
        "## Vector Store `.as_retriever`\n",
        "\n",
        "Vectorstores implement an `as_retriever` method that will generate a Retriever,\n",
        "specifically a \n",
        "[VectorStoreRetriever](https://python.langchain.com/api_reference/core/vectorstores/langchain_core.vectorstores.base.VectorStoreRetriever.html).\n",
        "\n",
        "These retrievers include specific `search_type` and `search_kwargs` attributes\n",
        "that identify what methods of the underlying vector store to call, and how to\n",
        "parameterize them. \n",
        "\n",
        "For example. let's provide a list of queries:"
      ]
    },
    {
      "cell_type": "code",
      "metadata": {},
      "source": [
        "retriever = vectorstore.as_retriever(\n",
        "    search_type=\"similarity\",\n",
        "    search_kwargs={\"k\": 1},\n",
        ")\n",
        "\n",
        "retriever.batch([\"Tell me about huskies, retrievers and poodles.\", \"I want to swim with sharks\"])"
      ],
      "execution_count": null,
      "outputs": []
    },
    {
      "cell_type": "markdown",
      "metadata": {},
      "source": [
        "`VectorStoreRetriever` supports search types of:\n",
        "\n",
        "- `\"similarity\"` (default), \n",
        "- `\"mmr\"` (maximum marginal relevance, described above), and \n",
        "- `\"similarity_score_threshold\"`. \n",
        "\n",
        "We can use the latter to threshold documents output by the retriever by similarity\n",
        "score.\n",
        "\n",
        "## RAG -- First Look\n",
        "\n",
        "Retrievers can easily be incorporated into more complex applications, such as\n",
        "retrieval-augmented generation (RAG) applications that combine a given question\n",
        "with retrieved context into a prompt for a LLM. Below we show a minimal example."
      ]
    },
    {
      "cell_type": "code",
      "metadata": {},
      "source": [
        "#| output: false\n",
        "#| echo: false\n",
        "\n",
        "from langchain_openai import ChatOpenAI\n",
        "\n",
        "llm = ChatOpenAI(model=\"gpt-4o-mini\", temperature=0)"
      ],
      "execution_count": null,
      "outputs": []
    },
    {
      "cell_type": "code",
      "metadata": {},
      "source": [
        "from langchain_core.prompts import ChatPromptTemplate\n",
        "from langchain_core.runnables import RunnablePassthrough\n",
        "\n",
        "message = \"\"\"\n",
        "Answer this question using the provided context only.\n",
        "\n",
        "{question}\n",
        "\n",
        "Context:\n",
        "{context}\n",
        "\"\"\"\n",
        "\n",
        "prompt = ChatPromptTemplate.from_messages([(\"human\", message)])\n",
        "\n",
        "rag_chain = {\"context\": retriever, \"question\": RunnablePassthrough()} | prompt | llm"
      ],
      "execution_count": null,
      "outputs": []
    },
    {
      "cell_type": "code",
      "metadata": {},
      "source": [
        "response = rag_chain.invoke(\"tell me about cats\")\n",
        "\n",
        "print(response.content)"
      ],
      "execution_count": null,
      "outputs": []
    },
    {
      "cell_type": "markdown",
      "metadata": {},
      "source": [
        "## Vector Store from Web Pages\n",
        "\n",
        "This is a more realistic example, where we fetch content from a set of web pages\n",
        "and then create a vector store from them.\n",
        "\n",
        "> This is a work in progress."
      ]
    },
    {
      "cell_type": "code",
      "metadata": {},
      "source": [
        "import requests\n",
        "from bs4 import BeautifulSoup\n",
        "from langchain_core.documents import Document\n",
        "from langchain_chroma import Chroma\n",
        "from langchain_openai import OpenAIEmbeddings"
      ],
      "execution_count": null,
      "outputs": []
    },
    {
      "cell_type": "code",
      "metadata": {},
      "source": [
        "# Step 1: Fetch content from URLs\n",
        "urls = [\n",
        "    \"https://trgardos.github.io/ml-549-fa24/01_command_shells.html\",\n",
        "    \"https://trgardos.github.io/ml-549-fa24/02_python_environments.html\",\n",
        "    \"https://trgardos.github.io/ml-549-fa24/03_git_github.html\",\n",
        "    \"https://trgardos.github.io/ml-549-fa24/04_scc.html\",\n",
        "    \"https://trgardos.github.io/ml-549-fa24/07_scc_cont.html\",\n",
        "    \"https://trgardos.github.io/ml-549-fa24/08_scc_batch_computing.html\",\n",
        "    \"https://trgardos.github.io/ml-549-fa24/10-pytorch-01.html\",\n",
        "    \"https://trgardos.github.io/ml-549-fa24/12-pytorch-02-dataloaders.html\",\n",
        "    \"https://trgardos.github.io/ml-549-fa24/13-pytorch-03-model-def.html\",\n",
        "    \"https://trgardos.github.io/ml-549-fa24/14-pytorch-04-autograd.html\",\n",
        "    \"https://trgardos.github.io/ml-549-fa24/15-pytorch-05-training.html\",\n",
        "    \"https://trgardos.github.io/ml-549-fa24/16-lc01-simple-llm-app.html\",\n",
        "    \"https://trgardos.github.io/ml-549-fa24/17-lc02-chatbot.html\",\n",
        "    \"https://trgardos.github.io/ml-549-fa24/18-lc03-retrievers.html\"\n",
        "    # Add more URLs as needed\n",
        "]"
      ],
      "execution_count": null,
      "outputs": []
    },
    {
      "cell_type": "code",
      "metadata": {},
      "source": [
        "documents = []\n",
        "for url in urls:\n",
        "    response = requests.get(url)\n",
        "    soup = BeautifulSoup(response.content, 'html.parser')\n",
        "    text = soup.get_text()\n",
        "    documents.append(Document(page_content=text, metadata={\"source\": url}))"
      ],
      "execution_count": null,
      "outputs": []
    },
    {
      "cell_type": "code",
      "metadata": {},
      "source": [
        "print(documents)\n",
        "# print(documents[0].page_content)\n",
        "print(len(documents))"
      ],
      "execution_count": null,
      "outputs": []
    },
    {
      "cell_type": "code",
      "metadata": {},
      "source": [
        "# Step 2: Generate embeddings\n",
        "embeddings = OpenAIEmbeddings(model=\"text-embedding-3-small\")"
      ],
      "execution_count": null,
      "outputs": []
    },
    {
      "cell_type": "code",
      "metadata": {},
      "source": [
        "# Step 3: Create a vector store\n",
        "vectorstore = Chroma.from_documents(documents, embedding=embeddings)"
      ],
      "execution_count": null,
      "outputs": []
    },
    {
      "cell_type": "code",
      "metadata": {},
      "source": [
        "vectorstore.similarity_search_with_score(\"What is a command shell?\", k=8)"
      ],
      "execution_count": null,
      "outputs": []
    },
    {
      "cell_type": "code",
      "metadata": {},
      "source": [
        "vectorstore.similarity_search_with_score(\"Where can I learn about PyTorch tensors?\", k=8)"
      ],
      "execution_count": null,
      "outputs": []
    },
    {
      "cell_type": "markdown",
      "metadata": {},
      "source": [
        "## Alternative: Vector Store from Web Pages\n",
        "\n",
        "> This part is also a work in progress.\n"
      ]
    },
    {
      "cell_type": "code",
      "metadata": {},
      "source": [
        "from langchain_community.document_loaders import WebBaseLoader\n",
        "\n",
        "loader = WebBaseLoader(urls)\n",
        "docs = loader.load()"
      ],
      "execution_count": null,
      "outputs": []
    },
    {
      "cell_type": "code",
      "metadata": {},
      "source": [
        "print(docs)\n",
        "print(len(docs))"
      ],
      "execution_count": null,
      "outputs": []
    },
    {
      "cell_type": "code",
      "metadata": {},
      "source": [
        "vectorstore = Chroma.from_documents(docs, embeddings)"
      ],
      "execution_count": null,
      "outputs": []
    },
    {
      "cell_type": "code",
      "metadata": {},
      "source": [
        "vectorstore.similarity_search_with_score(\"What is a command shell?\", k=8)"
      ],
      "execution_count": null,
      "outputs": []
    },
    {
      "cell_type": "code",
      "metadata": {},
      "source": [
        "vectorstore.similarity_search_with_score(\"Where can I learn about PyTorch tensors?\", k=8)"
      ],
      "execution_count": null,
      "outputs": []
    },
    {
      "cell_type": "code",
      "metadata": {},
      "source": [
        "retriever = vectorstore.as_retriever(search_kwargs={\"k\": 1})"
      ],
      "execution_count": null,
      "outputs": []
    },
    {
      "cell_type": "code",
      "metadata": {},
      "source": [
        "response = rag_chain.invoke(\"What is a command shell?\")\n",
        "\n",
        "print(response.content)"
      ],
      "execution_count": null,
      "outputs": []
    },
    {
      "cell_type": "markdown",
      "metadata": {},
      "source": [
        "## Learn more:\n",
        "\n",
        "See LangChain's [retrievers](https://python.langchain.com/docs/how_to#retrievers) section of\n",
        "the how-to guides which covers these and other built-in retrieval strategies.\n"
      ]
    }
  ],
  "metadata": {
    "kernelspec": {
      "name": "python3",
      "language": "python",
      "display_name": "Python 3 (ipykernel)",
      "path": "/Users/tomg/Source/courses/ds549/ml-549-fa24/.venv/share/jupyter/kernels/python3"
    }
  },
  "nbformat": 4,
  "nbformat_minor": 4
}