{
 "cells": [
  {
   "cell_type": "markdown",
   "id": "bf37a837-7a6a-447b-8779-38f26c585887",
   "metadata": {},
   "source": [
    "# Vector stores and retrievers\n",
    "\n",
    "[![](https://colab.research.google.com/assets/colab-badge.svg)](https://colab.research.google.com/github/trgardos/ml-549-fa24/blob/main/src/langchain/03-retrievers.ipynb)\n",
    "\n",
    "This tutorial will familiarize you with LangChain's vector store and retriever abstractions. These abstractions are designed to support retrieval of data--  from (vector) databases and other sources--  for integration with LLM workflows. They are important for applications that fetch data to be reasoned over as part of model inference, as in the case of retrieval-augmented generation, or RAG (see our RAG tutorial [here](https://python.langchain.com/docs/tutorials/rag)).\n"
   ]
  },
  {
   "cell_type": "markdown",
   "id": "8cf0b7fd",
   "metadata": {},
   "source": [
    "## Concepts\n",
    "\n",
    "This guide focuses on retrieval of text data. We will cover the following concepts:\n",
    "\n",
    "- Documents;\n",
    "- Vector stores;\n",
    "- Retrievers."
   ]
  },
  {
   "cell_type": "markdown",
   "id": "6ddf0386",
   "metadata": {},
   "source": [
    "## Setup"
   ]
  },
  {
   "cell_type": "markdown",
   "id": "affe7ad0",
   "metadata": {},
   "source": [
    "### Jupyter Notebook\n",
    "\n",
    "This and other tutorials are perhaps most conveniently run in a Jupyter notebook. See [here](https://jupyter.org/install) for instructions on how to install."
   ]
  },
  {
   "cell_type": "markdown",
   "id": "8afafb8b",
   "metadata": {},
   "source": [
    "### Installation\n",
    "\n",
    "This tutorial requires the `langchain`, `langchain-chroma`, and `langchain-openai` packages:\n",
    "\n",
    "import Tabs from '@theme/Tabs';\n",
    "import TabItem from '@theme/TabItem';\n",
    "import CodeBlock from \"@theme/CodeBlock\";\n",
    "\n",
    "<Tabs>\n",
    "  <TabItem value=\"pip\" label=\"Pip\" default>\n",
    "    <CodeBlock language=\"bash\">pip install langchain langchain-chroma langchain-openai</CodeBlock>\n",
    "  </TabItem>\n",
    "  <TabItem value=\"conda\" label=\"Conda\">\n",
    "    <CodeBlock language=\"bash\">conda install langchain langchain-chroma langchain-openai -c conda-forge</CodeBlock>\n",
    "  </TabItem>\n",
    "</Tabs>\n",
    "\n",
    "\n",
    "For more details, see our [Installation guide](https://python.langchain.com/docs/how_to/installation)."
   ]
  },
  {
   "cell_type": "code",
   "execution_count": 1,
   "id": "ef631684",
   "metadata": {},
   "outputs": [
    {
     "name": "stdout",
     "output_type": "stream",
     "text": [
      "Requirement already satisfied: langchain in /Users/tomg/Source/courses/ds549/ml-549-fa24/.venv/lib/python3.12/site-packages (from -r requirements.txt (line 2)) (0.3.7)\n",
      "Requirement already satisfied: langgraph>0.2.27 in /Users/tomg/Source/courses/ds549/ml-549-fa24/.venv/lib/python3.12/site-packages (from -r requirements.txt (line 3)) (0.2.39)\n",
      "Requirement already satisfied: langchain-openai in /Users/tomg/Source/courses/ds549/ml-549-fa24/.venv/lib/python3.12/site-packages (from -r requirements.txt (line 4)) (0.2.4)\n",
      "Requirement already satisfied: langchain-chroma in /Users/tomg/Source/courses/ds549/ml-549-fa24/.venv/lib/python3.12/site-packages (from -r requirements.txt (line 5)) (0.1.4)\n",
      "Requirement already satisfied: langchain-community in /Users/tomg/Source/courses/ds549/ml-549-fa24/.venv/lib/python3.12/site-packages (from -r requirements.txt (line 6)) (0.3.5)\n",
      "Requirement already satisfied: langchain-anthropic in /Users/tomg/Source/courses/ds549/ml-549-fa24/.venv/lib/python3.12/site-packages (from -r requirements.txt (line 7)) (0.2.4)\n",
      "Requirement already satisfied: grandalf in /Users/tomg/Source/courses/ds549/ml-549-fa24/.venv/lib/python3.12/site-packages (from -r requirements.txt (line 10)) (0.8)\n",
      "Requirement already satisfied: python-dotenv in /Users/tomg/Source/courses/ds549/ml-549-fa24/.venv/lib/python3.12/site-packages (from -r requirements.txt (line 11)) (1.0.1)\n",
      "Requirement already satisfied: PyYAML>=5.3 in /Users/tomg/Source/courses/ds549/ml-549-fa24/.venv/lib/python3.12/site-packages (from langchain->-r requirements.txt (line 2)) (6.0.2)\n",
      "Requirement already satisfied: SQLAlchemy<3,>=1.4 in /Users/tomg/Source/courses/ds549/ml-549-fa24/.venv/lib/python3.12/site-packages (from langchain->-r requirements.txt (line 2)) (2.0.35)\n",
      "Requirement already satisfied: aiohttp<4.0.0,>=3.8.3 in /Users/tomg/Source/courses/ds549/ml-549-fa24/.venv/lib/python3.12/site-packages (from langchain->-r requirements.txt (line 2)) (3.10.10)\n",
      "Requirement already satisfied: langchain-core<0.4.0,>=0.3.15 in /Users/tomg/Source/courses/ds549/ml-549-fa24/.venv/lib/python3.12/site-packages (from langchain->-r requirements.txt (line 2)) (0.3.15)\n",
      "Requirement already satisfied: langchain-text-splitters<0.4.0,>=0.3.0 in /Users/tomg/Source/courses/ds549/ml-549-fa24/.venv/lib/python3.12/site-packages (from langchain->-r requirements.txt (line 2)) (0.3.0)\n",
      "Requirement already satisfied: langsmith<0.2.0,>=0.1.17 in /Users/tomg/Source/courses/ds549/ml-549-fa24/.venv/lib/python3.12/site-packages (from langchain->-r requirements.txt (line 2)) (0.1.137)\n",
      "Requirement already satisfied: numpy<2.0.0,>=1.26.0 in /Users/tomg/Source/courses/ds549/ml-549-fa24/.venv/lib/python3.12/site-packages (from langchain->-r requirements.txt (line 2)) (1.26.4)\n",
      "Requirement already satisfied: pydantic<3.0.0,>=2.7.4 in /Users/tomg/Source/courses/ds549/ml-549-fa24/.venv/lib/python3.12/site-packages (from langchain->-r requirements.txt (line 2)) (2.9.2)\n",
      "Requirement already satisfied: requests<3,>=2 in /Users/tomg/Source/courses/ds549/ml-549-fa24/.venv/lib/python3.12/site-packages (from langchain->-r requirements.txt (line 2)) (2.32.3)\n",
      "Requirement already satisfied: tenacity!=8.4.0,<10,>=8.1.0 in /Users/tomg/Source/courses/ds549/ml-549-fa24/.venv/lib/python3.12/site-packages (from langchain->-r requirements.txt (line 2)) (9.0.0)\n",
      "Requirement already satisfied: langgraph-checkpoint<3.0.0,>=2.0.0 in /Users/tomg/Source/courses/ds549/ml-549-fa24/.venv/lib/python3.12/site-packages (from langgraph>0.2.27->-r requirements.txt (line 3)) (2.0.2)\n",
      "Requirement already satisfied: langgraph-sdk<0.2.0,>=0.1.32 in /Users/tomg/Source/courses/ds549/ml-549-fa24/.venv/lib/python3.12/site-packages (from langgraph>0.2.27->-r requirements.txt (line 3)) (0.1.35)\n",
      "Requirement already satisfied: openai<2.0.0,>=1.52.0 in /Users/tomg/Source/courses/ds549/ml-549-fa24/.venv/lib/python3.12/site-packages (from langchain-openai->-r requirements.txt (line 4)) (1.52.2)\n",
      "Requirement already satisfied: tiktoken<1,>=0.7 in /Users/tomg/Source/courses/ds549/ml-549-fa24/.venv/lib/python3.12/site-packages (from langchain-openai->-r requirements.txt (line 4)) (0.8.0)\n",
      "Requirement already satisfied: chromadb!=0.5.4,!=0.5.5,<0.6.0,>=0.4.0 in /Users/tomg/Source/courses/ds549/ml-549-fa24/.venv/lib/python3.12/site-packages (from langchain-chroma->-r requirements.txt (line 5)) (0.5.18)\n",
      "Requirement already satisfied: fastapi<1,>=0.95.2 in /Users/tomg/Source/courses/ds549/ml-549-fa24/.venv/lib/python3.12/site-packages (from langchain-chroma->-r requirements.txt (line 5)) (0.115.4)\n",
      "Requirement already satisfied: dataclasses-json<0.7,>=0.5.7 in /Users/tomg/Source/courses/ds549/ml-549-fa24/.venv/lib/python3.12/site-packages (from langchain-community->-r requirements.txt (line 6)) (0.6.7)\n",
      "Requirement already satisfied: httpx-sse<0.5.0,>=0.4.0 in /Users/tomg/Source/courses/ds549/ml-549-fa24/.venv/lib/python3.12/site-packages (from langchain-community->-r requirements.txt (line 6)) (0.4.0)\n",
      "Requirement already satisfied: pydantic-settings<3.0.0,>=2.4.0 in /Users/tomg/Source/courses/ds549/ml-549-fa24/.venv/lib/python3.12/site-packages (from langchain-community->-r requirements.txt (line 6)) (2.6.1)\n",
      "Requirement already satisfied: anthropic<1,>=0.30.0 in /Users/tomg/Source/courses/ds549/ml-549-fa24/.venv/lib/python3.12/site-packages (from langchain-anthropic->-r requirements.txt (line 7)) (0.39.0)\n",
      "Requirement already satisfied: defusedxml<0.8.0,>=0.7.1 in /Users/tomg/Source/courses/ds549/ml-549-fa24/.venv/lib/python3.12/site-packages (from langchain-anthropic->-r requirements.txt (line 7)) (0.7.1)\n",
      "Requirement already satisfied: pyparsing in /Users/tomg/Source/courses/ds549/ml-549-fa24/.venv/lib/python3.12/site-packages (from grandalf->-r requirements.txt (line 10)) (3.1.4)\n",
      "Requirement already satisfied: aiohappyeyeballs>=2.3.0 in /Users/tomg/Source/courses/ds549/ml-549-fa24/.venv/lib/python3.12/site-packages (from aiohttp<4.0.0,>=3.8.3->langchain->-r requirements.txt (line 2)) (2.4.3)\n",
      "Requirement already satisfied: aiosignal>=1.1.2 in /Users/tomg/Source/courses/ds549/ml-549-fa24/.venv/lib/python3.12/site-packages (from aiohttp<4.0.0,>=3.8.3->langchain->-r requirements.txt (line 2)) (1.3.1)\n",
      "Requirement already satisfied: attrs>=17.3.0 in /Users/tomg/Source/courses/ds549/ml-549-fa24/.venv/lib/python3.12/site-packages (from aiohttp<4.0.0,>=3.8.3->langchain->-r requirements.txt (line 2)) (24.2.0)\n",
      "Requirement already satisfied: frozenlist>=1.1.1 in /Users/tomg/Source/courses/ds549/ml-549-fa24/.venv/lib/python3.12/site-packages (from aiohttp<4.0.0,>=3.8.3->langchain->-r requirements.txt (line 2)) (1.5.0)\n",
      "Requirement already satisfied: multidict<7.0,>=4.5 in /Users/tomg/Source/courses/ds549/ml-549-fa24/.venv/lib/python3.12/site-packages (from aiohttp<4.0.0,>=3.8.3->langchain->-r requirements.txt (line 2)) (6.1.0)\n",
      "Requirement already satisfied: yarl<2.0,>=1.12.0 in /Users/tomg/Source/courses/ds549/ml-549-fa24/.venv/lib/python3.12/site-packages (from aiohttp<4.0.0,>=3.8.3->langchain->-r requirements.txt (line 2)) (1.16.0)\n",
      "Requirement already satisfied: anyio<5,>=3.5.0 in /Users/tomg/Source/courses/ds549/ml-549-fa24/.venv/lib/python3.12/site-packages (from anthropic<1,>=0.30.0->langchain-anthropic->-r requirements.txt (line 7)) (4.4.0)\n",
      "Requirement already satisfied: distro<2,>=1.7.0 in /Users/tomg/Source/courses/ds549/ml-549-fa24/.venv/lib/python3.12/site-packages (from anthropic<1,>=0.30.0->langchain-anthropic->-r requirements.txt (line 7)) (1.9.0)\n",
      "Requirement already satisfied: httpx<1,>=0.23.0 in /Users/tomg/Source/courses/ds549/ml-549-fa24/.venv/lib/python3.12/site-packages (from anthropic<1,>=0.30.0->langchain-anthropic->-r requirements.txt (line 7)) (0.27.2)\n",
      "Requirement already satisfied: jiter<1,>=0.4.0 in /Users/tomg/Source/courses/ds549/ml-549-fa24/.venv/lib/python3.12/site-packages (from anthropic<1,>=0.30.0->langchain-anthropic->-r requirements.txt (line 7)) (0.6.1)\n",
      "Requirement already satisfied: sniffio in /Users/tomg/Source/courses/ds549/ml-549-fa24/.venv/lib/python3.12/site-packages (from anthropic<1,>=0.30.0->langchain-anthropic->-r requirements.txt (line 7)) (1.3.1)\n",
      "Requirement already satisfied: typing-extensions<5,>=4.7 in /Users/tomg/Source/courses/ds549/ml-549-fa24/.venv/lib/python3.12/site-packages (from anthropic<1,>=0.30.0->langchain-anthropic->-r requirements.txt (line 7)) (4.12.2)\n",
      "Requirement already satisfied: build>=1.0.3 in /Users/tomg/Source/courses/ds549/ml-549-fa24/.venv/lib/python3.12/site-packages (from chromadb!=0.5.4,!=0.5.5,<0.6.0,>=0.4.0->langchain-chroma->-r requirements.txt (line 5)) (1.2.2.post1)\n",
      "Requirement already satisfied: chroma-hnswlib==0.7.6 in /Users/tomg/Source/courses/ds549/ml-549-fa24/.venv/lib/python3.12/site-packages (from chromadb!=0.5.4,!=0.5.5,<0.6.0,>=0.4.0->langchain-chroma->-r requirements.txt (line 5)) (0.7.6)\n",
      "Requirement already satisfied: uvicorn>=0.18.3 in /Users/tomg/Source/courses/ds549/ml-549-fa24/.venv/lib/python3.12/site-packages (from uvicorn[standard]>=0.18.3->chromadb!=0.5.4,!=0.5.5,<0.6.0,>=0.4.0->langchain-chroma->-r requirements.txt (line 5)) (0.32.0)\n",
      "Requirement already satisfied: posthog>=2.4.0 in /Users/tomg/Source/courses/ds549/ml-549-fa24/.venv/lib/python3.12/site-packages (from chromadb!=0.5.4,!=0.5.5,<0.6.0,>=0.4.0->langchain-chroma->-r requirements.txt (line 5)) (3.7.0)\n",
      "Requirement already satisfied: onnxruntime>=1.14.1 in /Users/tomg/Source/courses/ds549/ml-549-fa24/.venv/lib/python3.12/site-packages (from chromadb!=0.5.4,!=0.5.5,<0.6.0,>=0.4.0->langchain-chroma->-r requirements.txt (line 5)) (1.20.0)\n",
      "Requirement already satisfied: opentelemetry-api>=1.2.0 in /Users/tomg/Source/courses/ds549/ml-549-fa24/.venv/lib/python3.12/site-packages (from chromadb!=0.5.4,!=0.5.5,<0.6.0,>=0.4.0->langchain-chroma->-r requirements.txt (line 5)) (1.28.0)\n",
      "Requirement already satisfied: opentelemetry-exporter-otlp-proto-grpc>=1.2.0 in /Users/tomg/Source/courses/ds549/ml-549-fa24/.venv/lib/python3.12/site-packages (from chromadb!=0.5.4,!=0.5.5,<0.6.0,>=0.4.0->langchain-chroma->-r requirements.txt (line 5)) (1.28.0)\n",
      "Requirement already satisfied: opentelemetry-instrumentation-fastapi>=0.41b0 in /Users/tomg/Source/courses/ds549/ml-549-fa24/.venv/lib/python3.12/site-packages (from chromadb!=0.5.4,!=0.5.5,<0.6.0,>=0.4.0->langchain-chroma->-r requirements.txt (line 5)) (0.49b0)\n",
      "Requirement already satisfied: opentelemetry-sdk>=1.2.0 in /Users/tomg/Source/courses/ds549/ml-549-fa24/.venv/lib/python3.12/site-packages (from chromadb!=0.5.4,!=0.5.5,<0.6.0,>=0.4.0->langchain-chroma->-r requirements.txt (line 5)) (1.28.0)\n",
      "Requirement already satisfied: tokenizers>=0.13.2 in /Users/tomg/Source/courses/ds549/ml-549-fa24/.venv/lib/python3.12/site-packages (from chromadb!=0.5.4,!=0.5.5,<0.6.0,>=0.4.0->langchain-chroma->-r requirements.txt (line 5)) (0.20.3)\n",
      "Requirement already satisfied: pypika>=0.48.9 in /Users/tomg/Source/courses/ds549/ml-549-fa24/.venv/lib/python3.12/site-packages (from chromadb!=0.5.4,!=0.5.5,<0.6.0,>=0.4.0->langchain-chroma->-r requirements.txt (line 5)) (0.48.9)\n",
      "Requirement already satisfied: tqdm>=4.65.0 in /Users/tomg/Source/courses/ds549/ml-549-fa24/.venv/lib/python3.12/site-packages (from chromadb!=0.5.4,!=0.5.5,<0.6.0,>=0.4.0->langchain-chroma->-r requirements.txt (line 5)) (4.66.6)\n",
      "Requirement already satisfied: overrides>=7.3.1 in /Users/tomg/Source/courses/ds549/ml-549-fa24/.venv/lib/python3.12/site-packages (from chromadb!=0.5.4,!=0.5.5,<0.6.0,>=0.4.0->langchain-chroma->-r requirements.txt (line 5)) (7.7.0)\n",
      "Requirement already satisfied: importlib-resources in /Users/tomg/Source/courses/ds549/ml-549-fa24/.venv/lib/python3.12/site-packages (from chromadb!=0.5.4,!=0.5.5,<0.6.0,>=0.4.0->langchain-chroma->-r requirements.txt (line 5)) (6.4.5)\n",
      "Requirement already satisfied: grpcio>=1.58.0 in /Users/tomg/Source/courses/ds549/ml-549-fa24/.venv/lib/python3.12/site-packages (from chromadb!=0.5.4,!=0.5.5,<0.6.0,>=0.4.0->langchain-chroma->-r requirements.txt (line 5)) (1.67.1)\n",
      "Requirement already satisfied: bcrypt>=4.0.1 in /Users/tomg/Source/courses/ds549/ml-549-fa24/.venv/lib/python3.12/site-packages (from chromadb!=0.5.4,!=0.5.5,<0.6.0,>=0.4.0->langchain-chroma->-r requirements.txt (line 5)) (4.2.0)\n",
      "Requirement already satisfied: typer>=0.9.0 in /Users/tomg/Source/courses/ds549/ml-549-fa24/.venv/lib/python3.12/site-packages (from chromadb!=0.5.4,!=0.5.5,<0.6.0,>=0.4.0->langchain-chroma->-r requirements.txt (line 5)) (0.12.5)\n",
      "Requirement already satisfied: kubernetes>=28.1.0 in /Users/tomg/Source/courses/ds549/ml-549-fa24/.venv/lib/python3.12/site-packages (from chromadb!=0.5.4,!=0.5.5,<0.6.0,>=0.4.0->langchain-chroma->-r requirements.txt (line 5)) (31.0.0)\n",
      "Requirement already satisfied: mmh3>=4.0.1 in /Users/tomg/Source/courses/ds549/ml-549-fa24/.venv/lib/python3.12/site-packages (from chromadb!=0.5.4,!=0.5.5,<0.6.0,>=0.4.0->langchain-chroma->-r requirements.txt (line 5)) (5.0.1)\n",
      "Requirement already satisfied: orjson>=3.9.12 in /Users/tomg/Source/courses/ds549/ml-549-fa24/.venv/lib/python3.12/site-packages (from chromadb!=0.5.4,!=0.5.5,<0.6.0,>=0.4.0->langchain-chroma->-r requirements.txt (line 5)) (3.10.10)\n",
      "Requirement already satisfied: rich>=10.11.0 in /Users/tomg/Source/courses/ds549/ml-549-fa24/.venv/lib/python3.12/site-packages (from chromadb!=0.5.4,!=0.5.5,<0.6.0,>=0.4.0->langchain-chroma->-r requirements.txt (line 5)) (13.9.4)\n",
      "Requirement already satisfied: marshmallow<4.0.0,>=3.18.0 in /Users/tomg/Source/courses/ds549/ml-549-fa24/.venv/lib/python3.12/site-packages (from dataclasses-json<0.7,>=0.5.7->langchain-community->-r requirements.txt (line 6)) (3.23.1)\n",
      "Requirement already satisfied: typing-inspect<1,>=0.4.0 in /Users/tomg/Source/courses/ds549/ml-549-fa24/.venv/lib/python3.12/site-packages (from dataclasses-json<0.7,>=0.5.7->langchain-community->-r requirements.txt (line 6)) (0.9.0)\n",
      "Requirement already satisfied: starlette<0.42.0,>=0.40.0 in /Users/tomg/Source/courses/ds549/ml-549-fa24/.venv/lib/python3.12/site-packages (from fastapi<1,>=0.95.2->langchain-chroma->-r requirements.txt (line 5)) (0.41.2)\n",
      "Requirement already satisfied: jsonpatch<2.0,>=1.33 in /Users/tomg/Source/courses/ds549/ml-549-fa24/.venv/lib/python3.12/site-packages (from langchain-core<0.4.0,>=0.3.15->langchain->-r requirements.txt (line 2)) (1.33)\n",
      "Requirement already satisfied: packaging<25,>=23.2 in /Users/tomg/Source/courses/ds549/ml-549-fa24/.venv/lib/python3.12/site-packages (from langchain-core<0.4.0,>=0.3.15->langchain->-r requirements.txt (line 2)) (24.1)\n",
      "Requirement already satisfied: msgpack<2.0.0,>=1.1.0 in /Users/tomg/Source/courses/ds549/ml-549-fa24/.venv/lib/python3.12/site-packages (from langgraph-checkpoint<3.0.0,>=2.0.0->langgraph>0.2.27->-r requirements.txt (line 3)) (1.1.0)\n",
      "Requirement already satisfied: requests-toolbelt<2.0.0,>=1.0.0 in /Users/tomg/Source/courses/ds549/ml-549-fa24/.venv/lib/python3.12/site-packages (from langsmith<0.2.0,>=0.1.17->langchain->-r requirements.txt (line 2)) (1.0.0)\n",
      "Requirement already satisfied: annotated-types>=0.6.0 in /Users/tomg/Source/courses/ds549/ml-549-fa24/.venv/lib/python3.12/site-packages (from pydantic<3.0.0,>=2.7.4->langchain->-r requirements.txt (line 2)) (0.7.0)\n",
      "Requirement already satisfied: pydantic-core==2.23.4 in /Users/tomg/Source/courses/ds549/ml-549-fa24/.venv/lib/python3.12/site-packages (from pydantic<3.0.0,>=2.7.4->langchain->-r requirements.txt (line 2)) (2.23.4)\n",
      "Requirement already satisfied: charset-normalizer<4,>=2 in /Users/tomg/Source/courses/ds549/ml-549-fa24/.venv/lib/python3.12/site-packages (from requests<3,>=2->langchain->-r requirements.txt (line 2)) (3.3.2)\n",
      "Requirement already satisfied: idna<4,>=2.5 in /Users/tomg/Source/courses/ds549/ml-549-fa24/.venv/lib/python3.12/site-packages (from requests<3,>=2->langchain->-r requirements.txt (line 2)) (3.8)\n",
      "Requirement already satisfied: urllib3<3,>=1.21.1 in /Users/tomg/Source/courses/ds549/ml-549-fa24/.venv/lib/python3.12/site-packages (from requests<3,>=2->langchain->-r requirements.txt (line 2)) (2.2.2)\n",
      "Requirement already satisfied: certifi>=2017.4.17 in /Users/tomg/Source/courses/ds549/ml-549-fa24/.venv/lib/python3.12/site-packages (from requests<3,>=2->langchain->-r requirements.txt (line 2)) (2024.8.30)\n",
      "Requirement already satisfied: regex>=2022.1.18 in /Users/tomg/Source/courses/ds549/ml-549-fa24/.venv/lib/python3.12/site-packages (from tiktoken<1,>=0.7->langchain-openai->-r requirements.txt (line 4)) (2024.9.11)\n",
      "Requirement already satisfied: pyproject_hooks in /Users/tomg/Source/courses/ds549/ml-549-fa24/.venv/lib/python3.12/site-packages (from build>=1.0.3->chromadb!=0.5.4,!=0.5.5,<0.6.0,>=0.4.0->langchain-chroma->-r requirements.txt (line 5)) (1.2.0)\n",
      "Requirement already satisfied: httpcore==1.* in /Users/tomg/Source/courses/ds549/ml-549-fa24/.venv/lib/python3.12/site-packages (from httpx<1,>=0.23.0->anthropic<1,>=0.30.0->langchain-anthropic->-r requirements.txt (line 7)) (1.0.5)\n",
      "Requirement already satisfied: h11<0.15,>=0.13 in /Users/tomg/Source/courses/ds549/ml-549-fa24/.venv/lib/python3.12/site-packages (from httpcore==1.*->httpx<1,>=0.23.0->anthropic<1,>=0.30.0->langchain-anthropic->-r requirements.txt (line 7)) (0.14.0)\n",
      "Requirement already satisfied: jsonpointer>=1.9 in /Users/tomg/Source/courses/ds549/ml-549-fa24/.venv/lib/python3.12/site-packages (from jsonpatch<2.0,>=1.33->langchain-core<0.4.0,>=0.3.15->langchain->-r requirements.txt (line 2)) (3.0.0)\n",
      "Requirement already satisfied: six>=1.9.0 in /Users/tomg/Source/courses/ds549/ml-549-fa24/.venv/lib/python3.12/site-packages (from kubernetes>=28.1.0->chromadb!=0.5.4,!=0.5.5,<0.6.0,>=0.4.0->langchain-chroma->-r requirements.txt (line 5)) (1.16.0)\n",
      "Requirement already satisfied: python-dateutil>=2.5.3 in /Users/tomg/Source/courses/ds549/ml-549-fa24/.venv/lib/python3.12/site-packages (from kubernetes>=28.1.0->chromadb!=0.5.4,!=0.5.5,<0.6.0,>=0.4.0->langchain-chroma->-r requirements.txt (line 5)) (2.9.0.post0)\n",
      "Requirement already satisfied: google-auth>=1.0.1 in /Users/tomg/Source/courses/ds549/ml-549-fa24/.venv/lib/python3.12/site-packages (from kubernetes>=28.1.0->chromadb!=0.5.4,!=0.5.5,<0.6.0,>=0.4.0->langchain-chroma->-r requirements.txt (line 5)) (2.35.0)\n",
      "Requirement already satisfied: websocket-client!=0.40.0,!=0.41.*,!=0.42.*,>=0.32.0 in /Users/tomg/Source/courses/ds549/ml-549-fa24/.venv/lib/python3.12/site-packages (from kubernetes>=28.1.0->chromadb!=0.5.4,!=0.5.5,<0.6.0,>=0.4.0->langchain-chroma->-r requirements.txt (line 5)) (1.8.0)\n",
      "Requirement already satisfied: requests-oauthlib in /Users/tomg/Source/courses/ds549/ml-549-fa24/.venv/lib/python3.12/site-packages (from kubernetes>=28.1.0->chromadb!=0.5.4,!=0.5.5,<0.6.0,>=0.4.0->langchain-chroma->-r requirements.txt (line 5)) (2.0.0)\n",
      "Requirement already satisfied: oauthlib>=3.2.2 in /Users/tomg/Source/courses/ds549/ml-549-fa24/.venv/lib/python3.12/site-packages (from kubernetes>=28.1.0->chromadb!=0.5.4,!=0.5.5,<0.6.0,>=0.4.0->langchain-chroma->-r requirements.txt (line 5)) (3.2.2)\n",
      "Requirement already satisfied: durationpy>=0.7 in /Users/tomg/Source/courses/ds549/ml-549-fa24/.venv/lib/python3.12/site-packages (from kubernetes>=28.1.0->chromadb!=0.5.4,!=0.5.5,<0.6.0,>=0.4.0->langchain-chroma->-r requirements.txt (line 5)) (0.9)\n",
      "Requirement already satisfied: coloredlogs in /Users/tomg/Source/courses/ds549/ml-549-fa24/.venv/lib/python3.12/site-packages (from onnxruntime>=1.14.1->chromadb!=0.5.4,!=0.5.5,<0.6.0,>=0.4.0->langchain-chroma->-r requirements.txt (line 5)) (15.0.1)\n",
      "Requirement already satisfied: flatbuffers in /Users/tomg/Source/courses/ds549/ml-549-fa24/.venv/lib/python3.12/site-packages (from onnxruntime>=1.14.1->chromadb!=0.5.4,!=0.5.5,<0.6.0,>=0.4.0->langchain-chroma->-r requirements.txt (line 5)) (24.3.25)\n",
      "Requirement already satisfied: protobuf in /Users/tomg/Source/courses/ds549/ml-549-fa24/.venv/lib/python3.12/site-packages (from onnxruntime>=1.14.1->chromadb!=0.5.4,!=0.5.5,<0.6.0,>=0.4.0->langchain-chroma->-r requirements.txt (line 5)) (5.28.3)\n",
      "Requirement already satisfied: sympy in /Users/tomg/Source/courses/ds549/ml-549-fa24/.venv/lib/python3.12/site-packages (from onnxruntime>=1.14.1->chromadb!=0.5.4,!=0.5.5,<0.6.0,>=0.4.0->langchain-chroma->-r requirements.txt (line 5)) (1.13.2)\n",
      "Requirement already satisfied: deprecated>=1.2.6 in /Users/tomg/Source/courses/ds549/ml-549-fa24/.venv/lib/python3.12/site-packages (from opentelemetry-api>=1.2.0->chromadb!=0.5.4,!=0.5.5,<0.6.0,>=0.4.0->langchain-chroma->-r requirements.txt (line 5)) (1.2.14)\n",
      "Requirement already satisfied: importlib-metadata<=8.5.0,>=6.0 in /Users/tomg/Source/courses/ds549/ml-549-fa24/.venv/lib/python3.12/site-packages (from opentelemetry-api>=1.2.0->chromadb!=0.5.4,!=0.5.5,<0.6.0,>=0.4.0->langchain-chroma->-r requirements.txt (line 5)) (8.5.0)\n",
      "Requirement already satisfied: googleapis-common-protos~=1.52 in /Users/tomg/Source/courses/ds549/ml-549-fa24/.venv/lib/python3.12/site-packages (from opentelemetry-exporter-otlp-proto-grpc>=1.2.0->chromadb!=0.5.4,!=0.5.5,<0.6.0,>=0.4.0->langchain-chroma->-r requirements.txt (line 5)) (1.65.0)\n",
      "Requirement already satisfied: opentelemetry-exporter-otlp-proto-common==1.28.0 in /Users/tomg/Source/courses/ds549/ml-549-fa24/.venv/lib/python3.12/site-packages (from opentelemetry-exporter-otlp-proto-grpc>=1.2.0->chromadb!=0.5.4,!=0.5.5,<0.6.0,>=0.4.0->langchain-chroma->-r requirements.txt (line 5)) (1.28.0)\n",
      "Requirement already satisfied: opentelemetry-proto==1.28.0 in /Users/tomg/Source/courses/ds549/ml-549-fa24/.venv/lib/python3.12/site-packages (from opentelemetry-exporter-otlp-proto-grpc>=1.2.0->chromadb!=0.5.4,!=0.5.5,<0.6.0,>=0.4.0->langchain-chroma->-r requirements.txt (line 5)) (1.28.0)\n",
      "Requirement already satisfied: opentelemetry-instrumentation-asgi==0.49b0 in /Users/tomg/Source/courses/ds549/ml-549-fa24/.venv/lib/python3.12/site-packages (from opentelemetry-instrumentation-fastapi>=0.41b0->chromadb!=0.5.4,!=0.5.5,<0.6.0,>=0.4.0->langchain-chroma->-r requirements.txt (line 5)) (0.49b0)\n",
      "Requirement already satisfied: opentelemetry-instrumentation==0.49b0 in /Users/tomg/Source/courses/ds549/ml-549-fa24/.venv/lib/python3.12/site-packages (from opentelemetry-instrumentation-fastapi>=0.41b0->chromadb!=0.5.4,!=0.5.5,<0.6.0,>=0.4.0->langchain-chroma->-r requirements.txt (line 5)) (0.49b0)\n",
      "Requirement already satisfied: opentelemetry-semantic-conventions==0.49b0 in /Users/tomg/Source/courses/ds549/ml-549-fa24/.venv/lib/python3.12/site-packages (from opentelemetry-instrumentation-fastapi>=0.41b0->chromadb!=0.5.4,!=0.5.5,<0.6.0,>=0.4.0->langchain-chroma->-r requirements.txt (line 5)) (0.49b0)\n",
      "Requirement already satisfied: opentelemetry-util-http==0.49b0 in /Users/tomg/Source/courses/ds549/ml-549-fa24/.venv/lib/python3.12/site-packages (from opentelemetry-instrumentation-fastapi>=0.41b0->chromadb!=0.5.4,!=0.5.5,<0.6.0,>=0.4.0->langchain-chroma->-r requirements.txt (line 5)) (0.49b0)\n",
      "Requirement already satisfied: wrapt<2.0.0,>=1.0.0 in /Users/tomg/Source/courses/ds549/ml-549-fa24/.venv/lib/python3.12/site-packages (from opentelemetry-instrumentation==0.49b0->opentelemetry-instrumentation-fastapi>=0.41b0->chromadb!=0.5.4,!=0.5.5,<0.6.0,>=0.4.0->langchain-chroma->-r requirements.txt (line 5)) (1.16.0)\n",
      "Requirement already satisfied: asgiref~=3.0 in /Users/tomg/Source/courses/ds549/ml-549-fa24/.venv/lib/python3.12/site-packages (from opentelemetry-instrumentation-asgi==0.49b0->opentelemetry-instrumentation-fastapi>=0.41b0->chromadb!=0.5.4,!=0.5.5,<0.6.0,>=0.4.0->langchain-chroma->-r requirements.txt (line 5)) (3.8.1)\n",
      "Requirement already satisfied: monotonic>=1.5 in /Users/tomg/Source/courses/ds549/ml-549-fa24/.venv/lib/python3.12/site-packages (from posthog>=2.4.0->chromadb!=0.5.4,!=0.5.5,<0.6.0,>=0.4.0->langchain-chroma->-r requirements.txt (line 5)) (1.6)\n",
      "Requirement already satisfied: backoff>=1.10.0 in /Users/tomg/Source/courses/ds549/ml-549-fa24/.venv/lib/python3.12/site-packages (from posthog>=2.4.0->chromadb!=0.5.4,!=0.5.5,<0.6.0,>=0.4.0->langchain-chroma->-r requirements.txt (line 5)) (2.2.1)\n",
      "Requirement already satisfied: markdown-it-py>=2.2.0 in /Users/tomg/Source/courses/ds549/ml-549-fa24/.venv/lib/python3.12/site-packages (from rich>=10.11.0->chromadb!=0.5.4,!=0.5.5,<0.6.0,>=0.4.0->langchain-chroma->-r requirements.txt (line 5)) (3.0.0)\n",
      "Requirement already satisfied: pygments<3.0.0,>=2.13.0 in /Users/tomg/Source/courses/ds549/ml-549-fa24/.venv/lib/python3.12/site-packages (from rich>=10.11.0->chromadb!=0.5.4,!=0.5.5,<0.6.0,>=0.4.0->langchain-chroma->-r requirements.txt (line 5)) (2.18.0)\n",
      "Requirement already satisfied: huggingface-hub<1.0,>=0.16.4 in /Users/tomg/Source/courses/ds549/ml-549-fa24/.venv/lib/python3.12/site-packages (from tokenizers>=0.13.2->chromadb!=0.5.4,!=0.5.5,<0.6.0,>=0.4.0->langchain-chroma->-r requirements.txt (line 5)) (0.26.2)\n",
      "Requirement already satisfied: click>=8.0.0 in /Users/tomg/Source/courses/ds549/ml-549-fa24/.venv/lib/python3.12/site-packages (from typer>=0.9.0->chromadb!=0.5.4,!=0.5.5,<0.6.0,>=0.4.0->langchain-chroma->-r requirements.txt (line 5)) (8.1.7)\n",
      "Requirement already satisfied: shellingham>=1.3.0 in /Users/tomg/Source/courses/ds549/ml-549-fa24/.venv/lib/python3.12/site-packages (from typer>=0.9.0->chromadb!=0.5.4,!=0.5.5,<0.6.0,>=0.4.0->langchain-chroma->-r requirements.txt (line 5)) (1.5.4)\n",
      "Requirement already satisfied: mypy-extensions>=0.3.0 in /Users/tomg/Source/courses/ds549/ml-549-fa24/.venv/lib/python3.12/site-packages (from typing-inspect<1,>=0.4.0->dataclasses-json<0.7,>=0.5.7->langchain-community->-r requirements.txt (line 6)) (1.0.0)\n",
      "Requirement already satisfied: httptools>=0.5.0 in /Users/tomg/Source/courses/ds549/ml-549-fa24/.venv/lib/python3.12/site-packages (from uvicorn[standard]>=0.18.3->chromadb!=0.5.4,!=0.5.5,<0.6.0,>=0.4.0->langchain-chroma->-r requirements.txt (line 5)) (0.6.4)\n",
      "Requirement already satisfied: uvloop!=0.15.0,!=0.15.1,>=0.14.0 in /Users/tomg/Source/courses/ds549/ml-549-fa24/.venv/lib/python3.12/site-packages (from uvicorn[standard]>=0.18.3->chromadb!=0.5.4,!=0.5.5,<0.6.0,>=0.4.0->langchain-chroma->-r requirements.txt (line 5)) (0.21.0)\n",
      "Requirement already satisfied: watchfiles>=0.13 in /Users/tomg/Source/courses/ds549/ml-549-fa24/.venv/lib/python3.12/site-packages (from uvicorn[standard]>=0.18.3->chromadb!=0.5.4,!=0.5.5,<0.6.0,>=0.4.0->langchain-chroma->-r requirements.txt (line 5)) (0.24.0)\n",
      "Requirement already satisfied: websockets>=10.4 in /Users/tomg/Source/courses/ds549/ml-549-fa24/.venv/lib/python3.12/site-packages (from uvicorn[standard]>=0.18.3->chromadb!=0.5.4,!=0.5.5,<0.6.0,>=0.4.0->langchain-chroma->-r requirements.txt (line 5)) (13.1)\n",
      "Requirement already satisfied: propcache>=0.2.0 in /Users/tomg/Source/courses/ds549/ml-549-fa24/.venv/lib/python3.12/site-packages (from yarl<2.0,>=1.12.0->aiohttp<4.0.0,>=3.8.3->langchain->-r requirements.txt (line 2)) (0.2.0)\n",
      "Requirement already satisfied: cachetools<6.0,>=2.0.0 in /Users/tomg/Source/courses/ds549/ml-549-fa24/.venv/lib/python3.12/site-packages (from google-auth>=1.0.1->kubernetes>=28.1.0->chromadb!=0.5.4,!=0.5.5,<0.6.0,>=0.4.0->langchain-chroma->-r requirements.txt (line 5)) (5.5.0)\n",
      "Requirement already satisfied: pyasn1-modules>=0.2.1 in /Users/tomg/Source/courses/ds549/ml-549-fa24/.venv/lib/python3.12/site-packages (from google-auth>=1.0.1->kubernetes>=28.1.0->chromadb!=0.5.4,!=0.5.5,<0.6.0,>=0.4.0->langchain-chroma->-r requirements.txt (line 5)) (0.4.1)\n",
      "Requirement already satisfied: rsa<5,>=3.1.4 in /Users/tomg/Source/courses/ds549/ml-549-fa24/.venv/lib/python3.12/site-packages (from google-auth>=1.0.1->kubernetes>=28.1.0->chromadb!=0.5.4,!=0.5.5,<0.6.0,>=0.4.0->langchain-chroma->-r requirements.txt (line 5)) (4.9)\n",
      "Requirement already satisfied: filelock in /Users/tomg/Source/courses/ds549/ml-549-fa24/.venv/lib/python3.12/site-packages (from huggingface-hub<1.0,>=0.16.4->tokenizers>=0.13.2->chromadb!=0.5.4,!=0.5.5,<0.6.0,>=0.4.0->langchain-chroma->-r requirements.txt (line 5)) (3.15.4)\n",
      "Requirement already satisfied: fsspec>=2023.5.0 in /Users/tomg/Source/courses/ds549/ml-549-fa24/.venv/lib/python3.12/site-packages (from huggingface-hub<1.0,>=0.16.4->tokenizers>=0.13.2->chromadb!=0.5.4,!=0.5.5,<0.6.0,>=0.4.0->langchain-chroma->-r requirements.txt (line 5)) (2024.9.0)\n",
      "Requirement already satisfied: zipp>=3.20 in /Users/tomg/Source/courses/ds549/ml-549-fa24/.venv/lib/python3.12/site-packages (from importlib-metadata<=8.5.0,>=6.0->opentelemetry-api>=1.2.0->chromadb!=0.5.4,!=0.5.5,<0.6.0,>=0.4.0->langchain-chroma->-r requirements.txt (line 5)) (3.20.2)\n",
      "Requirement already satisfied: mdurl~=0.1 in /Users/tomg/Source/courses/ds549/ml-549-fa24/.venv/lib/python3.12/site-packages (from markdown-it-py>=2.2.0->rich>=10.11.0->chromadb!=0.5.4,!=0.5.5,<0.6.0,>=0.4.0->langchain-chroma->-r requirements.txt (line 5)) (0.1.2)\n",
      "Requirement already satisfied: humanfriendly>=9.1 in /Users/tomg/Source/courses/ds549/ml-549-fa24/.venv/lib/python3.12/site-packages (from coloredlogs->onnxruntime>=1.14.1->chromadb!=0.5.4,!=0.5.5,<0.6.0,>=0.4.0->langchain-chroma->-r requirements.txt (line 5)) (10.0)\n",
      "Requirement already satisfied: mpmath<1.4,>=1.1.0 in /Users/tomg/Source/courses/ds549/ml-549-fa24/.venv/lib/python3.12/site-packages (from sympy->onnxruntime>=1.14.1->chromadb!=0.5.4,!=0.5.5,<0.6.0,>=0.4.0->langchain-chroma->-r requirements.txt (line 5)) (1.3.0)\n",
      "Requirement already satisfied: pyasn1<0.7.0,>=0.4.6 in /Users/tomg/Source/courses/ds549/ml-549-fa24/.venv/lib/python3.12/site-packages (from pyasn1-modules>=0.2.1->google-auth>=1.0.1->kubernetes>=28.1.0->chromadb!=0.5.4,!=0.5.5,<0.6.0,>=0.4.0->langchain-chroma->-r requirements.txt (line 5)) (0.6.1)\n"
     ]
    }
   ],
   "source": [
    "import sys\n",
    "if 'google.colab' in sys.modules:\n",
    "    !pip install langchain langchain-openai langgraph>0.2.27\n",
    "else:\n",
    "    !pip install -r requirements.txt"
   ]
  },
  {
   "cell_type": "markdown",
   "id": "fad5ffb7",
   "metadata": {},
   "source": [
    "\n",
    "### LangSmith\n",
    "\n",
    "Many of the applications you build with LangChain will contain multiple steps with multiple invocations of LLM calls.\n",
    "As these applications get more and more complex, it becomes crucial to be able to inspect what exactly is going on inside your chain or agent.\n",
    "The best way to do this is with [LangSmith](https://smith.langchain.com).\n",
    "\n",
    "After you sign up at the link above, make sure to set your environment variables to start logging traces:\n",
    "\n",
    "```shell\n",
    "export LANGCHAIN_TRACING_V2=\"true\"\n",
    "export LANGCHAIN_API_KEY=\"...\"\n",
    "```\n",
    "\n",
    "Or, if in a notebook, you can set them with:\n",
    "\n",
    "```python\n",
    "import getpass\n",
    "import os\n",
    "\n",
    "os.environ[\"LANGCHAIN_TRACING_V2\"] = \"true\"\n",
    "os.environ[\"LANGCHAIN_API_KEY\"] = getpass.getpass()\n",
    "```\n",
    "\n"
   ]
  },
  {
   "cell_type": "code",
   "execution_count": 2,
   "id": "309f154d",
   "metadata": {},
   "outputs": [],
   "source": [
    "# Optional: You don't have to run this cell if you set the environment variables above\n",
    "\n",
    "import getpass\n",
    "import os\n",
    "\n",
    "os.environ[\"LANGCHAIN_TRACING_V2\"] = \"true\"\n",
    "os.environ[\"LANGCHAIN_ENDPOINT\"] = \"https://api.smith.langchain.com\"\n",
    "\n",
    "import sys\n",
    "if 'google.colab' in sys.modules:\n",
    "    from google.colab import userdata\n",
    "    os.environ[\"LANGCHAIN_API_KEY\"] = userdata.get('LANGCHAIN_API_KEY') if userdata.get('LANGCHAIN_API_KEY') else getpass.getpass(\"Enter your LangSmith API key:\")\n",
    "    os.environ[\"OPENAI_API_KEY\"] = userdata.get('OPENAI_API_KEY') if userdata.get('OPENAI_API_KEY') else getpass.getpass(\"Enter your OpenAI API key:\")\n",
    "else:\n",
    "    from dotenv import load_dotenv\n",
    "    load_dotenv('./.env')    \n",
    "    if not os.environ.get('LANGCHAIN_API_KEY'):\n",
    "        os.environ[\"LANGCHAIN_API_KEY\"] = getpass.getpass(\"Enter your LangSmith API key:\")\n",
    "    if not os.environ.get('OPENAI_API_KEY'):\n",
    "        os.environ[\"OPENAI_API_KEY\"] = getpass.getpass(\"Enter your OpenAI API key:\")\n",
    "\n",
    "os.environ[\"LANGCHAIN_PROJECT\"] = \"ds549-langchain-chatbot\" # or whatever you want your project name to be"
   ]
  },
  {
   "cell_type": "markdown",
   "id": "e3fde4cd",
   "metadata": {},
   "source": [
    "\n",
    "## Documents\n",
    "\n",
    "LangChain implements a [Document](https://python.langchain.com/api_reference/core/documents/langchain_core.documents.base.Document.html) abstraction, which is intended to represent a unit of text and associated metadata. It has two attributes:\n",
    "\n",
    "- `page_content`: a string representing the content;\n",
    "- `metadata`: a dict containing arbitrary metadata.\n",
    "\n",
    "The `metadata` attribute can capture information about the source of the document, its relationship to other documents, and other information. Note that an individual `Document` object often represents a chunk of a larger document.\n",
    "\n",
    "Let's generate some sample documents:"
   ]
  },
  {
   "cell_type": "code",
   "execution_count": 3,
   "id": "9f3dc151-7b2f-4d94-9558-7a84f7eab100",
   "metadata": {},
   "outputs": [],
   "source": [
    "from langchain_core.documents import Document\n",
    "\n",
    "documents = [\n",
    "    Document(\n",
    "        page_content=\"Dogs are great companions, known for their loyalty and friendliness.\",\n",
    "        metadata={\"source\": \"mammal-pets-doc\"},\n",
    "    ),\n",
    "    Document(\n",
    "        page_content=\"Cats are independent pets that often enjoy their own space.\",\n",
    "        metadata={\"source\": \"mammal-pets-doc\"},\n",
    "    ),\n",
    "    Document(\n",
    "        page_content=\"Goldfish are popular pets for beginners, requiring relatively simple care.\",\n",
    "        metadata={\"source\": \"fish-pets-doc\"},\n",
    "    ),\n",
    "    Document(\n",
    "        page_content=\"Parrots are intelligent birds capable of mimicking human speech.\",\n",
    "        metadata={\"source\": \"bird-pets-doc\"},\n",
    "    ),\n",
    "    Document(\n",
    "        page_content=\"Rabbits are social animals that need plenty of space to hop around.\",\n",
    "        metadata={\"source\": \"mammal-pets-doc\"},\n",
    "    ),\n",
    "]"
   ]
  },
  {
   "cell_type": "markdown",
   "id": "1cac19bd-27d1-40f1-9c27-7a586b685b4e",
   "metadata": {},
   "source": [
    "Here we've generated five documents, containing metadata indicating three distinct \"sources\".\n"
   ]
  },
  {
   "cell_type": "markdown",
   "id": "50c33659",
   "metadata": {},
   "source": [
    "\n",
    "## Vector stores\n",
    "\n",
    "Vector search is a common way to store and search over unstructured data (such as unstructured text). The idea is to store numeric vectors that are associated with the text. Given a query, we can [embed](https://python.langchain.com/docs/concepts/embedding_models) it as a vector of the same dimension and use vector similarity metrics to identify related data in the store.\n",
    "\n",
    "LangChain [VectorStore](https://python.langchain.com/api_reference/core/vectorstores/langchain_core.vectorstores.base.VectorStore.html) objects contain methods for adding text and `Document` objects to the store, and querying them using various similarity metrics. They are often initialized with [embedding](https://python.langchain.com/docs/how_to/embed_text) models, which determine how text data is translated to numeric vectors.\n",
    "\n",
    "LangChain includes a suite of [integrations](https://python.langchain.com/docs/integrations/vectorstores) with different vector store technologies. Some vector stores are hosted by a provider (e.g., various cloud providers) and require specific credentials to use; some (such as [Postgres](https://python.langchain.com/docs/integrations/vectorstores/pgvector)) run in separate infrastructure that can be run locally or via a third-party; others can run in-memory for lightweight workloads. Here we will demonstrate usage of LangChain VectorStores using [Chroma](https://python.langchain.com/docs/integrations/vectorstores/chroma), which includes an in-memory implementation.\n",
    "\n",
    "To instantiate a vector store, we often need to provide an [embedding](https://python.langchain.com/docs/how_to/embed_text) model to specify how text should be converted into a numeric vector. Here we will use [OpenAI embeddings](https://python.langchain.com/docs/integrations/text_embedding/openai/)."
   ]
  },
  {
   "cell_type": "code",
   "execution_count": 4,
   "id": "d48acc28-1a34-414b-8e08-fbdef3a2a60b",
   "metadata": {},
   "outputs": [],
   "source": [
    "from langchain_chroma import Chroma\n",
    "from langchain_openai import OpenAIEmbeddings\n",
    "\n",
    "vectorstore = Chroma.from_documents(\n",
    "    documents,\n",
    "    embedding=OpenAIEmbeddings(),\n",
    ")"
   ]
  },
  {
   "cell_type": "markdown",
   "id": "ff0f0b43-e5b8-4c79-b782-a02f17345487",
   "metadata": {},
   "source": [
    "Calling `.from_documents` here will add the documents to the vector store. [VectorStore](https://python.langchain.com/api_reference/core/vectorstores/langchain_core.vectorstores.base.VectorStore.html) implements methods for adding documents that can also be called after the object is instantiated. Most implementations will allow you to connect to an existing vector store--  e.g., by providing a client, index name, or other information. See the documentation for a specific [integration](https://python.langchain.com/docs/integrations/vectorstores) for more detail.\n",
    "\n",
    "Once we've instantiated a `VectorStore` that contains documents, we can query it. [VectorStore](https://python.langchain.com/api_reference/core/vectorstores/langchain_core.vectorstores.base.VectorStore.html) includes methods for querying:\n",
    "- Synchronously and asynchronously;\n",
    "- By string query and by vector;\n",
    "- With and without returning similarity scores;\n",
    "- By similarity and [maximum marginal relevance](https://python.langchain.com/api_reference/core/vectorstores/langchain_core.vectorstores.base.VectorStore.html#langchain_core.vectorstores.base.VectorStore.max_marginal_relevance_search) (to balance similarity with query to diversity in retrieved results).\n",
    "\n",
    "The methods will generally include a list of [Document](https://python.langchain.com/api_reference/core/documents/langchain_core.documents.base.Document.html#langchain_core.documents.base.Document) objects in their outputs.\n",
    "\n",
    "### Examples\n",
    "\n",
    "Return documents based on similarity to a string query:"
   ]
  },
  {
   "cell_type": "code",
   "execution_count": 5,
   "id": "7e01ed91-1a98-4221-960a-bd7a2541a548",
   "metadata": {},
   "outputs": [
    {
     "data": {
      "text/plain": [
       "[Document(metadata={'source': 'mammal-pets-doc'}, page_content='Cats are independent pets that often enjoy their own space.'),\n",
       " Document(metadata={'source': 'mammal-pets-doc'}, page_content='Dogs are great companions, known for their loyalty and friendliness.'),\n",
       " Document(metadata={'source': 'mammal-pets-doc'}, page_content='Rabbits are social animals that need plenty of space to hop around.'),\n",
       " Document(metadata={'source': 'bird-pets-doc'}, page_content='Parrots are intelligent birds capable of mimicking human speech.')]"
      ]
     },
     "execution_count": 5,
     "metadata": {},
     "output_type": "execute_result"
    }
   ],
   "source": [
    "vectorstore.similarity_search(\"cat\")"
   ]
  },
  {
   "cell_type": "markdown",
   "id": "4d4f9857-5a7d-4b5f-82b8-ff76539143c2",
   "metadata": {},
   "source": [
    "Async query:"
   ]
  },
  {
   "cell_type": "code",
   "execution_count": 6,
   "id": "618af196-6182-4a7d-8b09-07493fcdc868",
   "metadata": {},
   "outputs": [
    {
     "data": {
      "text/plain": [
       "[Document(metadata={'source': 'mammal-pets-doc'}, page_content='Cats are independent pets that often enjoy their own space.'),\n",
       " Document(metadata={'source': 'mammal-pets-doc'}, page_content='Dogs are great companions, known for their loyalty and friendliness.'),\n",
       " Document(metadata={'source': 'mammal-pets-doc'}, page_content='Rabbits are social animals that need plenty of space to hop around.'),\n",
       " Document(metadata={'source': 'bird-pets-doc'}, page_content='Parrots are intelligent birds capable of mimicking human speech.')]"
      ]
     },
     "execution_count": 6,
     "metadata": {},
     "output_type": "execute_result"
    }
   ],
   "source": [
    "await vectorstore.asimilarity_search(\"cat\")"
   ]
  },
  {
   "cell_type": "markdown",
   "id": "d4172698-9ad7-4422-99b2-bdc268e99c75",
   "metadata": {},
   "source": [
    "Return scores:"
   ]
  },
  {
   "cell_type": "code",
   "execution_count": 7,
   "id": "4ed24af2-0d82-478c-949b-b389348d4e9f",
   "metadata": {},
   "outputs": [
    {
     "data": {
      "text/plain": [
       "[(Document(metadata={'source': 'mammal-pets-doc'}, page_content='Cats are independent pets that often enjoy their own space.'),\n",
       "  0.3749314844608307),\n",
       " (Document(metadata={'source': 'mammal-pets-doc'}, page_content='Dogs are great companions, known for their loyalty and friendliness.'),\n",
       "  0.48302507400512695),\n",
       " (Document(metadata={'source': 'mammal-pets-doc'}, page_content='Rabbits are social animals that need plenty of space to hop around.'),\n",
       "  0.49583205580711365),\n",
       " (Document(metadata={'source': 'bird-pets-doc'}, page_content='Parrots are intelligent birds capable of mimicking human speech.'),\n",
       "  0.4975235164165497)]"
      ]
     },
     "execution_count": 7,
     "metadata": {},
     "output_type": "execute_result"
    }
   ],
   "source": [
    "# Note that providers implement different scores; Chroma here\n",
    "# returns a distance metric that should vary inversely with\n",
    "# similarity.\n",
    "\n",
    "vectorstore.similarity_search_with_score(\"cat\")"
   ]
  },
  {
   "cell_type": "markdown",
   "id": "b4991642-7275-40a9-b11a-e3beccbf2614",
   "metadata": {},
   "source": [
    "Return documents based on similarity to an embedded query:"
   ]
  },
  {
   "cell_type": "code",
   "execution_count": 8,
   "id": "b1a5eabb-a821-48cc-917e-cc27f03e4bcc",
   "metadata": {},
   "outputs": [
    {
     "data": {
      "text/plain": [
       "[Document(metadata={'source': 'mammal-pets-doc'}, page_content='Cats are independent pets that often enjoy their own space.'),\n",
       " Document(metadata={'source': 'mammal-pets-doc'}, page_content='Dogs are great companions, known for their loyalty and friendliness.'),\n",
       " Document(metadata={'source': 'mammal-pets-doc'}, page_content='Rabbits are social animals that need plenty of space to hop around.'),\n",
       " Document(metadata={'source': 'bird-pets-doc'}, page_content='Parrots are intelligent birds capable of mimicking human speech.')]"
      ]
     },
     "execution_count": 8,
     "metadata": {},
     "output_type": "execute_result"
    }
   ],
   "source": [
    "embedding = OpenAIEmbeddings().embed_query(\"cat\")\n",
    "\n",
    "vectorstore.similarity_search_by_vector(embedding)"
   ]
  },
  {
   "cell_type": "markdown",
   "id": "168dbbec-ea97-4cc9-bb1a-75519c2d08af",
   "metadata": {},
   "source": [
    "Learn more:\n",
    "\n",
    "- [API reference](https://python.langchain.com/api_reference/core/vectorstores/langchain_core.vectorstores.base.VectorStore.html)\n",
    "- [How-to guide](https://python.langchain.com/docs/how_to/vectorstores)\n",
    "- [Integration-specific docs](https://python.langchain.com/docs/integrations/vectorstores)\n"
   ]
  },
  {
   "cell_type": "markdown",
   "id": "e48a0266",
   "metadata": {},
   "source": [
    "\n",
    "## Retrievers\n",
    "\n",
    "LangChain `VectorStore` objects do not subclass [Runnable](https://python.langchain.com/api_reference/core/index.html#langchain-core-runnables), and so cannot immediately be integrated into LangChain Expression Language [chains](https://python.langchain.com/docs/concepts/lcel).\n",
    "\n",
    "LangChain [Retrievers](https://python.langchain.com/api_reference/core/index.html#langchain-core-retrievers) are Runnables, so they implement a standard set of methods (e.g., synchronous and asynchronous `invoke` and `batch` operations) and are designed to be incorporated in LCEL chains.\n",
    "\n",
    "We can create a simple version of this ourselves, without subclassing `Retriever`. If we choose what method we wish to use to retrieve documents, we can create a runnable easily. Below we will build one around the `similarity_search` method:"
   ]
  },
  {
   "cell_type": "code",
   "execution_count": 9,
   "id": "f1461582-e569-4326-bd95-510f72edf019",
   "metadata": {},
   "outputs": [
    {
     "data": {
      "text/plain": [
       "[[Document(metadata={'source': 'mammal-pets-doc'}, page_content='Cats are independent pets that often enjoy their own space.')],\n",
       " [Document(metadata={'source': 'fish-pets-doc'}, page_content='Goldfish are popular pets for beginners, requiring relatively simple care.')]]"
      ]
     },
     "execution_count": 9,
     "metadata": {},
     "output_type": "execute_result"
    }
   ],
   "source": [
    "from langchain_core.documents import Document\n",
    "from langchain_core.runnables import RunnableLambda\n",
    "\n",
    "retriever = RunnableLambda(vectorstore.similarity_search).bind(k=1)  # select top result\n",
    "\n",
    "retriever.batch([\"cat\", \"shark\"])"
   ]
  },
  {
   "cell_type": "markdown",
   "id": "a36d3f64-a8bc-4baa-b2ea-07e324a0143e",
   "metadata": {},
   "source": [
    "Vectorstores implement an `as_retriever` method that will generate a Retriever, specifically a [VectorStoreRetriever](https://python.langchain.com/api_reference/core/vectorstores/langchain_core.vectorstores.base.VectorStoreRetriever.html). These retrievers include specific `search_type` and `search_kwargs` attributes that identify what methods of the underlying vector store to call, and how to parameterize them. For instance, we can replicate the above with the following:"
   ]
  },
  {
   "cell_type": "code",
   "execution_count": 10,
   "id": "4989fe5e-ac58-4751-bc35-f53ff885860c",
   "metadata": {},
   "outputs": [
    {
     "data": {
      "text/plain": [
       "[[Document(metadata={'source': 'mammal-pets-doc'}, page_content='Cats are independent pets that often enjoy their own space.')],\n",
       " [Document(metadata={'source': 'fish-pets-doc'}, page_content='Goldfish are popular pets for beginners, requiring relatively simple care.')]]"
      ]
     },
     "execution_count": 10,
     "metadata": {},
     "output_type": "execute_result"
    }
   ],
   "source": [
    "retriever = vectorstore.as_retriever(\n",
    "    search_type=\"similarity\",\n",
    "    search_kwargs={\"k\": 1},\n",
    ")\n",
    "\n",
    "retriever.batch([\"cat\", \"shark\"])"
   ]
  },
  {
   "cell_type": "markdown",
   "id": "6b79ded3-39ed-4aeb-8b70-cd36795ae239",
   "metadata": {},
   "source": [
    "`VectorStoreRetriever` supports search types of `\"similarity\"` (default), `\"mmr\"` (maximum marginal relevance, described above), and `\"similarity_score_threshold\"`. We can use the latter to threshold documents output by the retriever by similarity score.\n",
    "\n",
    "Retrievers can easily be incorporated into more complex applications, such as retrieval-augmented generation (RAG) applications that combine a given question with retrieved context into a prompt for a LLM. Below we show a minimal example.\n",
    "\n",
    "import ChatModelTabs from \"@theme/ChatModelTabs\";\n",
    "\n",
    "<ChatModelTabs customVarName=\"llm\" />\n"
   ]
  },
  {
   "cell_type": "code",
   "execution_count": 11,
   "id": "c77b68bf-59f3-4416-9877-960f934c374d",
   "metadata": {},
   "outputs": [],
   "source": [
    "# | output: false\n",
    "# | echo: false\n",
    "\n",
    "from langchain_openai import ChatOpenAI\n",
    "\n",
    "llm = ChatOpenAI(model=\"gpt-3.5-turbo\", temperature=0)"
   ]
  },
  {
   "cell_type": "code",
   "execution_count": 12,
   "id": "6f1ae0d0-0b4b-4da0-80ce-f82913052a83",
   "metadata": {},
   "outputs": [],
   "source": [
    "from langchain_core.prompts import ChatPromptTemplate\n",
    "from langchain_core.runnables import RunnablePassthrough\n",
    "\n",
    "message = \"\"\"\n",
    "Answer this question using the provided context only.\n",
    "\n",
    "{question}\n",
    "\n",
    "Context:\n",
    "{context}\n",
    "\"\"\"\n",
    "\n",
    "prompt = ChatPromptTemplate.from_messages([(\"human\", message)])\n",
    "\n",
    "rag_chain = {\"context\": retriever, \"question\": RunnablePassthrough()} | prompt | llm"
   ]
  },
  {
   "cell_type": "code",
   "execution_count": 13,
   "id": "b3c0d625-61e0-492e-b3a6-c40d383fca03",
   "metadata": {},
   "outputs": [
    {
     "name": "stdout",
     "output_type": "stream",
     "text": [
      "Cats are independent pets that often enjoy their own space.\n"
     ]
    }
   ],
   "source": [
    "response = rag_chain.invoke(\"tell me about cats\")\n",
    "\n",
    "print(response.content)"
   ]
  },
  {
   "cell_type": "markdown",
   "id": "3d9be7cb-2081-48a4-b6e4-d5e2d562ffd4",
   "metadata": {},
   "source": [
    "## Learn more:\n",
    "\n",
    "Retrieval strategies can be rich and complex. For example:\n",
    "\n",
    "- We can [infer hard rules and filters](https://python.langchain.com/docs/how_to/self_query/) from a query (e.g., \"using documents published after 2020\");\n",
    "- We can [return documents that are linked](https://python.langchain.com/docs/how_to/parent_document_retriever/) to the retrieved context in some way (e.g., via some document taxonomy);\n",
    "- We can generate [multiple embeddings](https://python.langchain.com/docs/how_to/multi_vector) for each unit of context;\n",
    "- We can [ensemble results](https://python.langchain.com/docs/how_to/ensemble_retriever) from multiple retrievers;\n",
    "- We can assign weights to documents, e.g., to weigh [recent documents](https://python.langchain.com/docs/how_to/time_weighted_vectorstore/) higher.\n",
    "\n",
    "The [retrievers](https://python.langchain.com/docs/how_to#retrievers) section of the how-to guides covers these and other built-in retrieval strategies.\n",
    "\n",
    "It is also straightforward to extend the [BaseRetriever](https://python.langchain.com/api_reference/core/retrievers/langchain_core.retrievers.BaseRetriever.html) class in order to implement custom retrievers. See our how-to guide [here](https://python.langchain.com/docs/how_to/custom_retriever)."
   ]
  }
 ],
 "metadata": {
  "kernelspec": {
   "display_name": "Python 3 (ipykernel)",
   "language": "python",
   "name": "python3"
  },
  "language_info": {
   "codemirror_mode": {
    "name": "ipython",
    "version": 3
   },
   "file_extension": ".py",
   "mimetype": "text/x-python",
   "name": "python",
   "nbconvert_exporter": "python",
   "pygments_lexer": "ipython3",
   "version": "3.12.4"
  }
 },
 "nbformat": 4,
 "nbformat_minor": 5
}
