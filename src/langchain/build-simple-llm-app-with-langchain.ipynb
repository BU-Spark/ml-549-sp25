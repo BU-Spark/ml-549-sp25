{
 "cells": [
  {
   "cell_type": "markdown",
   "id": "64d1dc0c",
   "metadata": {},
   "source": [
    "# Build a Simple LLM Application with LangChain\n"
   ]
  },
  {
   "cell_type": "markdown",
   "id": "bd763cfc",
   "metadata": {},
   "source": [
    "> Adapted from [LangChain's Build a Simple LLM App](https://python.langchain.com/docs/tutorials/llm_chain/)\n",
    "> and [llm_chain.ipynb](https://github.com/langchain-ai/langchain/blob/master/docs/docs/tutorials/llm_chain.ipynb)."
   ]
  },
  {
   "cell_type": "markdown",
   "id": "76474762",
   "metadata": {},
   "source": [
    "\n",
    "In this quickstart we'll show you how to build a simple LLM application with LangChain. This application will translate text from English into another language. This is a relatively simple LLM application - it's just a single LLM call plus some prompting. Still, this is a great way to get started with LangChain - a lot of features can be built with just some prompting and an LLM call!\n",
    "\n",
    "After reading this tutorial, you'll have a high level overview of:\n",
    "\n",
    "- Using [language models](/docs/concepts/chat_models)\n",
    "\n",
    "- Using [PromptTemplates](/docs/concepts/prompt_templates) and [OutputParsers](/docs/concepts/output_parsers)\n",
    "\n",
    "- Using [LangChain Expression Language (LCEL)](/docs/concepts/lcel) to chain components together\n",
    "\n",
    "- Debugging and tracing your application using [LangSmith](https://docs.smith.langchain.com/)\n",
    "\n",
    "- Deploying your application with [LangServe](/docs/concepts/#langserve)\n",
    "\n",
    "Let's dive in!\n"
   ]
  },
  {
   "cell_type": "markdown",
   "id": "2cbf711d",
   "metadata": {},
   "source": [
    "## Setup"
   ]
  },
  {
   "cell_type": "markdown",
   "id": "be8c2455",
   "metadata": {},
   "source": [
    "### Installation"
   ]
  },
  {
   "cell_type": "markdown",
   "id": "e9e540ce",
   "metadata": {},
   "source": [
    "To install LangChain, optionally create a python virtual environment, then run:\n",
    "\n",
    "```bash\n",
    "# from pip\n",
    "pip install langchain langchain-openai\n",
    "```\n",
    "\n",
    "```bash\n",
    "# from conda\n",
    "conda install langchain langchain-openai -c conda-forge\n",
    "```\n",
    "\n",
    "For more details, see the [Installation guide](https://python.langchain.com/docs/how_to/installation/)."
   ]
  },
  {
   "cell_type": "markdown",
   "id": "ef72e9d4",
   "metadata": {},
   "source": [
    "### LangSmith"
   ]
  },
  {
   "cell_type": "markdown",
   "id": "e68282b6",
   "metadata": {},
   "source": [
    "Many of the applications you build with LangChain will contain multiple steps with multiple invocations of LLM calls.\n",
    "As these applications get more and more complex, it becomes crucial to be able to inspect what exactly is going on inside your chain or agent.\n",
    "The best way to do this is with [LangSmith](https://smith.langchain.com).\n",
    "\n",
    "1. Go to [LangSmith](https://smith.langchain.com) to create an account or sign in.\n",
    "1. After you create an account you will be sent a confirmation email. When you click\n",
    "   on the link in the confirmation email you are taken to a page with a `Get Started` link.\n",
    "1. Click on the `Get Started` link to go to the LangSmith setup page if this is your first time.\n",
    "\n",
    "After you sign up at the link above, make sure to set your environment variables to start logging traces:\n",
    "\n",
    "```bash\n",
    "export LANGCHAIN_TRACING_V2=true\n",
    "export LANGCHAIN_ENDPOINT=\"https://api.smith.langchain.com\"\n",
    "export LANGCHAIN_API_KEY=\"...\"\n",
    "export LANGCHAIN_PROJECT=\"pr-back-questionnaire-59\"  # or whatever you want your project name to be\n",
    "```\n",
    "\n",
    "Or, if in a notebook, you can set them with:"
   ]
  },
  {
   "cell_type": "code",
   "execution_count": null,
   "id": "7aa65335",
   "metadata": {},
   "outputs": [],
   "source": [
    "# Optional: You don't have to run this cell if you set the environment variables above\n",
    "\n",
    "import getpass\n",
    "import os\n",
    "\n",
    "os.environ[\"LANGCHAIN_TRACING_V2\"] = \"true\"\n",
    "os.environ[\"LANGCHAIN_ENDPOINT\"] = \"https://api.smith.langchain.com\"\n",
    "\n",
    "# prompt for your LangSmith API key\n",
    "os.environ[\"LANGCHAIN_API_KEY\"] = getpass.getpass(\"Enter your LangSmith API key:\")\n",
    "os.environ[\"LANGCHAIN_PROJECT\"] = \"pr-back-questionnaire-59\" # or whatever you want your project name to be\n",
    "\n",
    "# prompt for your OpenAI API key\n",
    "os.environ[\"OPENAI_API_KEY\"] = getpass.getpass(\"Enter your OpenAI API key:\")"
   ]
  },
  {
   "cell_type": "markdown",
   "id": "1c44dd54",
   "metadata": {},
   "source": [
    "To test your setup, you can run the following cell."
   ]
  },
  {
   "cell_type": "code",
   "execution_count": 9,
   "id": "fe045306",
   "metadata": {},
   "outputs": [
    {
     "data": {
      "text/plain": [
       "AIMessage(content='Hello there! How can I assist you today?', additional_kwargs={'refusal': None}, response_metadata={'token_usage': {'completion_tokens': 10, 'prompt_tokens': 11, 'total_tokens': 21, 'completion_tokens_details': {'audio_tokens': None, 'reasoning_tokens': 0}, 'prompt_tokens_details': {'audio_tokens': None, 'cached_tokens': 0}}, 'model_name': 'gpt-3.5-turbo-0125', 'system_fingerprint': None, 'finish_reason': 'stop', 'logprobs': None}, id='run-f1a9935e-ad2f-446e-913f-2d5d9a9a7264-0', usage_metadata={'input_tokens': 11, 'output_tokens': 10, 'total_tokens': 21, 'input_token_details': {'cache_read': 0}, 'output_token_details': {'reasoning': 0}})"
      ]
     },
     "execution_count": 9,
     "metadata": {},
     "output_type": "execute_result"
    }
   ],
   "source": [
    "from langchain_openai import ChatOpenAI\n",
    "\n",
    "llm = ChatOpenAI()\n",
    "llm.invoke(\"Hello, world!\")\n"
   ]
  },
  {
   "cell_type": "markdown",
   "id": "b2340eda",
   "metadata": {},
   "source": [
    "You should see a response similar to\n",
    "\n",
    "```bash\n",
    "AIMessage(content='Hello there! How can I assist you today?', additional_kwargs={'refusal': None}, response_metadata={'token_usage': {'completion_tokens': 10, 'prompt_tokens': 11, 'total_tokens': 21, 'completion_tokens_details': {'audio_tokens': None, 'reasoning_tokens': 0}, 'prompt_tokens_details': {'audio_tokens': None, 'cached_tokens': 0}}, 'model_name': 'gpt-3.5-turbo-0125', 'system_fingerprint': None, 'finish_reason': 'stop', 'logprobs': None}, id='run-f1a9935e-ad2f-446e-913f-2d5d9a9a7264-0', usage_metadata={'input_tokens': 11, 'output_tokens': 10, 'total_tokens': 21, 'input_token_details': {'cache_read': 0}, 'output_token_details': {'reasoning': 0}})\n",
    "```"
   ]
  },
  {
   "cell_type": "markdown",
   "id": "4a70add4",
   "metadata": {},
   "source": [
    "Once this works for now, you can click `skip for now` to jump to your LangSmith home."
   ]
  },
  {
   "cell_type": "markdown",
   "id": "e5558ca9",
   "metadata": {},
   "source": [
    "## Using Language Models"
   ]
  },
  {
   "cell_type": "markdown",
   "id": "c6d17ad0",
   "metadata": {},
   "source": [
    "First up, let's learn how to use a language model by itself. \n",
    "\n",
    "LangChain supports many different language models that you can use interchangeably.\n",
    "For now, we'll use OpenAI, but you can navigate to the [tutorial page](https://python.langchain.com/docs/tutorials/llm_chain/)\n",
    "to try other APIs."
   ]
  },
  {
   "cell_type": "code",
   "execution_count": 10,
   "id": "e4b41234",
   "metadata": {},
   "outputs": [],
   "source": [
    "from langchain_openai import ChatOpenAI\n",
    "\n",
    "model = ChatOpenAI(model=\"gpt-4\")"
   ]
  },
  {
   "cell_type": "code",
   "execution_count": 12,
   "id": "7e1a4a7c",
   "metadata": {},
   "outputs": [
    {
     "name": "stdout",
     "output_type": "stream",
     "text": [
      "<class 'langchain_openai.chat_models.base.ChatOpenAI'>\n"
     ]
    }
   ],
   "source": [
    "print(type(model))"
   ]
  },
  {
   "cell_type": "markdown",
   "id": "ca5642ff",
   "metadata": {},
   "source": [
    "Let's first use the model directly. \n",
    "\n",
    "`ChatModel`s are instances of LangChain \n",
    "[`Runnables`](https://python.langchain.com/api_reference/core/runnables/langchain_core.runnables.base.Runnable.html),\n",
    "which means they expose a standard interface for interacting with them. \n",
    "\n",
    "To just simply call the model, we can pass in a list of messages to the `.invoke` method."
   ]
  },
  {
   "cell_type": "code",
   "execution_count": 13,
   "id": "1b2481f0",
   "metadata": {},
   "outputs": [
    {
     "data": {
      "text/plain": [
       "AIMessage(content='ciao!', additional_kwargs={'refusal': None}, response_metadata={'token_usage': {'completion_tokens': 3, 'prompt_tokens': 20, 'total_tokens': 23, 'completion_tokens_details': {'audio_tokens': None, 'reasoning_tokens': 0}, 'prompt_tokens_details': {'audio_tokens': None, 'cached_tokens': 0}}, 'model_name': 'gpt-4-0613', 'system_fingerprint': None, 'finish_reason': 'stop', 'logprobs': None}, id='run-9b0a7b89-4d47-4250-a809-b81c0a53d137-0', usage_metadata={'input_tokens': 20, 'output_tokens': 3, 'total_tokens': 23, 'input_token_details': {'cache_read': 0}, 'output_token_details': {'reasoning': 0}})"
      ]
     },
     "execution_count": 13,
     "metadata": {},
     "output_type": "execute_result"
    }
   ],
   "source": [
    "from langchain_core.messages import HumanMessage, SystemMessage\n",
    "\n",
    "messages = [\n",
    "    SystemMessage(content=\"Translate the following from English into Italian\"),\n",
    "    HumanMessage(content=\"hi!\"),\n",
    "]\n",
    "\n",
    "model.invoke(messages)"
   ]
  },
  {
   "cell_type": "markdown",
   "id": "f83373db",
   "metadata": {},
   "source": [
    "Theoretically, if you've enabled LangSmith, you should be able to see this run\n",
    "logged to LangSmith, but at the time of this writing, it wasn't logging for this example.\n",
    "\n",
    "There is a public example of the [LangSmith trace](https://smith.langchain.com/public/88baa0b2-7c1a-4d09-ba30-a47985dde2ea/r)."
   ]
  },
  {
   "cell_type": "markdown",
   "id": "32bd03ed",
   "metadata": {},
   "source": [
    "## OutputParsers"
   ]
  },
  {
   "cell_type": "markdown",
   "id": "b7abb613",
   "metadata": {},
   "source": [
    "\n",
    "Notice that the response from the model is an `AIMessage`. \n",
    "\n",
    "This contains a string response along with other metadata about the response. \n",
    "\n",
    "Oftentimes we may just want to work with the string response. \n",
    "\n",
    "We can parse out just this response by using a simple output parser.\n",
    "\n",
    "We first import the simple output parser."
   ]
  },
  {
   "cell_type": "code",
   "execution_count": 14,
   "id": "d7ae9c58",
   "metadata": {},
   "outputs": [],
   "source": [
    "from langchain_core.output_parsers import StrOutputParser\n",
    "\n",
    "parser = StrOutputParser()"
   ]
  },
  {
   "cell_type": "markdown",
   "id": "eaebe33a",
   "metadata": {},
   "source": [
    "One way to use it is to use it by itself. For example, we could save the result of the language model call and then pass it to the parser."
   ]
  },
  {
   "cell_type": "code",
   "execution_count": 15,
   "id": "6bacb837",
   "metadata": {},
   "outputs": [],
   "source": [
    "result = model.invoke(messages)"
   ]
  },
  {
   "cell_type": "code",
   "execution_count": 16,
   "id": "efb8da87",
   "metadata": {},
   "outputs": [
    {
     "data": {
      "text/plain": [
       "'Ciao!'"
      ]
     },
     "execution_count": 16,
     "metadata": {},
     "output_type": "execute_result"
    }
   ],
   "source": [
    "parser.invoke(result)"
   ]
  },
  {
   "cell_type": "markdown",
   "id": "d508b79d",
   "metadata": {},
   "source": [
    "More commonly, we can \"chain\" the model with this output parser. \n",
    "\n",
    "This means this output parser will get called every time in this chain. \n",
    "\n",
    "This chain takes on the input type of the language model (string or list of\n",
    "message) and returns the output type of the output parser (string).\n",
    "\n",
    "We can easily create the chain using the `|` operator. The `|` operator is used in LangChain to combine two elements together."
   ]
  },
  {
   "cell_type": "code",
   "execution_count": 19,
   "id": "9449cfa6",
   "metadata": {},
   "outputs": [],
   "source": [
    "chain = model | parser"
   ]
  },
  {
   "cell_type": "markdown",
   "id": "b1163f7d",
   "metadata": {},
   "source": [
    "> This seems to be a clever override of the python `|` (or) operator which apparently\n",
    "> is implemented as a `__or__` method in the `Runnable` base class."
   ]
  },
  {
   "cell_type": "code",
   "execution_count": 20,
   "id": "3e82f933",
   "metadata": {},
   "outputs": [
    {
     "data": {
      "text/plain": [
       "'Ciao!'"
      ]
     },
     "execution_count": 20,
     "metadata": {},
     "output_type": "execute_result"
    }
   ],
   "source": [
    "chain.invoke(messages)"
   ]
  },
  {
   "cell_type": "markdown",
   "id": "dd009096",
   "metadata": {},
   "source": [
    "If LangSmith was working, we would see that the chain has two steps: \n",
    "\n",
    "1. first the language model is called, \n",
    "2. then the result of that is passed to the output parser. \n",
    "\n",
    "Here's a public exmaple of the [LangSmith trace]( https://smith.langchain.com/public/f1bdf656-2739-42f7-ac7f-0f1dd712322f/r)"
   ]
  },
  {
   "cell_type": "markdown",
   "id": "0989d90b",
   "metadata": {},
   "source": [
    "### Get a Graph Representation of the Chain"
   ]
  },
  {
   "cell_type": "markdown",
   "id": "4927ad47",
   "metadata": {},
   "source": [
    "You can see a graph representation of the chain."
   ]
  },
  {
   "cell_type": "code",
   "execution_count": null,
   "id": "e79eb899",
   "metadata": {},
   "outputs": [],
   "source": [
    "# grandalf is a pre-requisite\n",
    "!pip install grandalf"
   ]
  },
  {
   "cell_type": "code",
   "execution_count": 24,
   "id": "f567dbe5",
   "metadata": {},
   "outputs": [
    {
     "name": "stdout",
     "output_type": "stream",
     "text": [
      "   +-----------------+     \n",
      "   | ChatOpenAIInput |     \n",
      "   +-----------------+     \n",
      "            *              \n",
      "            *              \n",
      "            *              \n",
      "      +------------+       \n",
      "      | ChatOpenAI |       \n",
      "      +------------+       \n",
      "            *              \n",
      "            *              \n",
      "            *              \n",
      "   +-----------------+     \n",
      "   | StrOutputParser |     \n",
      "   +-----------------+     \n",
      "            *              \n",
      "            *              \n",
      "            *              \n",
      "+-----------------------+  \n",
      "| StrOutputParserOutput |  \n",
      "+-----------------------+  \n"
     ]
    }
   ],
   "source": [
    "chain.get_graph().print_ascii()"
   ]
  },
  {
   "cell_type": "markdown",
   "id": "1ab8da31",
   "metadata": {},
   "source": [
    "## Prompt Templates"
   ]
  },
  {
   "cell_type": "markdown",
   "id": "a4e81728",
   "metadata": {},
   "source": [
    "Right now we are passing a list of messages directly into the language model. \n",
    "\n",
    "Where does this list of messages come from? \n",
    "\n",
    "Usually, it is constructed from a combination of user input and application logic. \n",
    "\n",
    "This application logic usually takes the raw user input and transforms it into a\n",
    "list of messages ready to pass to the language model. \n",
    "\n",
    "Common transformations include adding a system message or formatting a template\n",
    "with the user input.\n",
    "\n",
    "PromptTemplates are a concept in LangChain designed to assist with this\n",
    "transformation. \n",
    "\n",
    "They take in raw user input and return data (a prompt) that is ready to pass\n",
    "into a language model. \n",
    "\n",
    "Let's create a PromptTemplate here. It will take in two user variables:\n",
    "\n",
    "- `language`: The language to translate text into\n",
    "- `text`: The text to translate"
   ]
  },
  {
   "cell_type": "code",
   "execution_count": 26,
   "id": "3e73cc20",
   "metadata": {},
   "outputs": [],
   "source": [
    "from langchain_core.prompts import ChatPromptTemplate"
   ]
  },
  {
   "cell_type": "markdown",
   "id": "7e876c2a",
   "metadata": {},
   "source": [
    "First, let's create a string that we will format to be the system message:"
   ]
  },
  {
   "cell_type": "code",
   "execution_count": 27,
   "id": "fd75ecde",
   "metadata": {},
   "outputs": [],
   "source": [
    "system_template = \"Translate the following into {language}:\""
   ]
  },
  {
   "cell_type": "markdown",
   "id": "fedf6f13",
   "metadata": {},
   "source": [
    "Next, we can create the PromptTemplate. \n",
    "\n",
    "This will be a combination of the `system_template` as well as a simpler\n",
    "template for where to put the text to be translated"
   ]
  },
  {
   "cell_type": "code",
   "execution_count": 28,
   "id": "88e566f3",
   "metadata": {},
   "outputs": [],
   "source": [
    "prompt_template = ChatPromptTemplate.from_messages(\n",
    "    [(\"system\", system_template), (\"user\", \"{text}\")]\n",
    ")"
   ]
  },
  {
   "cell_type": "markdown",
   "id": "d9711ba6",
   "metadata": {},
   "source": [
    "The input to this prompt template is a dictionary. We can play around with this prompt template by itself to see what it does by itself"
   ]
  },
  {
   "cell_type": "code",
   "execution_count": 29,
   "id": "f781b3cb",
   "metadata": {},
   "outputs": [
    {
     "data": {
      "text/plain": [
       "ChatPromptValue(messages=[SystemMessage(content='Translate the following into italian:', additional_kwargs={}, response_metadata={}), HumanMessage(content='hi', additional_kwargs={}, response_metadata={})])"
      ]
     },
     "execution_count": 29,
     "metadata": {},
     "output_type": "execute_result"
    }
   ],
   "source": [
    "result = prompt_template.invoke({\"language\": \"italian\", \"text\": \"hi\"})\n",
    "\n",
    "result"
   ]
  },
  {
   "cell_type": "markdown",
   "id": "1a49ba9e",
   "metadata": {},
   "source": [
    "We can see that it returns a `ChatPromptValue` that consists of two messages. If we want to access the messages directly we do:"
   ]
  },
  {
   "cell_type": "code",
   "execution_count": 30,
   "id": "2159b619",
   "metadata": {},
   "outputs": [
    {
     "data": {
      "text/plain": [
       "[SystemMessage(content='Translate the following into italian:', additional_kwargs={}, response_metadata={}),\n",
       " HumanMessage(content='hi', additional_kwargs={}, response_metadata={})]"
      ]
     },
     "execution_count": 30,
     "metadata": {},
     "output_type": "execute_result"
    }
   ],
   "source": [
    "result.to_messages()"
   ]
  },
  {
   "cell_type": "markdown",
   "id": "5a4267a8",
   "metadata": {},
   "source": [
    "## Chaining together components with LCEL"
   ]
  },
  {
   "cell_type": "markdown",
   "id": "b2a3c97d",
   "metadata": {},
   "source": [
    "\n",
    "We can now combine this with the model and the output parser from above using the pipe (`|`) operator:"
   ]
  },
  {
   "cell_type": "code",
   "execution_count": 31,
   "id": "6c6beb4b",
   "metadata": {},
   "outputs": [],
   "source": [
    "chain = prompt_template | model | parser"
   ]
  },
  {
   "cell_type": "code",
   "execution_count": 32,
   "id": "3e45595a",
   "metadata": {},
   "outputs": [
    {
     "data": {
      "text/plain": [
       "'ciao'"
      ]
     },
     "execution_count": 32,
     "metadata": {},
     "output_type": "execute_result"
    }
   ],
   "source": [
    "chain.invoke({\"language\": \"italian\", \"text\": \"hi\"})"
   ]
  },
  {
   "cell_type": "markdown",
   "id": "af1168c2",
   "metadata": {},
   "source": [
    "We can also print out the chain."
   ]
  },
  {
   "cell_type": "code",
   "execution_count": 33,
   "id": "42f4627b",
   "metadata": {},
   "outputs": [
    {
     "name": "stdout",
     "output_type": "stream",
     "text": [
      "     +-------------+       \n",
      "     | PromptInput |       \n",
      "     +-------------+       \n",
      "            *              \n",
      "            *              \n",
      "            *              \n",
      "  +--------------------+   \n",
      "  | ChatPromptTemplate |   \n",
      "  +--------------------+   \n",
      "            *              \n",
      "            *              \n",
      "            *              \n",
      "      +------------+       \n",
      "      | ChatOpenAI |       \n",
      "      +------------+       \n",
      "            *              \n",
      "            *              \n",
      "            *              \n",
      "   +-----------------+     \n",
      "   | StrOutputParser |     \n",
      "   +-----------------+     \n",
      "            *              \n",
      "            *              \n",
      "            *              \n",
      "+-----------------------+  \n",
      "| StrOutputParserOutput |  \n",
      "+-----------------------+  \n"
     ]
    }
   ],
   "source": [
    "chain.get_graph().print_ascii()"
   ]
  },
  {
   "cell_type": "markdown",
   "id": "0b19cecb",
   "metadata": {},
   "source": [
    "This is a simple example of using\n",
    "[LangChain Expression Language (LCEL)](https://python.langchain.com/docs/concepts/lcel/)\n",
    "to chain together LangChain modules. \n",
    "\n",
    "There are several benefits to this approach, including optimized streaming and tracing support.\n",
    "\n",
    "If we take a look at the LangSmith trace, we can see all three components show up.\n",
    "\n",
    "Here's the public example in [LangSmith trace](https://smith.langchain.com/public/bc49bec0-6b13-4726-967f-dbd3448b786d/r)."
   ]
  },
  {
   "cell_type": "markdown",
   "id": "befdb168",
   "metadata": {},
   "source": [
    "## Conclusion"
   ]
  },
  {
   "cell_type": "markdown",
   "id": "abc50c60",
   "metadata": {},
   "source": [
    "For further reading on the core concepts of LangChain, see [Conceptual Guides](https://python.langchain.com/docs/concepts).\n",
    "\n",
    "See more detailed guides:\n",
    "\n",
    "- [LangChain Expression Language (LCEL)](https://python.langchain.com/docs/how_to/#langchain-expression-language-lcel)\n",
    "- [Prompt templates](https://python.langchain.com/docs/how_to/#prompt-templates)\n",
    "- [Chat models](https://python.langchain.com/docs/how_to/#chat-models)\n",
    "- [Output parsers](https://python.langchain.com/docs/how_to/#output-parsers)\n",
    "- [LangServe](https://python.langchain.com/docs/langserve/)\n",
    "\n",
    "And the LangSmith docs:\n",
    "\n",
    "- [LangSmith](https://docs.smith.langchain.com)"
   ]
  }
 ],
 "metadata": {
  "kernelspec": {
   "display_name": "Python 3 (ipykernel)",
   "language": "python",
   "name": "python3"
  },
  "language_info": {
   "codemirror_mode": {
    "name": "ipython",
    "version": 3
   },
   "file_extension": ".py",
   "mimetype": "text/x-python",
   "name": "python",
   "nbconvert_exporter": "python",
   "pygments_lexer": "ipython3",
   "version": "3.12.4"
  }
 },
 "nbformat": 4,
 "nbformat_minor": 5
}
